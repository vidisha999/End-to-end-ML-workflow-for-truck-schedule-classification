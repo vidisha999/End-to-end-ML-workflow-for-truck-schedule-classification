{
 "cells": [
  {
   "cell_type": "markdown",
   "id": "a9b2eac3-dcb9-42c4-a15b-6ebed1179c3a",
   "metadata": {},
   "source": [
    "## Install necessary Libraries "
   ]
  },
  {
   "cell_type": "code",
   "execution_count": 1,
   "id": "8636887a-1878-43e8-8210-7e1e29af9538",
   "metadata": {},
   "outputs": [
    {
     "name": "stdout",
     "output_type": "stream",
     "text": [
      "Requirement already satisfied: psycopg2 in /home/ec2-user/anaconda3/envs/python3/lib/python3.10/site-packages (2.9.10)\n",
      "Note: you may need to restart the kernel to use updated packages.\n"
     ]
    }
   ],
   "source": [
    "pip install psycopg2"
   ]
  },
  {
   "cell_type": "code",
   "execution_count": 2,
   "id": "2193d1d5-e69f-417c-a7bd-307c3742eede",
   "metadata": {
    "scrolled": true
   },
   "outputs": [
    {
     "name": "stdout",
     "output_type": "stream",
     "text": [
      "Collecting pymysql\n",
      "  Downloading pymysql-1.1.2-py3-none-any.whl.metadata (4.3 kB)\n",
      "Downloading pymysql-1.1.2-py3-none-any.whl (45 kB)\n",
      "Installing collected packages: pymysql\n",
      "Successfully installed pymysql-1.1.2\n"
     ]
    }
   ],
   "source": [
    "!pip install pymysql"
   ]
  },
  {
   "cell_type": "code",
   "execution_count": 3,
   "id": "51fedc6a-467b-4e48-b3eb-432caa5181e8",
   "metadata": {},
   "outputs": [],
   "source": [
    "%%capture\n",
    "import sys\n",
    "!{sys.executable} -m pip install --no-cache-dir --upgrade --force-reinstall pyarrow==14.0.2 pandas==1.5.3 numpy==1.24.4"
   ]
  },
  {
   "cell_type": "code",
   "execution_count": 11,
   "id": "e0720be5-7cfb-4e4b-bbfa-746da0b58ab8",
   "metadata": {},
   "outputs": [],
   "source": [
    "import pandas as pd \n",
    "import numpy as np \n",
    "import matplotlib.pyplot as plt\n",
    "import seaborn as sns\n",
    "pd.set_option('display.max_columns', 500)"
   ]
  },
  {
   "cell_type": "markdown",
   "id": "a68c7030-2621-4899-8543-e4b10fe4dd0e",
   "metadata": {},
   "source": [
    "## Data Fetching "
   ]
  },
  {
   "cell_type": "markdown",
   "id": "b8460a64-7f5c-4bb8-b971-2b8eadd4bea4",
   "metadata": {},
   "source": [
    "Establish a connection to the MySQL and PostgreSQL databases to fetch data."
   ]
  },
  {
   "cell_type": "code",
   "execution_count": 12,
   "id": "42233705-5904-4895-8ac9-3a90d899be1f",
   "metadata": {},
   "outputs": [],
   "source": [
    "import os,json \n",
    "with open('pwd.json') as f:\n",
    "    PWD=json.load(f)['PGPASSWORD']\n",
    "    "
   ]
  },
  {
   "cell_type": "code",
   "execution_count": 13,
   "id": "c4721ced-7f68-43c6-845c-6262249fd907",
   "metadata": {},
   "outputs": [],
   "source": [
    "import psycopg2\n",
    "\n",
    "postgre_conn = psycopg2.connect(\n",
    "    host=\"truck-delay-postgre.cq3akg8ywjpe.us-east-1.rds.amazonaws.com\",\n",
    "    dbname=\"TruckdelayDB\",\n",
    "    user=\"postgres\",\n",
    "    password=PWD,\n",
    "    port=\"5432\")"
   ]
  },
  {
   "cell_type": "code",
   "execution_count": 14,
   "id": "509b7e53-1ee2-490c-baf5-210580b86268",
   "metadata": {},
   "outputs": [],
   "source": [
    "import pymysql\n",
    "\n",
    "mysql_connection = pymysql.connect(\n",
    "     host = \"truck-delay-mysql.cq3akg8ywjpe.us-east-1.rds.amazonaws.com\", \n",
    "     user = \"admin\",                       \n",
    "     password = PWD, \n",
    "     database='TruckDB',\n",
    "    port=3306)\n"
   ]
  },
  {
   "cell_type": "markdown",
   "id": "ae4380e0-b3f2-4e9a-af57-6098fafff291",
   "metadata": {},
   "source": [
    "### Retrieve data from the PostgreSQL database"
   ]
  },
  {
   "cell_type": "code",
   "execution_count": 16,
   "id": "64739552-76a5-4ff2-b474-faa431c5dea1",
   "metadata": {},
   "outputs": [
    {
     "name": "stderr",
     "output_type": "stream",
     "text": [
      "UserWarning: pandas only supports SQLAlchemy connectable (engine/connection) or database string URI or sqlite3 DBAPI2 connection. Other DBAPI2 objects are not tested. Please consider using SQLAlchemy.\n"
     ]
    },
    {
     "data": {
      "text/html": [
       "<div>\n",
       "<style scoped>\n",
       "    .dataframe tbody tr th:only-of-type {\n",
       "        vertical-align: middle;\n",
       "    }\n",
       "\n",
       "    .dataframe tbody tr th {\n",
       "        vertical-align: top;\n",
       "    }\n",
       "\n",
       "    .dataframe thead th {\n",
       "        text-align: right;\n",
       "    }\n",
       "</style>\n",
       "<table border=\"1\" class=\"dataframe\">\n",
       "  <thead>\n",
       "    <tr style=\"text-align: right;\">\n",
       "      <th></th>\n",
       "      <th>route_id</th>\n",
       "      <th>origin_id</th>\n",
       "      <th>destination_id</th>\n",
       "      <th>distance</th>\n",
       "      <th>average_hours</th>\n",
       "    </tr>\n",
       "  </thead>\n",
       "  <tbody>\n",
       "    <tr>\n",
       "      <th>0</th>\n",
       "      <td>R-ada2a391</td>\n",
       "      <td>C-927ceb5e</td>\n",
       "      <td>C-56e39a5e</td>\n",
       "      <td>1735.06</td>\n",
       "      <td>34.70</td>\n",
       "    </tr>\n",
       "    <tr>\n",
       "      <th>1</th>\n",
       "      <td>R-ae0ef31f</td>\n",
       "      <td>C-927ceb5e</td>\n",
       "      <td>C-73ae5412</td>\n",
       "      <td>1498.24</td>\n",
       "      <td>29.96</td>\n",
       "    </tr>\n",
       "    <tr>\n",
       "      <th>2</th>\n",
       "      <td>R-4beec5fd</td>\n",
       "      <td>C-927ceb5e</td>\n",
       "      <td>C-4fe0fa24</td>\n",
       "      <td>6078.46</td>\n",
       "      <td>121.57</td>\n",
       "    </tr>\n",
       "  </tbody>\n",
       "</table>\n",
       "</div>"
      ],
      "text/plain": [
       "     route_id   origin_id destination_id  distance  average_hours\n",
       "0  R-ada2a391  C-927ceb5e     C-56e39a5e   1735.06          34.70\n",
       "1  R-ae0ef31f  C-927ceb5e     C-73ae5412   1498.24          29.96\n",
       "2  R-4beec5fd  C-927ceb5e     C-4fe0fa24   6078.46         121.57"
      ]
     },
     "execution_count": 16,
     "metadata": {},
     "output_type": "execute_result"
    }
   ],
   "source": [
    "routes_details=pd.read_sql(\"select * from routes_details\",postgre_conn)\n",
    "routes_details.head(3)"
   ]
  },
  {
   "cell_type": "code",
   "execution_count": 17,
   "id": "935a1bd0-ee1c-485f-ac47-ede20330e761",
   "metadata": {},
   "outputs": [
    {
     "name": "stderr",
     "output_type": "stream",
     "text": [
      "UserWarning: pandas only supports SQLAlchemy connectable (engine/connection) or database string URI or sqlite3 DBAPI2 connection. Other DBAPI2 objects are not tested. Please consider using SQLAlchemy.\n"
     ]
    },
    {
     "data": {
      "text/html": [
       "<div>\n",
       "<style scoped>\n",
       "    .dataframe tbody tr th:only-of-type {\n",
       "        vertical-align: middle;\n",
       "    }\n",
       "\n",
       "    .dataframe tbody tr th {\n",
       "        vertical-align: top;\n",
       "    }\n",
       "\n",
       "    .dataframe thead th {\n",
       "        text-align: right;\n",
       "    }\n",
       "</style>\n",
       "<table border=\"1\" class=\"dataframe\">\n",
       "  <thead>\n",
       "    <tr style=\"text-align: right;\">\n",
       "      <th></th>\n",
       "      <th>route_id</th>\n",
       "      <th>Date</th>\n",
       "      <th>temp</th>\n",
       "      <th>wind_speed</th>\n",
       "      <th>description</th>\n",
       "      <th>precip</th>\n",
       "      <th>humidity</th>\n",
       "      <th>visibility</th>\n",
       "      <th>pressure</th>\n",
       "      <th>chanceofrain</th>\n",
       "      <th>chanceoffog</th>\n",
       "      <th>chanceofsnow</th>\n",
       "      <th>chanceofthunder</th>\n",
       "    </tr>\n",
       "  </thead>\n",
       "  <tbody>\n",
       "    <tr>\n",
       "      <th>0</th>\n",
       "      <td>R-ada2a391</td>\n",
       "      <td>2019-01-01 00:00:00</td>\n",
       "      <td>30.0</td>\n",
       "      <td>11.0</td>\n",
       "      <td>Heavy snow</td>\n",
       "      <td>0.0</td>\n",
       "      <td>90</td>\n",
       "      <td>1.0</td>\n",
       "      <td>1010</td>\n",
       "      <td>0</td>\n",
       "      <td>0</td>\n",
       "      <td>0</td>\n",
       "      <td>0</td>\n",
       "    </tr>\n",
       "    <tr>\n",
       "      <th>1</th>\n",
       "      <td>R-ada2a391</td>\n",
       "      <td>2019-01-01 06:00:00</td>\n",
       "      <td>30.0</td>\n",
       "      <td>11.0</td>\n",
       "      <td>Heavy snow</td>\n",
       "      <td>0.0</td>\n",
       "      <td>91</td>\n",
       "      <td>3.0</td>\n",
       "      <td>1012</td>\n",
       "      <td>0</td>\n",
       "      <td>0</td>\n",
       "      <td>0</td>\n",
       "      <td>0</td>\n",
       "    </tr>\n",
       "    <tr>\n",
       "      <th>2</th>\n",
       "      <td>R-ada2a391</td>\n",
       "      <td>2019-01-02 00:00:00</td>\n",
       "      <td>28.0</td>\n",
       "      <td>11.0</td>\n",
       "      <td>Cloudy</td>\n",
       "      <td>0.0</td>\n",
       "      <td>91</td>\n",
       "      <td>4.0</td>\n",
       "      <td>1013</td>\n",
       "      <td>0</td>\n",
       "      <td>0</td>\n",
       "      <td>0</td>\n",
       "      <td>0</td>\n",
       "    </tr>\n",
       "  </tbody>\n",
       "</table>\n",
       "</div>"
      ],
      "text/plain": [
       "     route_id                Date  temp  wind_speed description  precip  \\\n",
       "0  R-ada2a391 2019-01-01 00:00:00  30.0        11.0  Heavy snow     0.0   \n",
       "1  R-ada2a391 2019-01-01 06:00:00  30.0        11.0  Heavy snow     0.0   \n",
       "2  R-ada2a391 2019-01-02 00:00:00  28.0        11.0      Cloudy     0.0   \n",
       "\n",
       "   humidity  visibility  pressure  chanceofrain  chanceoffog  chanceofsnow  \\\n",
       "0        90         1.0      1010             0            0             0   \n",
       "1        91         3.0      1012             0            0             0   \n",
       "2        91         4.0      1013             0            0             0   \n",
       "\n",
       "   chanceofthunder  \n",
       "0                0  \n",
       "1                0  \n",
       "2                0  "
      ]
     },
     "execution_count": 17,
     "metadata": {},
     "output_type": "execute_result"
    }
   ],
   "source": [
    "routes_weather=pd.read_sql('select * from routes_weather',postgre_conn)\n",
    "routes_weather.head(3)\n"
   ]
  },
  {
   "cell_type": "markdown",
   "id": "85b9b256-a142-4047-bc62-abfccb29d8eb",
   "metadata": {},
   "source": [
    "### Retrieve data from the MySQL database"
   ]
  },
  {
   "cell_type": "code",
   "execution_count": 18,
   "id": "b3beaf3a-2322-45ba-b773-12393b493126",
   "metadata": {},
   "outputs": [
    {
     "name": "stderr",
     "output_type": "stream",
     "text": [
      "UserWarning: pandas only supports SQLAlchemy connectable (engine/connection) or database string URI or sqlite3 DBAPI2 connection. Other DBAPI2 objects are not tested. Please consider using SQLAlchemy.\n"
     ]
    },
    {
     "data": {
      "text/html": [
       "<div>\n",
       "<style scoped>\n",
       "    .dataframe tbody tr th:only-of-type {\n",
       "        vertical-align: middle;\n",
       "    }\n",
       "\n",
       "    .dataframe tbody tr th {\n",
       "        vertical-align: top;\n",
       "    }\n",
       "\n",
       "    .dataframe thead th {\n",
       "        text-align: right;\n",
       "    }\n",
       "</style>\n",
       "<table border=\"1\" class=\"dataframe\">\n",
       "  <thead>\n",
       "    <tr style=\"text-align: right;\">\n",
       "      <th></th>\n",
       "      <th>city_id</th>\n",
       "      <th>date</th>\n",
       "      <th>hour</th>\n",
       "      <th>temp</th>\n",
       "      <th>wind_speed</th>\n",
       "      <th>description</th>\n",
       "      <th>precip</th>\n",
       "      <th>humidity</th>\n",
       "      <th>visibility</th>\n",
       "      <th>pressure</th>\n",
       "      <th>chanceofrain</th>\n",
       "      <th>chanceoffog</th>\n",
       "      <th>chanceofsnow</th>\n",
       "      <th>chanceofthunder</th>\n",
       "    </tr>\n",
       "  </thead>\n",
       "  <tbody>\n",
       "    <tr>\n",
       "      <th>0</th>\n",
       "      <td>C-927ceb5e</td>\n",
       "      <td>2019-01-01</td>\n",
       "      <td>0</td>\n",
       "      <td>30.0</td>\n",
       "      <td>11.0</td>\n",
       "      <td>Light snow</td>\n",
       "      <td>0.0</td>\n",
       "      <td>86</td>\n",
       "      <td>6.0</td>\n",
       "      <td>1019.0</td>\n",
       "      <td>0.0</td>\n",
       "      <td>0.0</td>\n",
       "      <td>0.0</td>\n",
       "      <td>0.0</td>\n",
       "    </tr>\n",
       "    <tr>\n",
       "      <th>1</th>\n",
       "      <td>C-927ceb5e</td>\n",
       "      <td>2019-01-01</td>\n",
       "      <td>100</td>\n",
       "      <td>28.0</td>\n",
       "      <td>12.0</td>\n",
       "      <td>Light snow</td>\n",
       "      <td>0.0</td>\n",
       "      <td>86</td>\n",
       "      <td>5.0</td>\n",
       "      <td>1021.0</td>\n",
       "      <td>0.0</td>\n",
       "      <td>0.0</td>\n",
       "      <td>0.0</td>\n",
       "      <td>0.0</td>\n",
       "    </tr>\n",
       "    <tr>\n",
       "      <th>2</th>\n",
       "      <td>C-927ceb5e</td>\n",
       "      <td>2019-01-01</td>\n",
       "      <td>200</td>\n",
       "      <td>28.0</td>\n",
       "      <td>13.0</td>\n",
       "      <td>Moderate snow</td>\n",
       "      <td>0.0</td>\n",
       "      <td>85</td>\n",
       "      <td>4.0</td>\n",
       "      <td>1022.0</td>\n",
       "      <td>0.0</td>\n",
       "      <td>0.0</td>\n",
       "      <td>0.0</td>\n",
       "      <td>0.0</td>\n",
       "    </tr>\n",
       "  </tbody>\n",
       "</table>\n",
       "</div>"
      ],
      "text/plain": [
       "      city_id        date  hour  temp  wind_speed    description  precip  \\\n",
       "0  C-927ceb5e  2019-01-01     0  30.0        11.0     Light snow     0.0   \n",
       "1  C-927ceb5e  2019-01-01   100  28.0        12.0     Light snow     0.0   \n",
       "2  C-927ceb5e  2019-01-01   200  28.0        13.0  Moderate snow     0.0   \n",
       "\n",
       "   humidity  visibility  pressure  chanceofrain  chanceoffog  chanceofsnow  \\\n",
       "0        86         6.0    1019.0           0.0          0.0           0.0   \n",
       "1        86         5.0    1021.0           0.0          0.0           0.0   \n",
       "2        85         4.0    1022.0           0.0          0.0           0.0   \n",
       "\n",
       "   chanceofthunder  \n",
       "0              0.0  \n",
       "1              0.0  \n",
       "2              0.0  "
      ]
     },
     "execution_count": 18,
     "metadata": {},
     "output_type": "execute_result"
    }
   ],
   "source": [
    "city_weather=pd.read_sql('select * from city_weather',mysql_connection)\n",
    "city_weather.head(3)"
   ]
  },
  {
   "cell_type": "code",
   "execution_count": 15,
   "id": "1f71b134-9196-4217-b9a5-612355085647",
   "metadata": {},
   "outputs": [
    {
     "name": "stderr",
     "output_type": "stream",
     "text": [
      "UserWarning: pandas only supports SQLAlchemy connectable (engine/connection) or database string URI or sqlite3 DBAPI2 connection. Other DBAPI2 objects are not tested. Please consider using SQLAlchemy.\n"
     ]
    },
    {
     "data": {
      "text/html": [
       "<div>\n",
       "<style scoped>\n",
       "    .dataframe tbody tr th:only-of-type {\n",
       "        vertical-align: middle;\n",
       "    }\n",
       "\n",
       "    .dataframe tbody tr th {\n",
       "        vertical-align: top;\n",
       "    }\n",
       "\n",
       "    .dataframe thead th {\n",
       "        text-align: right;\n",
       "    }\n",
       "</style>\n",
       "<table border=\"1\" class=\"dataframe\">\n",
       "  <thead>\n",
       "    <tr style=\"text-align: right;\">\n",
       "      <th></th>\n",
       "      <th>driver_id</th>\n",
       "      <th>name</th>\n",
       "      <th>gender</th>\n",
       "      <th>age</th>\n",
       "      <th>experience</th>\n",
       "      <th>driving_style</th>\n",
       "      <th>ratings</th>\n",
       "      <th>vehicle_no</th>\n",
       "      <th>average_speed_mph</th>\n",
       "    </tr>\n",
       "  </thead>\n",
       "  <tbody>\n",
       "    <tr>\n",
       "      <th>0</th>\n",
       "      <td>d9f30553-6</td>\n",
       "      <td>Daniel Marks</td>\n",
       "      <td>male</td>\n",
       "      <td>47</td>\n",
       "      <td>5</td>\n",
       "      <td>proactive</td>\n",
       "      <td>7</td>\n",
       "      <td>42302347</td>\n",
       "      <td>62.22</td>\n",
       "    </tr>\n",
       "    <tr>\n",
       "      <th>1</th>\n",
       "      <td>82de7bb8-2</td>\n",
       "      <td>Clifford Carr</td>\n",
       "      <td>male</td>\n",
       "      <td>47</td>\n",
       "      <td>14</td>\n",
       "      <td>proactive</td>\n",
       "      <td>4</td>\n",
       "      <td>27867488</td>\n",
       "      <td>60.89</td>\n",
       "    </tr>\n",
       "    <tr>\n",
       "      <th>2</th>\n",
       "      <td>7e789842-4</td>\n",
       "      <td>Terry Faulkner MD</td>\n",
       "      <td>male</td>\n",
       "      <td>41</td>\n",
       "      <td>9</td>\n",
       "      <td>conservative</td>\n",
       "      <td>2</td>\n",
       "      <td>13927774</td>\n",
       "      <td>53.67</td>\n",
       "    </tr>\n",
       "  </tbody>\n",
       "</table>\n",
       "</div>"
      ],
      "text/plain": [
       "    driver_id               name gender  age  experience driving_style  \\\n",
       "0  d9f30553-6       Daniel Marks   male   47           5     proactive   \n",
       "1  82de7bb8-2      Clifford Carr   male   47          14     proactive   \n",
       "2  7e789842-4  Terry Faulkner MD   male   41           9  conservative   \n",
       "\n",
       "   ratings  vehicle_no  average_speed_mph  \n",
       "0        7    42302347              62.22  \n",
       "1        4    27867488              60.89  \n",
       "2        2    13927774              53.67  "
      ]
     },
     "execution_count": 15,
     "metadata": {},
     "output_type": "execute_result"
    }
   ],
   "source": [
    "drivers_details=pd.read_sql('select * from drivers_details',mysql_connection)\n",
    "drivers_details.head(3)"
   ]
  },
  {
   "cell_type": "code",
   "execution_count": 19,
   "id": "123c01c3-831e-40e8-9c6b-a2500e943acd",
   "metadata": {},
   "outputs": [
    {
     "name": "stderr",
     "output_type": "stream",
     "text": [
      "UserWarning: pandas only supports SQLAlchemy connectable (engine/connection) or database string URI or sqlite3 DBAPI2 connection. Other DBAPI2 objects are not tested. Please consider using SQLAlchemy.\n"
     ]
    },
    {
     "data": {
      "text/html": [
       "<div>\n",
       "<style scoped>\n",
       "    .dataframe tbody tr th:only-of-type {\n",
       "        vertical-align: middle;\n",
       "    }\n",
       "\n",
       "    .dataframe tbody tr th {\n",
       "        vertical-align: top;\n",
       "    }\n",
       "\n",
       "    .dataframe thead th {\n",
       "        text-align: right;\n",
       "    }\n",
       "</style>\n",
       "<table border=\"1\" class=\"dataframe\">\n",
       "  <thead>\n",
       "    <tr style=\"text-align: right;\">\n",
       "      <th></th>\n",
       "      <th>route_id</th>\n",
       "      <th>date</th>\n",
       "      <th>hour</th>\n",
       "      <th>no_of_vehicles</th>\n",
       "      <th>accident</th>\n",
       "    </tr>\n",
       "  </thead>\n",
       "  <tbody>\n",
       "    <tr>\n",
       "      <th>0</th>\n",
       "      <td>R-ada2a391</td>\n",
       "      <td>2019-01-01</td>\n",
       "      <td>0</td>\n",
       "      <td>669.0</td>\n",
       "      <td>0</td>\n",
       "    </tr>\n",
       "    <tr>\n",
       "      <th>1</th>\n",
       "      <td>R-ada2a391</td>\n",
       "      <td>2019-01-01</td>\n",
       "      <td>100</td>\n",
       "      <td>628.0</td>\n",
       "      <td>0</td>\n",
       "    </tr>\n",
       "    <tr>\n",
       "      <th>2</th>\n",
       "      <td>R-ada2a391</td>\n",
       "      <td>2019-01-01</td>\n",
       "      <td>200</td>\n",
       "      <td>516.0</td>\n",
       "      <td>0</td>\n",
       "    </tr>\n",
       "  </tbody>\n",
       "</table>\n",
       "</div>"
      ],
      "text/plain": [
       "     route_id        date  hour  no_of_vehicles  accident\n",
       "0  R-ada2a391  2019-01-01     0           669.0         0\n",
       "1  R-ada2a391  2019-01-01   100           628.0         0\n",
       "2  R-ada2a391  2019-01-01   200           516.0         0"
      ]
     },
     "execution_count": 19,
     "metadata": {},
     "output_type": "execute_result"
    }
   ],
   "source": [
    "traffic_details=pd.read_sql('select * from traffic_details',mysql_connection)\n",
    "traffic_details.head(3)"
   ]
  },
  {
   "cell_type": "code",
   "execution_count": 20,
   "id": "29b91dfa-749e-48ca-a8a6-c4616c067ae4",
   "metadata": {},
   "outputs": [
    {
     "name": "stderr",
     "output_type": "stream",
     "text": [
      "UserWarning: pandas only supports SQLAlchemy connectable (engine/connection) or database string URI or sqlite3 DBAPI2 connection. Other DBAPI2 objects are not tested. Please consider using SQLAlchemy.\n"
     ]
    },
    {
     "data": {
      "text/html": [
       "<div>\n",
       "<style scoped>\n",
       "    .dataframe tbody tr th:only-of-type {\n",
       "        vertical-align: middle;\n",
       "    }\n",
       "\n",
       "    .dataframe tbody tr th {\n",
       "        vertical-align: top;\n",
       "    }\n",
       "\n",
       "    .dataframe thead th {\n",
       "        text-align: right;\n",
       "    }\n",
       "</style>\n",
       "<table border=\"1\" class=\"dataframe\">\n",
       "  <thead>\n",
       "    <tr style=\"text-align: right;\">\n",
       "      <th></th>\n",
       "      <th>truck_id</th>\n",
       "      <th>truck_age</th>\n",
       "      <th>load_capacity_pounds</th>\n",
       "      <th>mileage_mpg</th>\n",
       "      <th>fuel_type</th>\n",
       "    </tr>\n",
       "  </thead>\n",
       "  <tbody>\n",
       "    <tr>\n",
       "      <th>0</th>\n",
       "      <td>42302347</td>\n",
       "      <td>10</td>\n",
       "      <td>3000.0</td>\n",
       "      <td>17</td>\n",
       "      <td>gas</td>\n",
       "    </tr>\n",
       "    <tr>\n",
       "      <th>1</th>\n",
       "      <td>27867488</td>\n",
       "      <td>14</td>\n",
       "      <td>10000.0</td>\n",
       "      <td>22</td>\n",
       "      <td>diesel</td>\n",
       "    </tr>\n",
       "    <tr>\n",
       "      <th>2</th>\n",
       "      <td>13927774</td>\n",
       "      <td>8</td>\n",
       "      <td>10000.0</td>\n",
       "      <td>19</td>\n",
       "      <td>gas</td>\n",
       "    </tr>\n",
       "  </tbody>\n",
       "</table>\n",
       "</div>"
      ],
      "text/plain": [
       "   truck_id  truck_age  load_capacity_pounds  mileage_mpg fuel_type\n",
       "0  42302347         10                3000.0           17       gas\n",
       "1  27867488         14               10000.0           22    diesel\n",
       "2  13927774          8               10000.0           19       gas"
      ]
     },
     "execution_count": 20,
     "metadata": {},
     "output_type": "execute_result"
    }
   ],
   "source": [
    "truck_details=pd.read_sql('select * from truck_details',mysql_connection)\n",
    "truck_details.head(3)"
   ]
  },
  {
   "cell_type": "code",
   "execution_count": 21,
   "id": "61d3b417-bae9-42e7-8d70-855b46ec2bbd",
   "metadata": {},
   "outputs": [
    {
     "name": "stderr",
     "output_type": "stream",
     "text": [
      "UserWarning: pandas only supports SQLAlchemy connectable (engine/connection) or database string URI or sqlite3 DBAPI2 connection. Other DBAPI2 objects are not tested. Please consider using SQLAlchemy.\n"
     ]
    },
    {
     "data": {
      "text/html": [
       "<div>\n",
       "<style scoped>\n",
       "    .dataframe tbody tr th:only-of-type {\n",
       "        vertical-align: middle;\n",
       "    }\n",
       "\n",
       "    .dataframe tbody tr th {\n",
       "        vertical-align: top;\n",
       "    }\n",
       "\n",
       "    .dataframe thead th {\n",
       "        text-align: right;\n",
       "    }\n",
       "</style>\n",
       "<table border=\"1\" class=\"dataframe\">\n",
       "  <thead>\n",
       "    <tr style=\"text-align: right;\">\n",
       "      <th></th>\n",
       "      <th>truck_id</th>\n",
       "      <th>route_id</th>\n",
       "      <th>departure_date</th>\n",
       "      <th>estimated_arrival</th>\n",
       "      <th>delay</th>\n",
       "    </tr>\n",
       "  </thead>\n",
       "  <tbody>\n",
       "    <tr>\n",
       "      <th>0</th>\n",
       "      <td>30312694</td>\n",
       "      <td>R-b236e347</td>\n",
       "      <td>2019-01-01 07:00:00</td>\n",
       "      <td>2019-01-01 13:13:12.</td>\n",
       "      <td>0</td>\n",
       "    </tr>\n",
       "    <tr>\n",
       "      <th>1</th>\n",
       "      <td>59856374</td>\n",
       "      <td>R-29ea762e</td>\n",
       "      <td>2019-01-01 07:00:00</td>\n",
       "      <td>2019-01-02 04:01:12.</td>\n",
       "      <td>0</td>\n",
       "    </tr>\n",
       "    <tr>\n",
       "      <th>2</th>\n",
       "      <td>12602955</td>\n",
       "      <td>R-a3d67783</td>\n",
       "      <td>2019-01-01 07:00:00</td>\n",
       "      <td>2019-01-01 07:45:36.</td>\n",
       "      <td>0</td>\n",
       "    </tr>\n",
       "  </tbody>\n",
       "</table>\n",
       "</div>"
      ],
      "text/plain": [
       "   truck_id    route_id      departure_date     estimated_arrival  delay\n",
       "0  30312694  R-b236e347 2019-01-01 07:00:00  2019-01-01 13:13:12.      0\n",
       "1  59856374  R-29ea762e 2019-01-01 07:00:00  2019-01-02 04:01:12.      0\n",
       "2  12602955  R-a3d67783 2019-01-01 07:00:00  2019-01-01 07:45:36.      0"
      ]
     },
     "execution_count": 21,
     "metadata": {},
     "output_type": "execute_result"
    }
   ],
   "source": [
    "truck_schedule_data=pd.read_sql('select * from truck_schedule_data',mysql_connection)\n",
    "truck_schedule_data.head(3)"
   ]
  },
  {
   "cell_type": "markdown",
   "id": "73228161-e8fe-43c6-9898-8669ef778c99",
   "metadata": {},
   "source": [
    "## Exploratory Data Analysis "
   ]
  },
  {
   "cell_type": "code",
   "execution_count": 22,
   "id": "0133f245-db8c-4740-953d-93043dc2dcdb",
   "metadata": {},
   "outputs": [],
   "source": [
    "# Converting all date columns of the each dataframe to the 'datetime' object \n",
    "city_weather['date']= pd.to_datetime(city_weather['date'])\n",
    "traffic_details['date']=pd.to_datetime(traffic_details['date'])\n",
    "truck_schedule_data['estimated_arrival']=pd.to_datetime(truck_schedule_data['estimated_arrival'])\n",
    "truck_schedule_data['departure_date']=pd.to_datetime(truck_schedule_data['departure_date'])"
   ]
  },
  {
   "cell_type": "markdown",
   "id": "856c8cd2-9148-4b04-9ca2-3e0eccc4e84b",
   "metadata": {},
   "source": [
    "#### Explore Dataframes \n",
    "#### I. Driver's Details Analysis"
   ]
  },
  {
   "cell_type": "code",
   "execution_count": 16,
   "id": "39d5805c-895e-498e-a909-99b89b2b2836",
   "metadata": {},
   "outputs": [
    {
     "name": "stdout",
     "output_type": "stream",
     "text": [
      "<class 'pandas.core.frame.DataFrame'>\n",
      "RangeIndex: 1300 entries, 0 to 1299\n",
      "Data columns (total 9 columns):\n",
      " #   Column             Non-Null Count  Dtype  \n",
      "---  ------             --------------  -----  \n",
      " 0   driver_id          1300 non-null   object \n",
      " 1   name               1300 non-null   object \n",
      " 2   gender             1277 non-null   object \n",
      " 3   age                1300 non-null   int64  \n",
      " 4   experience         1300 non-null   int64  \n",
      " 5   driving_style      1248 non-null   object \n",
      " 6   ratings            1300 non-null   int64  \n",
      " 7   vehicle_no         1300 non-null   int64  \n",
      " 8   average_speed_mph  1300 non-null   float64\n",
      "dtypes: float64(1), int64(4), object(4)\n",
      "memory usage: 91.5+ KB\n"
     ]
    }
   ],
   "source": [
    "drivers_details.info()"
   ]
  },
  {
   "cell_type": "code",
   "execution_count": 17,
   "id": "e46cee6f-29a2-4c05-b2fb-6d73f5f34dc1",
   "metadata": {},
   "outputs": [
    {
     "data": {
      "text/html": [
       "<div>\n",
       "<style scoped>\n",
       "    .dataframe tbody tr th:only-of-type {\n",
       "        vertical-align: middle;\n",
       "    }\n",
       "\n",
       "    .dataframe tbody tr th {\n",
       "        vertical-align: top;\n",
       "    }\n",
       "\n",
       "    .dataframe thead th {\n",
       "        text-align: right;\n",
       "    }\n",
       "</style>\n",
       "<table border=\"1\" class=\"dataframe\">\n",
       "  <thead>\n",
       "    <tr style=\"text-align: right;\">\n",
       "      <th></th>\n",
       "      <th>driver_id</th>\n",
       "      <th>name</th>\n",
       "      <th>gender</th>\n",
       "      <th>age</th>\n",
       "      <th>experience</th>\n",
       "      <th>driving_style</th>\n",
       "      <th>ratings</th>\n",
       "      <th>vehicle_no</th>\n",
       "      <th>average_speed_mph</th>\n",
       "    </tr>\n",
       "  </thead>\n",
       "  <tbody>\n",
       "    <tr>\n",
       "      <th>count</th>\n",
       "      <td>1300</td>\n",
       "      <td>1300</td>\n",
       "      <td>1277</td>\n",
       "      <td>1300.000000</td>\n",
       "      <td>1300.000000</td>\n",
       "      <td>1248</td>\n",
       "      <td>1300.000000</td>\n",
       "      <td>1.300000e+03</td>\n",
       "      <td>1300.000000</td>\n",
       "    </tr>\n",
       "    <tr>\n",
       "      <th>unique</th>\n",
       "      <td>1300</td>\n",
       "      <td>1274</td>\n",
       "      <td>2</td>\n",
       "      <td>NaN</td>\n",
       "      <td>NaN</td>\n",
       "      <td>2</td>\n",
       "      <td>NaN</td>\n",
       "      <td>NaN</td>\n",
       "      <td>NaN</td>\n",
       "    </tr>\n",
       "    <tr>\n",
       "      <th>top</th>\n",
       "      <td>d9f30553-6</td>\n",
       "      <td>Michael Parker</td>\n",
       "      <td>male</td>\n",
       "      <td>NaN</td>\n",
       "      <td>NaN</td>\n",
       "      <td>proactive</td>\n",
       "      <td>NaN</td>\n",
       "      <td>NaN</td>\n",
       "      <td>NaN</td>\n",
       "    </tr>\n",
       "    <tr>\n",
       "      <th>freq</th>\n",
       "      <td>1</td>\n",
       "      <td>3</td>\n",
       "      <td>1198</td>\n",
       "      <td>NaN</td>\n",
       "      <td>NaN</td>\n",
       "      <td>648</td>\n",
       "      <td>NaN</td>\n",
       "      <td>NaN</td>\n",
       "      <td>NaN</td>\n",
       "    </tr>\n",
       "    <tr>\n",
       "      <th>mean</th>\n",
       "      <td>NaN</td>\n",
       "      <td>NaN</td>\n",
       "      <td>NaN</td>\n",
       "      <td>47.814615</td>\n",
       "      <td>11.988462</td>\n",
       "      <td>NaN</td>\n",
       "      <td>5.633846</td>\n",
       "      <td>3.263242e+07</td>\n",
       "      <td>53.262854</td>\n",
       "    </tr>\n",
       "    <tr>\n",
       "      <th>std</th>\n",
       "      <td>NaN</td>\n",
       "      <td>NaN</td>\n",
       "      <td>NaN</td>\n",
       "      <td>4.973240</td>\n",
       "      <td>6.951765</td>\n",
       "      <td>NaN</td>\n",
       "      <td>2.137266</td>\n",
       "      <td>2.205390e+07</td>\n",
       "      <td>8.504282</td>\n",
       "    </tr>\n",
       "    <tr>\n",
       "      <th>min</th>\n",
       "      <td>NaN</td>\n",
       "      <td>NaN</td>\n",
       "      <td>NaN</td>\n",
       "      <td>28.000000</td>\n",
       "      <td>-8.000000</td>\n",
       "      <td>NaN</td>\n",
       "      <td>2.000000</td>\n",
       "      <td>1.000839e+07</td>\n",
       "      <td>29.150000</td>\n",
       "    </tr>\n",
       "    <tr>\n",
       "      <th>25%</th>\n",
       "      <td>NaN</td>\n",
       "      <td>NaN</td>\n",
       "      <td>NaN</td>\n",
       "      <td>45.000000</td>\n",
       "      <td>7.000000</td>\n",
       "      <td>NaN</td>\n",
       "      <td>4.000000</td>\n",
       "      <td>1.817244e+07</td>\n",
       "      <td>45.427500</td>\n",
       "    </tr>\n",
       "    <tr>\n",
       "      <th>50%</th>\n",
       "      <td>NaN</td>\n",
       "      <td>NaN</td>\n",
       "      <td>NaN</td>\n",
       "      <td>48.000000</td>\n",
       "      <td>11.000000</td>\n",
       "      <td>NaN</td>\n",
       "      <td>6.000000</td>\n",
       "      <td>2.584212e+07</td>\n",
       "      <td>57.340000</td>\n",
       "    </tr>\n",
       "    <tr>\n",
       "      <th>75%</th>\n",
       "      <td>NaN</td>\n",
       "      <td>NaN</td>\n",
       "      <td>NaN</td>\n",
       "      <td>51.000000</td>\n",
       "      <td>17.000000</td>\n",
       "      <td>NaN</td>\n",
       "      <td>8.000000</td>\n",
       "      <td>3.340052e+07</td>\n",
       "      <td>60.350000</td>\n",
       "    </tr>\n",
       "    <tr>\n",
       "      <th>max</th>\n",
       "      <td>NaN</td>\n",
       "      <td>NaN</td>\n",
       "      <td>NaN</td>\n",
       "      <td>65.000000</td>\n",
       "      <td>35.000000</td>\n",
       "      <td>NaN</td>\n",
       "      <td>9.000000</td>\n",
       "      <td>9.998167e+07</td>\n",
       "      <td>67.240000</td>\n",
       "    </tr>\n",
       "  </tbody>\n",
       "</table>\n",
       "</div>"
      ],
      "text/plain": [
       "         driver_id            name gender          age   experience  \\\n",
       "count         1300            1300   1277  1300.000000  1300.000000   \n",
       "unique        1300            1274      2          NaN          NaN   \n",
       "top     d9f30553-6  Michael Parker   male          NaN          NaN   \n",
       "freq             1               3   1198          NaN          NaN   \n",
       "mean           NaN             NaN    NaN    47.814615    11.988462   \n",
       "std            NaN             NaN    NaN     4.973240     6.951765   \n",
       "min            NaN             NaN    NaN    28.000000    -8.000000   \n",
       "25%            NaN             NaN    NaN    45.000000     7.000000   \n",
       "50%            NaN             NaN    NaN    48.000000    11.000000   \n",
       "75%            NaN             NaN    NaN    51.000000    17.000000   \n",
       "max            NaN             NaN    NaN    65.000000    35.000000   \n",
       "\n",
       "       driving_style      ratings    vehicle_no  average_speed_mph  \n",
       "count           1248  1300.000000  1.300000e+03        1300.000000  \n",
       "unique             2          NaN           NaN                NaN  \n",
       "top        proactive          NaN           NaN                NaN  \n",
       "freq             648          NaN           NaN                NaN  \n",
       "mean             NaN     5.633846  3.263242e+07          53.262854  \n",
       "std              NaN     2.137266  2.205390e+07           8.504282  \n",
       "min              NaN     2.000000  1.000839e+07          29.150000  \n",
       "25%              NaN     4.000000  1.817244e+07          45.427500  \n",
       "50%              NaN     6.000000  2.584212e+07          57.340000  \n",
       "75%              NaN     8.000000  3.340052e+07          60.350000  \n",
       "max              NaN     9.000000  9.998167e+07          67.240000  "
      ]
     },
     "execution_count": 17,
     "metadata": {},
     "output_type": "execute_result"
    }
   ],
   "source": [
    "drivers_details.describe(include='all')"
   ]
  },
  {
   "cell_type": "code",
   "execution_count": 18,
   "id": "e7a13607-21c5-4f1c-ba8e-cccfd3f8640c",
   "metadata": {},
   "outputs": [
    {
     "data": {
      "text/plain": [
       "driver_id             0\n",
       "name                  0\n",
       "gender               23\n",
       "age                   0\n",
       "experience            0\n",
       "driving_style        52\n",
       "ratings               0\n",
       "vehicle_no            0\n",
       "average_speed_mph     0\n",
       "dtype: int64"
      ]
     },
     "execution_count": 18,
     "metadata": {},
     "output_type": "execute_result"
    }
   ],
   "source": [
    "drivers_details.isnull().sum()"
   ]
  },
  {
   "cell_type": "markdown",
   "id": "a53ef193-be79-4052-adc2-31342f89ac69",
   "metadata": {},
   "source": [
    "Both gender and driving style columns have null values. Those missing values will be imputed or dropped after splitting the datasets for testing, to avoid a potential data leakage. For prelimnary data analysis at this phase those columns will be filled as unknown.\n",
    "\n",
    "A visual representation of the shape of distribution of numerical columns and the relative density of data at different values is done by plotting a density plot. It is a smooth representation of the distribution of data which is calculated by fitting the probability density function to the histogram of data.\n"
   ]
  },
  {
   "cell_type": "code",
   "execution_count": 23,
   "id": "bd3e7ad0-56fa-456d-925c-7781165fcb58",
   "metadata": {},
   "outputs": [],
   "source": [
    "drivers_details['gender'].fillna('unknown',inplace=True)\n",
    "drivers_details['driving_style'].fillna('unknown',inplace=True)"
   ]
  },
  {
   "cell_type": "code",
   "execution_count": 20,
   "id": "81f0d43e-bd3b-4b7f-8593-e07ce9857dbf",
   "metadata": {},
   "outputs": [
    {
     "data": {
      "image/png": "[encoded data removed]",
      "text/plain": [
       "<Figure size 1200x1000 with 4 Axes>"
      ]
     },
     "metadata": {},
     "output_type": "display_data"
    }
   ],
   "source": [
    "# Plot KDE distribution plots \n",
    "\n",
    "num_cols= ['age','experience','ratings','average_speed_mph']\n",
    "fig,axes=plt.subplots(2,2,figsize=(12, 10))\n",
    "axes = axes.flat\n",
    "for ax,col in zip(axes,num_cols): \n",
    "    sns.histplot(data=drivers_details,x=col,bins=20,kde=True,ax=ax)\n",
    "    ax.set_title(f'The distriution of {col}')\n",
    "    ax.set_xlabel(col)\n",
    "    ax.set_ylabel('Count')\n",
    "\n",
    "plt.tight_layout()\n",
    "plt.show()\n"
   ]
  },
  {
   "cell_type": "markdown",
   "id": "eeaa85ae-f955-4794-920f-ea31ebf5df41",
   "metadata": {},
   "source": [
    "The distribution of driver's age is approximately normally dsitributed with most drivers were in the age range of 45-50. \n",
    "The distribution of driver's experience is slightly left skewed with most drivers have epxeriences between 5 to 20 years.This suggests although older drivers may have more experience they may be more susceptible to fatigue and health-related conditions. It is important to analyze the relationship between the level of experience and the driving efficiency , so it can recommend to assign routes to drivers based on the experiences, as it could avoid potential delays.implementing appropriate rest policies and providing enough training with proper driving techniques could help imrove the driving efficiency.\n",
    "\n",
    "There are signinificant number of drivers with low ratings and company should investigate into factors that causes it which may indicate potential driver's poor performance or customer disatisfaction.\n",
    "\n",
    "The bimodal distribution of average speeds, peaking around 45 and 60 mph, suggests the presence of two distinct groups of drivers with different driving styles.It indicate a split between drivers who adopt a more cautious driving style (lower average speed) and those who adopt a more aggressive driving style (higher average speed) which both are not recommended.The company can consider categorizing drivers based on their average speed behavior and analyze how different driving styles impact ETA, fuel efficiency, and safety.\n",
    "\n",
    "This can help with training and driving style guidelines for drivers for overall improvemnent in delivery times."
   ]
  },
  {
   "cell_type": "code",
   "execution_count": 21,
   "id": "a1749534-c595-466b-9d86-6b980f260f50",
   "metadata": {},
   "outputs": [
    {
     "data": {
      "image/png": "[encoded data removed]",
      "text/plain": [
       "<Figure size 1200x600 with 2 Axes>"
      ]
     },
     "metadata": {},
     "output_type": "display_data"
    }
   ],
   "source": [
    " # Plot boxplots to analyze the relationship between different drivers attributes \n",
    "cat_cols=['gender','driving_style']\n",
    "\n",
    "fig, axes= plt.subplots(1,2,figsize=(12,6))\n",
    "\n",
    "for i,cat in enumerate(cat_cols): \n",
    "    sns.boxplot(x=cat,y='ratings',data=drivers_details,ax=axes.flat[i])\n",
    "    axes.flat[i].set_title(f'Driver Ratings by {cat}')\n",
    "    axes.flat[i].set_xlabel(cat)\n",
    "    axes.flat[i].set_ylabel('Ratings in scale of 10')\n",
    "\n",
    "plt.tight_layout()\n",
    "plt.show()\n"
   ]
  },
  {
   "cell_type": "markdown",
   "id": "905ad476-3b35-4c6f-8f44-d61afcc009b6",
   "metadata": {},
   "source": [
    "#### II. Truck Details Analysis "
   ]
  },
  {
   "cell_type": "code",
   "execution_count": 22,
   "id": "813f4348-271c-4edc-95e7-a4733007b99d",
   "metadata": {},
   "outputs": [
    {
     "name": "stdout",
     "output_type": "stream",
     "text": [
      "<class 'pandas.core.frame.DataFrame'>\n",
      "RangeIndex: 1300 entries, 0 to 1299\n",
      "Data columns (total 5 columns):\n",
      " #   Column                Non-Null Count  Dtype  \n",
      "---  ------                --------------  -----  \n",
      " 0   truck_id              1300 non-null   int64  \n",
      " 1   truck_age             1300 non-null   int64  \n",
      " 2   load_capacity_pounds  1243 non-null   float64\n",
      " 3   mileage_mpg           1300 non-null   int64  \n",
      " 4   fuel_type             1300 non-null   object \n",
      "dtypes: float64(1), int64(3), object(1)\n",
      "memory usage: 50.9+ KB\n"
     ]
    }
   ],
   "source": [
    "truck_details.info()"
   ]
  },
  {
   "cell_type": "code",
   "execution_count": 23,
   "id": "fc1bd335-2fc6-4335-8ce9-2662126b307f",
   "metadata": {},
   "outputs": [
    {
     "data": {
      "text/plain": [
       "truck_id                 0\n",
       "truck_age                0\n",
       "load_capacity_pounds    57\n",
       "mileage_mpg              0\n",
       "fuel_type                0\n",
       "dtype: int64"
      ]
     },
     "execution_count": 23,
     "metadata": {},
     "output_type": "execute_result"
    }
   ],
   "source": [
    "truck_details.isnull().sum()"
   ]
  },
  {
   "cell_type": "code",
   "execution_count": 24,
   "id": "1f85e2ac-022a-4a46-9a2b-632e34cf5abb",
   "metadata": {},
   "outputs": [],
   "source": [
    "# Replpacing the null values in the load_apacity_pounds column as\"unknown'\n",
    "### truck_details['load_capacity_pounds'].fillna('unknown',inplace=True)"
   ]
  },
  {
   "cell_type": "code",
   "execution_count": 25,
   "id": "75b676f0-3fec-43bb-b1a4-ea25769e36fb",
   "metadata": {},
   "outputs": [
    {
     "data": {
      "text/html": [
       "<div>\n",
       "<style scoped>\n",
       "    .dataframe tbody tr th:only-of-type {\n",
       "        vertical-align: middle;\n",
       "    }\n",
       "\n",
       "    .dataframe tbody tr th {\n",
       "        vertical-align: top;\n",
       "    }\n",
       "\n",
       "    .dataframe thead th {\n",
       "        text-align: right;\n",
       "    }\n",
       "</style>\n",
       "<table border=\"1\" class=\"dataframe\">\n",
       "  <thead>\n",
       "    <tr style=\"text-align: right;\">\n",
       "      <th></th>\n",
       "      <th>truck_id</th>\n",
       "      <th>truck_age</th>\n",
       "      <th>load_capacity_pounds</th>\n",
       "      <th>mileage_mpg</th>\n",
       "      <th>fuel_type</th>\n",
       "    </tr>\n",
       "  </thead>\n",
       "  <tbody>\n",
       "    <tr>\n",
       "      <th>count</th>\n",
       "      <td>1.300000e+03</td>\n",
       "      <td>1300.000000</td>\n",
       "      <td>1243.000000</td>\n",
       "      <td>1300.000000</td>\n",
       "      <td>1300</td>\n",
       "    </tr>\n",
       "    <tr>\n",
       "      <th>unique</th>\n",
       "      <td>NaN</td>\n",
       "      <td>NaN</td>\n",
       "      <td>NaN</td>\n",
       "      <td>NaN</td>\n",
       "      <td>3</td>\n",
       "    </tr>\n",
       "    <tr>\n",
       "      <th>top</th>\n",
       "      <td>NaN</td>\n",
       "      <td>NaN</td>\n",
       "      <td>NaN</td>\n",
       "      <td>NaN</td>\n",
       "      <td>diesel</td>\n",
       "    </tr>\n",
       "    <tr>\n",
       "      <th>freq</th>\n",
       "      <td>NaN</td>\n",
       "      <td>NaN</td>\n",
       "      <td>NaN</td>\n",
       "      <td>NaN</td>\n",
       "      <td>692</td>\n",
       "    </tr>\n",
       "    <tr>\n",
       "      <th>mean</th>\n",
       "      <td>3.263242e+07</td>\n",
       "      <td>9.513077</td>\n",
       "      <td>8610.619469</td>\n",
       "      <td>20.784615</td>\n",
       "      <td>NaN</td>\n",
       "    </tr>\n",
       "    <tr>\n",
       "      <th>std</th>\n",
       "      <td>2.205390e+07</td>\n",
       "      <td>2.039030</td>\n",
       "      <td>5583.759795</td>\n",
       "      <td>3.655876</td>\n",
       "      <td>NaN</td>\n",
       "    </tr>\n",
       "    <tr>\n",
       "      <th>min</th>\n",
       "      <td>1.000839e+07</td>\n",
       "      <td>3.000000</td>\n",
       "      <td>3000.000000</td>\n",
       "      <td>11.000000</td>\n",
       "      <td>NaN</td>\n",
       "    </tr>\n",
       "    <tr>\n",
       "      <th>25%</th>\n",
       "      <td>1.817244e+07</td>\n",
       "      <td>8.000000</td>\n",
       "      <td>4000.000000</td>\n",
       "      <td>18.000000</td>\n",
       "      <td>NaN</td>\n",
       "    </tr>\n",
       "    <tr>\n",
       "      <th>50%</th>\n",
       "      <td>2.584212e+07</td>\n",
       "      <td>10.000000</td>\n",
       "      <td>6000.000000</td>\n",
       "      <td>21.000000</td>\n",
       "      <td>NaN</td>\n",
       "    </tr>\n",
       "    <tr>\n",
       "      <th>75%</th>\n",
       "      <td>3.340052e+07</td>\n",
       "      <td>11.000000</td>\n",
       "      <td>15000.000000</td>\n",
       "      <td>24.000000</td>\n",
       "      <td>NaN</td>\n",
       "    </tr>\n",
       "    <tr>\n",
       "      <th>max</th>\n",
       "      <td>9.998167e+07</td>\n",
       "      <td>15.000000</td>\n",
       "      <td>20000.000000</td>\n",
       "      <td>29.000000</td>\n",
       "      <td>NaN</td>\n",
       "    </tr>\n",
       "  </tbody>\n",
       "</table>\n",
       "</div>"
      ],
      "text/plain": [
       "            truck_id    truck_age  load_capacity_pounds  mileage_mpg fuel_type\n",
       "count   1.300000e+03  1300.000000           1243.000000  1300.000000      1300\n",
       "unique           NaN          NaN                   NaN          NaN         3\n",
       "top              NaN          NaN                   NaN          NaN    diesel\n",
       "freq             NaN          NaN                   NaN          NaN       692\n",
       "mean    3.263242e+07     9.513077           8610.619469    20.784615       NaN\n",
       "std     2.205390e+07     2.039030           5583.759795     3.655876       NaN\n",
       "min     1.000839e+07     3.000000           3000.000000    11.000000       NaN\n",
       "25%     1.817244e+07     8.000000           4000.000000    18.000000       NaN\n",
       "50%     2.584212e+07    10.000000           6000.000000    21.000000       NaN\n",
       "75%     3.340052e+07    11.000000          15000.000000    24.000000       NaN\n",
       "max     9.998167e+07    15.000000          20000.000000    29.000000       NaN"
      ]
     },
     "execution_count": 25,
     "metadata": {},
     "output_type": "execute_result"
    }
   ],
   "source": [
    "truck_details.describe(include='all')"
   ]
  },
  {
   "cell_type": "code",
   "execution_count": 26,
   "id": "bb4b9ee4-87b0-4642-8ecd-c86131940ff3",
   "metadata": {},
   "outputs": [
    {
     "data": {
      "image/png": "[encoded data removed]",
      "text/plain": [
       "<Figure size 1400x600 with 3 Axes>"
      ]
     },
     "metadata": {},
     "output_type": "display_data"
    }
   ],
   "source": [
    "# Visualize the distribution of numerical columns \n",
    "num_cols= ['truck_age', 'load_capacity_pounds', 'mileage_mpg']\n",
    "\n",
    "fig,axes =plt.subplots(1,3,figsize=(14,6))\n",
    "axes=axes.flat\n",
    "\n",
    "for ax, col in zip(axes,num_cols):\n",
    "    sns.histplot(data=truck_details,x=col,ax=ax,kde=True)\n",
    "    ax.set_title(f'The distribution of {col}')\n",
    "    ax.set_xlabel(col)\n",
    "    ax.set_ylabel('Count')\n",
    "\n",
    "plt.tight_layout()\n",
    "plt.show()"
   ]
  },
  {
   "cell_type": "markdown",
   "id": "d4b43f7c-b883-4b7f-b7e7-524071d1e54f",
   "metadata": {},
   "source": [
    "The distribution of truck age appears approximately normal, with the majority of trucks falling between 8 and 12 years old.In contrast, vehicle mileage shows a bimodal distribution, indicating two distinct groups: one with lower mileage, likely representing newer trucks, and another with higher mileage, possibly reflecting older or heavily used vehicles.\n",
    "\n",
    "Analyzing the distribution of truck ages a and fuel efficiency to identify older trucks that might be approaching the end of their useful life and with lower fuel efficiency would help replacing them with more fuel efficient and low mileage models."
   ]
  },
  {
   "cell_type": "code",
   "execution_count": 24,
   "id": "b8186c8f-80ee-4724-af4a-10d913ca8e71",
   "metadata": {},
   "outputs": [
    {
     "data": {
      "text/plain": [
       "diesel    692\n",
       "gas       568\n",
       "           40\n",
       "Name: fuel_type, dtype: int64"
      ]
     },
     "execution_count": 24,
     "metadata": {},
     "output_type": "execute_result"
    }
   ],
   "source": [
    "truck_details['fuel_type'].value_counts()"
   ]
  },
  {
   "cell_type": "markdown",
   "id": "20651c2c-9cce-404c-8b16-fd2f7692a09c",
   "metadata": {},
   "source": [
    "There is a unknown category for the fuel type, which must be imputed or dropped later, after data splitting before using this attribute in data analysis. For preliminary analysis, this unknown category will be named as 'unknown'."
   ]
  },
  {
   "cell_type": "code",
   "execution_count": 25,
   "id": "bf053c88-532b-4d7d-8d6d-f8827b577b15",
   "metadata": {},
   "outputs": [
    {
     "data": {
      "text/plain": [
       "array(['gas', 'diesel', ''], dtype=object)"
      ]
     },
     "execution_count": 25,
     "metadata": {},
     "output_type": "execute_result"
    }
   ],
   "source": [
    "truck_details['fuel_type'].unique()"
   ]
  },
  {
   "cell_type": "code",
   "execution_count": 26,
   "id": "3aef97f5-edf9-43b2-bbd9-dc59b9dfc3fd",
   "metadata": {},
   "outputs": [],
   "source": [
    "truck_details['fuel_type']=truck_details['fuel_type'].replace('','unknown')"
   ]
  },
  {
   "cell_type": "markdown",
   "id": "44753756-6f02-4666-938f-b8733e09e02a",
   "metadata": {},
   "source": [
    "Looking at the histogram, if 15 mpg was considered as a low mileage threshold, then the distribution of the truck age with their mileage can be analyzed as below."
   ]
  },
  {
   "cell_type": "code",
   "execution_count": 30,
   "id": "a9006eeb-cf45-486c-a9d7-c546af45fbb6",
   "metadata": {},
   "outputs": [
    {
     "data": {
      "image/png": "[encoded data removed]",
      "text/plain": [
       "<Figure size 640x480 with 1 Axes>"
      ]
     },
     "metadata": {},
     "output_type": "display_data"
    }
   ],
   "source": [
    "low_mpg_trucks=truck_details[truck_details['mileage_mpg']<=15]\n",
    "\n",
    "# visualize the Truck ages of low - mileage trucks\n",
    "sns.histplot(data=low_mpg_trucks,x='truck_age',kde=True)\n",
    "plt.title('The age distribution of low-mileage trucks')\n",
    "plt.show()"
   ]
  },
  {
   "cell_type": "markdown",
   "id": "e8349877-9a74-4180-a1fa-247a50dae7f9",
   "metadata": {},
   "source": [
    "#### III. Route Data Analysis"
   ]
  },
  {
   "cell_type": "code",
   "execution_count": 31,
   "id": "ba971435-898e-4b50-a4f6-7cedbeb705a0",
   "metadata": {
    "scrolled": true
   },
   "outputs": [
    {
     "name": "stdout",
     "output_type": "stream",
     "text": [
      "<class 'pandas.core.frame.DataFrame'>\n",
      "RangeIndex: 2352 entries, 0 to 2351\n",
      "Data columns (total 5 columns):\n",
      " #   Column          Non-Null Count  Dtype  \n",
      "---  ------          --------------  -----  \n",
      " 0   route_id        2352 non-null   object \n",
      " 1   origin_id       2352 non-null   object \n",
      " 2   destination_id  2352 non-null   object \n",
      " 3   distance        2352 non-null   float64\n",
      " 4   average_hours   2352 non-null   float64\n",
      "dtypes: float64(2), object(3)\n",
      "memory usage: 92.0+ KB\n"
     ]
    }
   ],
   "source": [
    "routes_details.info()"
   ]
  },
  {
   "cell_type": "code",
   "execution_count": 32,
   "id": "bac20a1a-041e-404b-aa46-185c3cad1ed0",
   "metadata": {},
   "outputs": [
    {
     "data": {
      "text/html": [
       "<div>\n",
       "<style scoped>\n",
       "    .dataframe tbody tr th:only-of-type {\n",
       "        vertical-align: middle;\n",
       "    }\n",
       "\n",
       "    .dataframe tbody tr th {\n",
       "        vertical-align: top;\n",
       "    }\n",
       "\n",
       "    .dataframe thead th {\n",
       "        text-align: right;\n",
       "    }\n",
       "</style>\n",
       "<table border=\"1\" class=\"dataframe\">\n",
       "  <thead>\n",
       "    <tr style=\"text-align: right;\">\n",
       "      <th></th>\n",
       "      <th>route_id</th>\n",
       "      <th>origin_id</th>\n",
       "      <th>destination_id</th>\n",
       "      <th>distance</th>\n",
       "      <th>average_hours</th>\n",
       "    </tr>\n",
       "  </thead>\n",
       "  <tbody>\n",
       "    <tr>\n",
       "      <th>count</th>\n",
       "      <td>2352</td>\n",
       "      <td>2352</td>\n",
       "      <td>2352</td>\n",
       "      <td>2352.000000</td>\n",
       "      <td>2352.000000</td>\n",
       "    </tr>\n",
       "    <tr>\n",
       "      <th>unique</th>\n",
       "      <td>2352</td>\n",
       "      <td>49</td>\n",
       "      <td>49</td>\n",
       "      <td>NaN</td>\n",
       "      <td>NaN</td>\n",
       "    </tr>\n",
       "    <tr>\n",
       "      <th>top</th>\n",
       "      <td>R-ada2a391</td>\n",
       "      <td>C-927ceb5e</td>\n",
       "      <td>C-56e39a5e</td>\n",
       "      <td>NaN</td>\n",
       "      <td>NaN</td>\n",
       "    </tr>\n",
       "    <tr>\n",
       "      <th>freq</th>\n",
       "      <td>1</td>\n",
       "      <td>48</td>\n",
       "      <td>48</td>\n",
       "      <td>NaN</td>\n",
       "      <td>NaN</td>\n",
       "    </tr>\n",
       "    <tr>\n",
       "      <th>mean</th>\n",
       "      <td>NaN</td>\n",
       "      <td>NaN</td>\n",
       "      <td>NaN</td>\n",
       "      <td>2376.825230</td>\n",
       "      <td>47.536556</td>\n",
       "    </tr>\n",
       "    <tr>\n",
       "      <th>std</th>\n",
       "      <td>NaN</td>\n",
       "      <td>NaN</td>\n",
       "      <td>NaN</td>\n",
       "      <td>2696.904248</td>\n",
       "      <td>53.938045</td>\n",
       "    </tr>\n",
       "    <tr>\n",
       "      <th>min</th>\n",
       "      <td>NaN</td>\n",
       "      <td>NaN</td>\n",
       "      <td>NaN</td>\n",
       "      <td>3.900000</td>\n",
       "      <td>0.080000</td>\n",
       "    </tr>\n",
       "    <tr>\n",
       "      <th>25%</th>\n",
       "      <td>NaN</td>\n",
       "      <td>NaN</td>\n",
       "      <td>NaN</td>\n",
       "      <td>557.365000</td>\n",
       "      <td>11.147500</td>\n",
       "    </tr>\n",
       "    <tr>\n",
       "      <th>50%</th>\n",
       "      <td>NaN</td>\n",
       "      <td>NaN</td>\n",
       "      <td>NaN</td>\n",
       "      <td>1104.825000</td>\n",
       "      <td>22.100000</td>\n",
       "    </tr>\n",
       "    <tr>\n",
       "      <th>75%</th>\n",
       "      <td>NaN</td>\n",
       "      <td>NaN</td>\n",
       "      <td>NaN</td>\n",
       "      <td>2516.407500</td>\n",
       "      <td>50.327500</td>\n",
       "    </tr>\n",
       "    <tr>\n",
       "      <th>max</th>\n",
       "      <td>NaN</td>\n",
       "      <td>NaN</td>\n",
       "      <td>NaN</td>\n",
       "      <td>10055.010000</td>\n",
       "      <td>201.100000</td>\n",
       "    </tr>\n",
       "  </tbody>\n",
       "</table>\n",
       "</div>"
      ],
      "text/plain": [
       "          route_id   origin_id destination_id      distance  average_hours\n",
       "count         2352        2352           2352   2352.000000    2352.000000\n",
       "unique        2352          49             49           NaN            NaN\n",
       "top     R-ada2a391  C-927ceb5e     C-56e39a5e           NaN            NaN\n",
       "freq             1          48             48           NaN            NaN\n",
       "mean           NaN         NaN            NaN   2376.825230      47.536556\n",
       "std            NaN         NaN            NaN   2696.904248      53.938045\n",
       "min            NaN         NaN            NaN      3.900000       0.080000\n",
       "25%            NaN         NaN            NaN    557.365000      11.147500\n",
       "50%            NaN         NaN            NaN   1104.825000      22.100000\n",
       "75%            NaN         NaN            NaN   2516.407500      50.327500\n",
       "max            NaN         NaN            NaN  10055.010000     201.100000"
      ]
     },
     "execution_count": 32,
     "metadata": {},
     "output_type": "execute_result"
    }
   ],
   "source": [
    "routes_details.describe(include='all')"
   ]
  },
  {
   "cell_type": "code",
   "execution_count": 33,
   "id": "ae940fd4-9c92-4ed3-b298-16372ae0546c",
   "metadata": {},
   "outputs": [
    {
     "data": {
      "text/plain": [
       "route_id          0\n",
       "origin_id         0\n",
       "destination_id    0\n",
       "distance          0\n",
       "average_hours     0\n",
       "dtype: int64"
      ]
     },
     "execution_count": 33,
     "metadata": {},
     "output_type": "execute_result"
    }
   ],
   "source": [
    "routes_details.isnull().sum()"
   ]
  },
  {
   "cell_type": "markdown",
   "id": "a6dacbb0-916e-4817-a0af-4e1235fc7dbf",
   "metadata": {},
   "source": [
    "#### IV. Traffic Data Analysis "
   ]
  },
  {
   "cell_type": "code",
   "execution_count": 34,
   "id": "eeedf783-ae41-4e07-82b8-0da793b14d96",
   "metadata": {},
   "outputs": [
    {
     "name": "stdout",
     "output_type": "stream",
     "text": [
      "<class 'pandas.core.frame.DataFrame'>\n",
      "RangeIndex: 2597913 entries, 0 to 2597912\n",
      "Data columns (total 5 columns):\n",
      " #   Column          Dtype         \n",
      "---  ------          -----         \n",
      " 0   route_id        object        \n",
      " 1   date            datetime64[ns]\n",
      " 2   hour            int64         \n",
      " 3   no_of_vehicles  float64       \n",
      " 4   accident        int64         \n",
      "dtypes: datetime64[ns](1), float64(1), int64(2), object(1)\n",
      "memory usage: 99.1+ MB\n"
     ]
    }
   ],
   "source": [
    "traffic_details.info()"
   ]
  },
  {
   "cell_type": "code",
   "execution_count": 35,
   "id": "38401e11-cfa7-4729-8196-02afdaae70e9",
   "metadata": {},
   "outputs": [
    {
     "data": {
      "text/plain": [
       "route_id             0\n",
       "date                 0\n",
       "hour                 0\n",
       "no_of_vehicles    1152\n",
       "accident             0\n",
       "dtype: int64"
      ]
     },
     "execution_count": 35,
     "metadata": {},
     "output_type": "execute_result"
    }
   ],
   "source": [
    "traffic_details.isna().sum()"
   ]
  },
  {
   "cell_type": "markdown",
   "id": "3fde6080-5e35-45d4-918c-17f4f305a064",
   "metadata": {},
   "source": [
    "There are 1152 missing values for the number of trucks column."
   ]
  },
  {
   "cell_type": "code",
   "execution_count": 36,
   "id": "28fb186e-8b1c-408f-be7f-78a9f2bb4086",
   "metadata": {},
   "outputs": [
    {
     "data": {
      "text/html": [
       "<div>\n",
       "<style scoped>\n",
       "    .dataframe tbody tr th:only-of-type {\n",
       "        vertical-align: middle;\n",
       "    }\n",
       "\n",
       "    .dataframe tbody tr th {\n",
       "        vertical-align: top;\n",
       "    }\n",
       "\n",
       "    .dataframe thead th {\n",
       "        text-align: right;\n",
       "    }\n",
       "</style>\n",
       "<table border=\"1\" class=\"dataframe\">\n",
       "  <thead>\n",
       "    <tr style=\"text-align: right;\">\n",
       "      <th></th>\n",
       "      <th>hour</th>\n",
       "      <th>no_of_vehicles</th>\n",
       "      <th>accident</th>\n",
       "    </tr>\n",
       "  </thead>\n",
       "  <tbody>\n",
       "    <tr>\n",
       "      <th>count</th>\n",
       "      <td>2.597913e+06</td>\n",
       "      <td>2.596761e+06</td>\n",
       "      <td>2.597913e+06</td>\n",
       "    </tr>\n",
       "    <tr>\n",
       "      <th>mean</th>\n",
       "      <td>1.150021e+03</td>\n",
       "      <td>1.566776e+03</td>\n",
       "      <td>5.320848e-02</td>\n",
       "    </tr>\n",
       "    <tr>\n",
       "      <th>std</th>\n",
       "      <td>6.922211e+02</td>\n",
       "      <td>8.959424e+02</td>\n",
       "      <td>2.244490e-01</td>\n",
       "    </tr>\n",
       "    <tr>\n",
       "      <th>min</th>\n",
       "      <td>0.000000e+00</td>\n",
       "      <td>1.000000e+02</td>\n",
       "      <td>0.000000e+00</td>\n",
       "    </tr>\n",
       "    <tr>\n",
       "      <th>25%</th>\n",
       "      <td>6.000000e+02</td>\n",
       "      <td>6.060000e+02</td>\n",
       "      <td>0.000000e+00</td>\n",
       "    </tr>\n",
       "    <tr>\n",
       "      <th>50%</th>\n",
       "      <td>1.200000e+03</td>\n",
       "      <td>1.969000e+03</td>\n",
       "      <td>0.000000e+00</td>\n",
       "    </tr>\n",
       "    <tr>\n",
       "      <th>75%</th>\n",
       "      <td>1.800000e+03</td>\n",
       "      <td>2.326000e+03</td>\n",
       "      <td>0.000000e+00</td>\n",
       "    </tr>\n",
       "    <tr>\n",
       "      <th>max</th>\n",
       "      <td>2.300000e+03</td>\n",
       "      <td>3.636000e+03</td>\n",
       "      <td>1.000000e+00</td>\n",
       "    </tr>\n",
       "  </tbody>\n",
       "</table>\n",
       "</div>"
      ],
      "text/plain": [
       "               hour  no_of_vehicles      accident\n",
       "count  2.597913e+06    2.596761e+06  2.597913e+06\n",
       "mean   1.150021e+03    1.566776e+03  5.320848e-02\n",
       "std    6.922211e+02    8.959424e+02  2.244490e-01\n",
       "min    0.000000e+00    1.000000e+02  0.000000e+00\n",
       "25%    6.000000e+02    6.060000e+02  0.000000e+00\n",
       "50%    1.200000e+03    1.969000e+03  0.000000e+00\n",
       "75%    1.800000e+03    2.326000e+03  0.000000e+00\n",
       "max    2.300000e+03    3.636000e+03  1.000000e+00"
      ]
     },
     "execution_count": 36,
     "metadata": {},
     "output_type": "execute_result"
    }
   ],
   "source": [
    "traffic_details.describe()"
   ]
  },
  {
   "cell_type": "markdown",
   "id": "56b3a17c-3a63-4434-b704-bea577e4edf4",
   "metadata": {},
   "source": [
    "The hour has integer format of data, but it should be converted to a 24 hour format by padding the integers with zeros to make a 4 digit integer \n"
   ]
  },
  {
   "cell_type": "code",
   "execution_count": 27,
   "id": "4e1fbc82-336c-4227-85fe-3b61aafe3424",
   "metadata": {},
   "outputs": [
    {
     "name": "stdout",
     "output_type": "stream",
     "text": [
      "The average number of trucks during each time category : \n",
      " time_category\n",
      "Early morning     563.030071\n",
      "Evening          1999.185426\n",
      "Morning          1735.696694\n",
      "Night            1263.594675\n",
      "Noon             1990.786218\n",
      "Name: no_of_vehicles, dtype: float64\n",
      "\n",
      "\n",
      "Total number of accidents during each time caregory : \n",
      " time_category\n",
      "Early morning    324746\n",
      "Evening          433011\n",
      "Morning          649457\n",
      "Night            649473\n",
      "Noon             432978\n",
      "Name: accident, dtype: int64\n"
     ]
    }
   ],
   "source": [
    "# categorizing the traffic hours to difefrent times of the day for further analysis \n",
    "\n",
    "def time_category(hour):\n",
    "    if 300 <= hour < 600 : \n",
    "        return \"Early morning\"\n",
    "    elif 600 <=hour < 1200:\n",
    "        return 'Morning'\n",
    "    elif 1200 <= hour < 1600:\n",
    "        return 'Noon'\n",
    "    elif 1600 <= hour < 2000:\n",
    "        return 'Evening'\n",
    "    elif 2000 <= hour < 2300:\n",
    "        return 'Night'\n",
    "    elif 0 <= hour < 300:\n",
    "        return 'Night'\n",
    "        \n",
    "traffic_details_df = traffic_details.copy()\n",
    "traffic_details_df['time_category']=traffic_details_df['hour'].apply(time_category)\n",
    "\n",
    "# Caluclating the volume of traffic during each time-category \n",
    "grouped_trucks= traffic_details_df.groupby('time_category')['no_of_vehicles'].mean()\n",
    "print(f'The average number of trucks during each time category : \\n {grouped_trucks}')\n",
    "print('\\n')\n",
    "grouped_accidents = traffic_details_df.groupby('time_category')['accident'].count()\n",
    "print(f'Total number of accidents during each time caregory : \\n { grouped_accidents}')   "
   ]
  },
  {
   "cell_type": "markdown",
   "id": "424ccdb1-9428-427c-a81d-71a260ad875e",
   "metadata": {},
   "source": [
    "Evening experiences the highest traffic with an average of 2000 vehicles, likely due to rush hour.Morning follows closely with around 1735 vehicles, indicating significant traffic during the morning rush.Early Morning sees the least traffic with around 562 vehicles, as people are still at home or starting their day.\n",
    "The most accidents were happened during night time with approximate total of 649,473 and closely around the same number of accidents during the morning hours. "
   ]
  },
  {
   "cell_type": "markdown",
   "id": "3ff28871-2e55-4a0a-bb40-5f2f2ddb7581",
   "metadata": {},
   "source": [
    "## Creating Feature Store in HopsWork \n"
   ]
  },
  {
   "cell_type": "markdown",
   "id": "3d487b0c-3e11-4274-b08f-18d634ec3b5a",
   "metadata": {},
   "source": [
    "### Creating feature groups \n",
    "Feature groups are created for each dataframe and are stored in the featire store. when creating them, its necessary to have a event_time created to ensure point in time correct joins for training dataset and enable time-travel capabilities in offline feature store."
   ]
  },
  {
   "cell_type": "code",
   "execution_count": 3,
   "id": "f31ad657-b51b-4cda-a9f4-f70bcb19845c",
   "metadata": {},
   "outputs": [],
   "source": [
    "%%capture\n",
    "%pip install -U hopsworks"
   ]
  },
  {
   "cell_type": "code",
   "execution_count": 4,
   "id": "4d94c47e-9442-4be6-89ae-7c78afc88119",
   "metadata": {},
   "outputs": [],
   "source": [
    "%%capture\n",
    "pip install confluent-kafka"
   ]
  },
  {
   "cell_type": "code",
   "execution_count": 5,
   "id": "bca29da9-fba4-4cb9-b556-7ea1ff919402",
   "metadata": {},
   "outputs": [],
   "source": [
    "%%capture\n",
    "!{sys.executable} -m pip install --no-cache-dir --upgrade pyarrow==14.0.2 "
   ]
  },
  {
   "cell_type": "code",
   "execution_count": 6,
   "id": "22df4489-242a-4886-a17a-cc4eb8b21f90",
   "metadata": {},
   "outputs": [],
   "source": [
    "import pyarrow as pa, pyarrow.flight as fl\n",
    "import hopsworks"
   ]
  },
  {
   "cell_type": "code",
   "execution_count": 5,
   "id": "02e1b2d5-8929-4808-92f9-9312664560f6",
   "metadata": {},
   "outputs": [],
   "source": [
    "%%capture\n",
    "import sys\n",
    "\n",
    "# Uninstall any broken pip installs\n",
    "!{sys.executable} -m pip uninstall -y confluent-kafka\n",
    "\n",
    "# Install precompiled Kafka package via Conda\n",
    "!conda install -y -c conda-forge --prefix {sys.prefix} python-confluent-kafka\n"
   ]
  },
  {
   "cell_type": "code",
   "execution_count": 1,
   "id": "ce128dc0-70d7-4f8f-865a-fd844c6eaf48",
   "metadata": {},
   "outputs": [
    {
     "name": "stdout",
     "output_type": "stream",
     "text": [
      "Confluent Kafka version: 2.11.1\n"
     ]
    }
   ],
   "source": [
    "\n",
    "import confluent_kafka\n",
    "print(\"Confluent Kafka version:\", confluent_kafka.__version__)\n"
   ]
  },
  {
   "cell_type": "code",
   "execution_count": 7,
   "id": "7c4c98d4-1df7-4bc7-b2ae-22edd92ece57",
   "metadata": {},
   "outputs": [
    {
     "name": "stdout",
     "output_type": "stream",
     "text": [
      "2025-09-15 21:26:55,151 INFO: Initializing external client\n",
      "2025-09-15 21:26:55,152 INFO: Base URL: https://c.app.hopsworks.ai:443\n"
     ]
    },
    {
     "name": "stderr",
     "output_type": "stream",
     "text": [
      "\n",
      "\n",
      "UserWarning: The installed hopsworks client version 4.3.2 may not be compatible with the connected Hopsworks backend version 4.2.2. \n",
      "To ensure compatibility please install the latest bug fix release matching the minor version of your backend (4.2) by running 'pip install hopsworks==4.2.*'\n"
     ]
    },
    {
     "name": "stdout",
     "output_type": "stream",
     "text": [
      "2025-09-15 21:26:56,079 INFO: Python Engine initialized.\n",
      "\n",
      "Logged in to project, explore it here https://c.app.hopsworks.ai:443/p/1246371\n"
     ]
    }
   ],
   "source": [
    "project=hopsworks.login()"
   ]
  },
  {
   "cell_type": "code",
   "execution_count": 8,
   "id": "30e8cecc-ffcd-4d67-a149-549060fc3c65",
   "metadata": {},
   "outputs": [],
   "source": [
    "fs=project.get_feature_store()"
   ]
  },
  {
   "cell_type": "markdown",
   "id": "00d8ff74-a229-4c84-8a6c-29fbbc3af946",
   "metadata": {},
   "source": [
    "#### I. Drivers Feature Group "
   ]
  },
  {
   "cell_type": "code",
   "execution_count": 28,
   "id": "0b43953e-4d2c-4f95-8c8c-9e046e78406f",
   "metadata": {},
   "outputs": [],
   "source": [
    "import pandas as pd\n",
    "drivers_details['event_time']=pd.Timestamp(\"now\", tz=\"UTC\") #create an event_time \n",
    "drivers_details=drivers_details.sort_values([\"event_time\",\"driver_id\"])\n",
    "\n",
    "# create feature group for drivers details \n",
    "drivers_fg=fs.get_or_create_feature_group(name='drivers_details_fg',\n",
    "                                          description='details about the driver',\n",
    "                                          version=3,\n",
    "                                          primary_key=['driver_id'],\n",
    "                                          event_time='event_time',\n",
    "                                          online_enabled=False)"
   ]
  },
  {
   "cell_type": "code",
   "execution_count": 29,
   "id": "cdd9b8e7-63e5-473f-9271-9f9a393471b3",
   "metadata": {},
   "outputs": [
    {
     "name": "stderr",
     "output_type": "stream",
     "text": [
      "Uploading Dataframe: 100.00% |██████████| Rows 1300/1300 | Elapsed Time: 00:00 | Remaining Time: 00:00\n"
     ]
    },
    {
     "name": "stdout",
     "output_type": "stream",
     "text": [
      "Launching job: drivers_details_fg_3_offline_fg_materialization\n",
      "Job started successfully, you can follow the progress at \n",
      "https://c.app.hopsworks.ai:443/p/1246371/jobs/named/drivers_details_fg_3_offline_fg_materialization/executions\n"
     ]
    },
    {
     "data": {
      "text/plain": [
       "(Job('drivers_details_fg_3_offline_fg_materialization', 'SPARK'), None)"
      ]
     },
     "execution_count": 29,
     "metadata": {},
     "output_type": "execute_result"
    }
   ],
   "source": [
    "# insert the drivers dataframe into the feature group \n",
    "drivers_fg.insert(drivers_details)"
   ]
  },
  {
   "cell_type": "code",
   "execution_count": 30,
   "id": "ee542992-de13-40df-930e-db333f7260e4",
   "metadata": {},
   "outputs": [],
   "source": [
    "# Add feature descriptions for the drivers feature group \n",
    "\n",
    "feature_descriptions_drivers = [\n",
    "\n",
    "    {\"name\": \"driver_id\", \"description\": \"unique identification for each driver\"},\n",
    "    {\"name\": \"name\", \"description\": \"name of the truck driver\"},\n",
    "    {\"name\": \"gender\", \"description\": \"gender of the truck driver\"},\n",
    "    {\"name\": \"age\", \"description\": \"age of the truck driver\"},\n",
    "    {\"name\": \"experience\", \"description\": \"experience of the truck driver in years\"},\n",
    "    {\"name\": \"driving_style\", \"description\": \"driving style of the truck driver, conservative or proactive\"},\n",
    "    {\"name\": \"ratings\", \"description\": \"average rating of the truck driver on a scale of 1 to 5\"},\n",
    "    {\"name\": \"vehicle_no\", \"description\": \"the number of the driver’s truck\"},\n",
    "    {\"name\": \"average_speed_mph\", \"description\": \"average speed of the truck driver in miles per hour\"},\n",
    "    {\"name\": \"event_time\", \"description\": \"dummy event time\"}]\n",
    "\n",
    "for desc in feature_descriptions_drivers:\n",
    "    drivers_fg.update_feature_description(desc[\"name\"], desc[\"description\"])\n"
   ]
  },
  {
   "cell_type": "code",
   "execution_count": 31,
   "id": "92655221-f858-4e26-9a1b-a4827909274b",
   "metadata": {},
   "outputs": [
    {
     "data": {
      "text/plain": [
       "Statistics(1757787851468)"
      ]
     },
     "execution_count": 31,
     "metadata": {},
     "output_type": "execute_result"
    }
   ],
   "source": [
    "# Configure statistics for the feature group\n",
    "drivers_fg.statistics_config = {\n",
    "    \"enabled\": True,        # Enable statistics calculation\n",
    "    \"histograms\": True,     # Include histograms in the statistics\n",
    "    \"correlations\": True    # Include correlations in the statistics\n",
    "}\n",
    "\n",
    "# Update the statistics configuration for the feature group\n",
    "drivers_fg.update_statistics_config()\n",
    "\n",
    "# Compute statistics for the feature group\n",
    "drivers_fg.compute_statistics()"
   ]
  },
  {
   "cell_type": "markdown",
   "id": "ccbf0dfb-e93b-48c5-9cba-959851a6b301",
   "metadata": {},
   "source": [
    "#### II. Truck Data Feature Group"
   ]
  },
  {
   "cell_type": "code",
   "execution_count": 34,
   "id": "c02d3824-2e0d-4be7-ae72-57cf13057054",
   "metadata": {},
   "outputs": [],
   "source": [
    "# create event time for the truck_details df\n",
    "truck_details['event_time']=pd.Timestamp(\"now\", tz=\"UTC\")\n",
    "\n",
    "truck_details=truck_details.sort_values(['event_time','truck_id']) # sort the entries in the order of the time event \n",
    "\n",
    "truck_fg = fs.get_or_create_feature_group(\n",
    "    name=\"truck_details_fg\",          # Name of the feature group\n",
    "    version=2,                        # Version number\n",
    "    description=\"Truck data\",         # Description of the feature group\n",
    "    primary_key=['truck_id'],         # Primary key(s) for the feature group\n",
    "    event_time='event_time', \n",
    "    time_travel_format=\"HUDI\",# Event time column\n",
    "    online_enabled=False              # Online feature store capability (set to False)\n",
    ")\n"
   ]
  },
  {
   "cell_type": "code",
   "execution_count": 35,
   "id": "a7dcc084-362a-4d1c-8831-e27d7e26cb51",
   "metadata": {},
   "outputs": [
    {
     "name": "stdout",
     "output_type": "stream",
     "text": [
      "Feature Group created successfully, explore it at \n",
      "https://c.app.hopsworks.ai:443/p/1246371/fs/1232967/fg/1513845\n"
     ]
    },
    {
     "name": "stderr",
     "output_type": "stream",
     "text": [
      "Uploading Dataframe: 100.00% |██████████| Rows 1300/1300 | Elapsed Time: 00:00 | Remaining Time: 00:00\n"
     ]
    },
    {
     "name": "stdout",
     "output_type": "stream",
     "text": [
      "Launching job: truck_details_fg_2_offline_fg_materialization\n",
      "Job started successfully, you can follow the progress at \n",
      "https://c.app.hopsworks.ai:443/p/1246371/jobs/named/truck_details_fg_2_offline_fg_materialization/executions\n"
     ]
    },
    {
     "data": {
      "text/plain": [
       "(Job('truck_details_fg_2_offline_fg_materialization', 'SPARK'), None)"
      ]
     },
     "execution_count": 35,
     "metadata": {},
     "output_type": "execute_result"
    }
   ],
   "source": [
    "truck_fg.insert(truck_details)"
   ]
  },
  {
   "cell_type": "code",
   "execution_count": 36,
   "id": "f002ef77-086a-45d9-9107-a917fc15f5c7",
   "metadata": {},
   "outputs": [],
   "source": [
    "# Add feature descriptions\n",
    "\n",
    "feature_descriptions_trucks = [\n",
    "    {\"name\":'truck_id',\"description\":\"the unique identification number of the truck\"},\n",
    "    {\"name\":'truck_age',\"description\":\"age of the truck in years\"},\n",
    "    {\"name\":'load_capacity_pounds',\"description\":\"loading capacity of the truck in years\"},\n",
    "    {\"name\":'mileage_mpg',\"description\": \"mileage of the truck in miles per gallon\"},\n",
    "    {\"name\":'fuel_type',\"description\":\"fuel type of the truck\"},\n",
    "    {\"name\": \"event_time\", \"description\": \"dummy event time\"}\n",
    "\n",
    "]\n",
    "\n",
    "for desc in feature_descriptions_trucks:\n",
    "    truck_fg.update_feature_description(desc[\"name\"], desc[\"description\"])"
   ]
  },
  {
   "cell_type": "code",
   "execution_count": 51,
   "id": "e3bb6fd0-26ac-4fe8-a8b8-394de6876ca6",
   "metadata": {},
   "outputs": [
    {
     "data": {
      "text/plain": [
       "Statistics(1757971959818)"
      ]
     },
     "execution_count": 51,
     "metadata": {},
     "output_type": "execute_result"
    }
   ],
   "source": [
    "truck_fg.statistics_config = {\n",
    "    \"enabled\": True,\n",
    "    \"histograms\": True,\n",
    "    \"correlations\": True\n",
    "}\n",
    "\n",
    "truck_fg.update_statistics_config()\n",
    "truck_fg.compute_statistics()"
   ]
  },
  {
   "cell_type": "markdown",
   "id": "cfd0e79a-1d64-47e9-89d0-c13fc89940db",
   "metadata": {},
   "source": [
    "### III. Route data feature group "
   ]
  },
  {
   "cell_type": "code",
   "execution_count": 38,
   "id": "57a9853c-71b9-442d-85a6-b1512460f1a9",
   "metadata": {},
   "outputs": [],
   "source": [
    "routes_details['event_time'] = pd.Timestamp(\"now\", tz=\"UTC\")\n",
    "routes_details=routes_details.sort_values([\"event_time\",\"route_id\"])"
   ]
  },
  {
   "cell_type": "code",
   "execution_count": 39,
   "id": "523e9ed6-f1e1-4ced-9bca-abc772afc141",
   "metadata": {},
   "outputs": [
    {
     "data": {
      "text/plain": [
       "Index(['route_id', 'origin_id', 'destination_id', 'distance', 'average_hours',\n",
       "       'event_time'],\n",
       "      dtype='object')"
      ]
     },
     "execution_count": 39,
     "metadata": {},
     "output_type": "execute_result"
    }
   ],
   "source": [
    "routes_details.columns"
   ]
  },
  {
   "cell_type": "code",
   "execution_count": 40,
   "id": "0ecc7ae8-c6b1-4b8c-8454-73ca2e33dfdd",
   "metadata": {},
   "outputs": [],
   "source": [
    "# Create feature group for route details\n",
    "routes_fg = fs.get_or_create_feature_group(\n",
    "    name=\"routes_details_fg\",         # Name of the feature group\n",
    "    version=1,                        # Version number\n",
    "    description=\"Routes data\",        # Description of the feature group\n",
    "    primary_key=['route_id'],         # Primary key(s) for the feature group\n",
    "    event_time='event_time',          # Event time column\n",
    "    online_enabled=False              # Online feature store capability (set to False)\n",
    ")\n"
   ]
  },
  {
   "cell_type": "code",
   "execution_count": 41,
   "id": "79feac03-3380-4a6e-9b94-3a3b5d5914ff",
   "metadata": {},
   "outputs": [
    {
     "name": "stderr",
     "output_type": "stream",
     "text": [
      "Uploading Dataframe: 100.00% |██████████| Rows 2352/2352 | Elapsed Time: 00:00 | Remaining Time: 00:00\n"
     ]
    },
    {
     "name": "stdout",
     "output_type": "stream",
     "text": [
      "Launching job: routes_details_fg_1_offline_fg_materialization\n",
      "Job started successfully, you can follow the progress at \n",
      "https://c.app.hopsworks.ai:443/p/1246371/jobs/named/routes_details_fg_1_offline_fg_materialization/executions\n"
     ]
    },
    {
     "data": {
      "text/plain": [
       "(Job('routes_details_fg_1_offline_fg_materialization', 'SPARK'), None)"
      ]
     },
     "execution_count": 41,
     "metadata": {},
     "output_type": "execute_result"
    }
   ],
   "source": [
    "routes_fg.insert(routes_details)"
   ]
  },
  {
   "cell_type": "code",
   "execution_count": 44,
   "id": "2bff181f-5915-4290-9671-2ea981b19103",
   "metadata": {},
   "outputs": [],
   "source": [
    "# Add feature descriptions\n",
    "\n",
    "feature_descriptions_routes = [\n",
    "    {\"name\": 'origin_id', \"description\": \"the city identification number for the origin city\"},\n",
    "    {\"name\": 'destination_id', \"description\": \" the city identification number for the destination\"},\n",
    "    {\"name\": 'distance', \"description\": \" the distance between the origin and destination cities in miles\"},\n",
    "    {\"name\": 'average_hours', \"description\": \"average time needed to travel from the origin to the destination in hours\"},\n",
    "    {\"name\": \"event_time\", \"description\": \"dummy event time\"},\n",
    "    {\"name\": 'route_id', \"description\": \"the unique identifier of the routes\"}]\n",
    "for desc in feature_descriptions_routes:\n",
    "    routes_fg.update_feature_description(desc[\"name\"], desc[\"description\"])"
   ]
  },
  {
   "cell_type": "code",
   "execution_count": 45,
   "id": "2ea8ac2f-39ba-4cfc-b3af-2c28cc28b352",
   "metadata": {},
   "outputs": [
    {
     "data": {
      "text/plain": [
       "Statistics(1757788497555)"
      ]
     },
     "execution_count": 45,
     "metadata": {},
     "output_type": "execute_result"
    }
   ],
   "source": [
    "routes_fg.statistics_config = {\n",
    "    \"enabled\": True,\n",
    "    \"histograms\": True,\n",
    "    \"correlations\": True\n",
    "}\n",
    "\n",
    "routes_fg.update_statistics_config()\n",
    "routes_fg.compute_statistics()"
   ]
  },
  {
   "cell_type": "markdown",
   "id": "f540884b-bdea-4af5-ac40-5fadc92a5cfa",
   "metadata": {},
   "source": [
    "#### IV. Truck Schedule Data feature store "
   ]
  },
  {
   "cell_type": "code",
   "execution_count": 47,
   "id": "a37a8731-c94d-4c15-a81c-65141eb4a1e3",
   "metadata": {},
   "outputs": [],
   "source": [
    "truck_schedule_data=truck_schedule_data.sort_values([\"estimated_arrival\",\"truck_id\"]) #sorting \n",
    "\n",
    "\n",
    "# Create  feature group for truck schedule details\n",
    "truck_schedule_fg = fs.get_or_create_feature_group(\n",
    "    name=\"truck_schedule_details_fg\",  # Name of the feature group\n",
    "    version=3,                          # Version number\n",
    "    description=\"Truck Schedule data\",  # Description of the feature group\n",
    "    primary_key=['truck_id','route_id'], # Primary key(s) for the feature group\n",
    "    event_time='estimated_arrival',     # Event time column\n",
    "    online_enabled=True                  # Online feature store capability (set to True)\n",
    ")\n"
   ]
  },
  {
   "cell_type": "code",
   "execution_count": 48,
   "id": "db31dca2-cc90-43a1-8330-1f33a08cdbaa",
   "metadata": {},
   "outputs": [
    {
     "name": "stdout",
     "output_type": "stream",
     "text": [
      "Feature Group created successfully, explore it at \n",
      "https://c.app.hopsworks.ai:443/p/1246371/fs/1232967/fg/1513846\n"
     ]
    },
    {
     "name": "stderr",
     "output_type": "stream",
     "text": [
      "Uploading Dataframe: 100.00% |██████████| Rows 12308/12308 | Elapsed Time: 00:01 | Remaining Time: 00:00\n"
     ]
    },
    {
     "name": "stdout",
     "output_type": "stream",
     "text": [
      "Launching job: truck_schedule_details_fg_3_offline_fg_materialization\n",
      "Job started successfully, you can follow the progress at \n",
      "https://c.app.hopsworks.ai:443/p/1246371/jobs/named/truck_schedule_details_fg_3_offline_fg_materialization/executions\n"
     ]
    },
    {
     "data": {
      "text/plain": [
       "(Job('truck_schedule_details_fg_3_offline_fg_materialization', 'SPARK'), None)"
      ]
     },
     "execution_count": 48,
     "metadata": {},
     "output_type": "execute_result"
    }
   ],
   "source": [
    "truck_schedule_fg.insert(truck_schedule_data)"
   ]
  },
  {
   "cell_type": "code",
   "execution_count": 49,
   "id": "a11e438f-6150-423d-825e-265cb9fc66d9",
   "metadata": {},
   "outputs": [],
   "source": [
    "# Add feature descriptions\n",
    "feature_descriptions_schedule = [\n",
    "    {\"name\": 'truck_id', \"description\": \"the unique identifier of the truck\"},\n",
    "    {\"name\": 'route_id', \"description\": \"the unique identifier of the route\"},\n",
    "    {\"name\": 'departure_date', \"description\": \"departure DateTime of the truck\"},\n",
    "    {\"name\": 'estimated_arrival', \"description\": \"estimated arrival DateTime of the truck\"},\n",
    "    {\"name\": 'delay', \"description\": \"binary variable if the truck’s arrival was delayed, 0 for on-time arrival and 1 for delayed arrival\"},\n",
    "]\n",
    "\n",
    "for desc in feature_descriptions_schedule:\n",
    "    truck_schedule_fg.update_feature_description(desc[\"name\"], desc[\"description\"])"
   ]
  },
  {
   "cell_type": "code",
   "execution_count": 58,
   "id": "df496b29-481d-4ef1-9e2e-9e98cb80aa52",
   "metadata": {},
   "outputs": [
    {
     "data": {
      "text/plain": [
       "Statistics(1757972064767)"
      ]
     },
     "execution_count": 58,
     "metadata": {},
     "output_type": "execute_result"
    }
   ],
   "source": [
    "truck_schedule_fg.statistics_config = {\n",
    "    \"enabled\": True,\n",
    "    \"histograms\": True,\n",
    "    \"correlations\": True\n",
    "}\n",
    "\n",
    "truck_schedule_fg.update_statistics_config()\n",
    "truck_schedule_fg.compute_statistics()"
   ]
  },
  {
   "cell_type": "markdown",
   "id": "c7314ec7-934e-4c8f-a918-1b05250e7369",
   "metadata": {},
   "source": [
    "#### V. Traffic feature store "
   ]
  },
  {
   "cell_type": "code",
   "execution_count": 53,
   "id": "a9a286a9-3e9b-4da5-8892-09bed926d79a",
   "metadata": {},
   "outputs": [],
   "source": [
    "traffic_details=traffic_details.sort_values(['date','route_id','hour'])"
   ]
  },
  {
   "cell_type": "code",
   "execution_count": 54,
   "id": "566cc772-6311-41f3-bbd6-cf92ab343c7e",
   "metadata": {},
   "outputs": [],
   "source": [
    "traffic_fg = fs.get_or_create_feature_group(\n",
    "    name=\"traffic_details_fg\",\n",
    "    version=2,\n",
    "    description=\"Traffic data\",\n",
    "    primary_key=['route_id','hour'],\n",
    "    event_time='date',\n",
    "    online_enabled=True\n",
    ")"
   ]
  },
  {
   "cell_type": "code",
   "execution_count": 55,
   "id": "1d748129-91b6-4520-9ecb-0a6035d87c4e",
   "metadata": {},
   "outputs": [
    {
     "name": "stdout",
     "output_type": "stream",
     "text": [
      "Feature Group created successfully, explore it at \n",
      "https://c.app.hopsworks.ai:443/p/1246371/fs/1232967/fg/1513847\n"
     ]
    },
    {
     "name": "stderr",
     "output_type": "stream",
     "text": [
      "Uploading Dataframe: 100.00% |██████████| Rows 2597913/2597913 | Elapsed Time: 06:39 | Remaining Time: 00:00\n"
     ]
    },
    {
     "name": "stdout",
     "output_type": "stream",
     "text": [
      "Launching job: traffic_details_fg_2_offline_fg_materialization\n",
      "Job started successfully, you can follow the progress at \n",
      "https://c.app.hopsworks.ai:443/p/1246371/jobs/named/traffic_details_fg_2_offline_fg_materialization/executions\n"
     ]
    },
    {
     "data": {
      "text/plain": [
       "(Job('traffic_details_fg_2_offline_fg_materialization', 'SPARK'), None)"
      ]
     },
     "execution_count": 55,
     "metadata": {},
     "output_type": "execute_result"
    }
   ],
   "source": [
    "traffic_fg.insert(traffic_details)"
   ]
  },
  {
   "cell_type": "code",
   "execution_count": 56,
   "id": "80590157-92e6-4c54-907a-d669511be41e",
   "metadata": {},
   "outputs": [],
   "source": [
    "feature_descriptions_traffic = [\n",
    "     {\"name\": 'route_id', \"description\": \"the identification number of the route\"},\n",
    "     {\"name\": 'date', \"description\": \" date of the traffic observation\"},\n",
    "     {\"name\": 'hour', \"description\": \"the hour of the observation as a number in 24-hour format\"},\n",
    "     {\"name\": 'no_of_vehicles', \"description\": \"the number of vehicles observed on the route\"},\n",
    "     {\"name\": 'accident', \"description\": \"binary variable to denote if an accident was observed\"}\n",
    "\n",
    "]\n",
    "for desc in feature_descriptions_traffic:\n",
    "    traffic_fg.update_feature_description(desc[\"name\"], desc[\"description\"])"
   ]
  },
  {
   "cell_type": "code",
   "execution_count": 63,
   "id": "86431dcf-7c37-49c6-935f-d55c27e13f31",
   "metadata": {},
   "outputs": [
    {
     "name": "stdout",
     "output_type": "stream",
     "text": [
      "Statistics Job started successfully, you can follow the progress at \n",
      "http://c.app.hopsworks.ai/p/1246371/jobs/named/traffic_details_fg_2_compute_stats_15092025214405/executions\n",
      "2025-09-15 21:44:14,338 INFO: Waiting for execution to finish. Current state: INITIALIZING. Final status: UNDEFINED\n",
      "2025-09-15 21:44:17,402 INFO: Waiting for execution to finish. Current state: SUBMITTED. Final status: UNDEFINED\n",
      "2025-09-15 21:44:20,467 INFO: Waiting for execution to finish. Current state: RUNNING. Final status: UNDEFINED\n",
      "2025-09-15 21:45:55,407 INFO: Waiting for execution to finish. Current state: SUCCEEDING. Final status: UNDEFINED\n",
      "2025-09-15 21:46:01,536 INFO: Waiting for execution to finish. Current state: AGGREGATING_LOGS. Final status: SUCCEEDED\n",
      "2025-09-15 21:46:01,603 INFO: Waiting for log aggregation to finish.\n",
      "2025-09-15 21:46:09,846 INFO: Execution finished successfully.\n"
     ]
    },
    {
     "data": {
      "text/plain": [
       "Job('traffic_details_fg_2_compute_stats_15092025214405', 'PYSPARK')"
      ]
     },
     "execution_count": 63,
     "metadata": {},
     "output_type": "execute_result"
    }
   ],
   "source": [
    "traffic_fg.statistics_config = {\n",
    "    \"enabled\": True,\n",
    "    \"histograms\": True,\n",
    "    \"correlations\": True\n",
    "}\n",
    "\n",
    "traffic_fg.update_statistics_config()\n",
    "traffic_fg.compute_statistics()"
   ]
  },
  {
   "cell_type": "markdown",
   "id": "51fbbb21-8304-4ed2-9eb0-478e73056d73",
   "metadata": {},
   "source": [
    "#### VI. City weather Feature Store"
   ]
  },
  {
   "cell_type": "code",
   "execution_count": 59,
   "id": "e5999d08-4a6d-4e38-bb36-fdc6aea33b63",
   "metadata": {},
   "outputs": [],
   "source": [
    "city_weather=city_weather.sort_values(['date','city_id','hour'])"
   ]
  },
  {
   "cell_type": "code",
   "execution_count": 60,
   "id": "c8da4bfd-cf82-4b56-a2fc-40c59df496f0",
   "metadata": {},
   "outputs": [],
   "source": [
    "city_weather_fg = fs.get_or_create_feature_group(\n",
    "    name=\"city_weather_details_fg\",\n",
    "    version=2,\n",
    "    description=\"City Weather data\",\n",
    "    primary_key=['city_id','hour'],\n",
    "    event_time='date',\n",
    "    online_enabled=True\n",
    ")"
   ]
  },
  {
   "cell_type": "code",
   "execution_count": 61,
   "id": "c558a7fb-3c88-4cc4-821e-69ddc39f11d3",
   "metadata": {},
   "outputs": [
    {
     "name": "stdout",
     "output_type": "stream",
     "text": [
      "Feature Group created successfully, explore it at \n",
      "https://c.app.hopsworks.ai:443/p/1246371/fs/1232967/fg/1513848\n"
     ]
    },
    {
     "name": "stderr",
     "output_type": "stream",
     "text": [
      "Uploading Dataframe: 100.00% |██████████| Rows 55176/55176 | Elapsed Time: 00:19 | Remaining Time: 00:00\n"
     ]
    },
    {
     "name": "stdout",
     "output_type": "stream",
     "text": [
      "Launching job: city_weather_details_fg_2_offline_fg_materialization\n",
      "Job started successfully, you can follow the progress at \n",
      "https://c.app.hopsworks.ai:443/p/1246371/jobs/named/city_weather_details_fg_2_offline_fg_materialization/executions\n"
     ]
    },
    {
     "data": {
      "text/plain": [
       "(Job('city_weather_details_fg_2_offline_fg_materialization', 'SPARK'), None)"
      ]
     },
     "execution_count": 61,
     "metadata": {},
     "output_type": "execute_result"
    }
   ],
   "source": [
    "city_weather_fg.insert(city_weather)"
   ]
  },
  {
   "cell_type": "code",
   "execution_count": 62,
   "id": "f5804617-3a04-42f3-800c-19ef89cef475",
   "metadata": {},
   "outputs": [],
   "source": [
    "feature_descriptions_weather = [\n",
    "    {\"name\": 'city_id', \"description\":  'the unique identifier of the city'},\n",
    "    {\"name\": 'date', \"description\":  'date of the observation'},\n",
    "    {\"name\": 'hour', \"description\": 'the hour of the observation as a number in 24hour format'},\n",
    "    {\"name\": 'temp', \"description\":  'temperature in Fahrenheit'},\n",
    "    {\"name\": 'wind_speed', \"description\":  'wind speed in miles per hour'},\n",
    "    {\"name\": 'description', \"description\":  'description of the weather conditions such as Clear, Cloudy, etc'},\n",
    "    {\"name\": 'precip', \"description\":  'precipitation in inches'},\n",
    "    {\"name\": 'humidity', \"description\":  'humidity observed'},\n",
    "    {\"name\": 'visibility', \"description\":  'visibility observed in miles per hour'},\n",
    "    {\"name\": 'pressure', \"description\":  'pressure observed in millibar'},\n",
    "    {\"name\": 'chanceofrain', \"description\":  'chances of rain'},\n",
    "    {\"name\": 'chanceoffog', \"description\":  'chances of fog'},\n",
    "    {\"name\": 'chanceofsnow', \"description\":  'chances of snow'},\n",
    "    {\"name\": 'chanceofthunder', \"description\":  'chances of thunder'}\n",
    "\n",
    "]\n",
    "\n",
    "for desc in feature_descriptions_weather:\n",
    "    city_weather_fg.update_feature_description(desc[\"name\"], desc[\"description\"])"
   ]
  },
  {
   "cell_type": "code",
   "execution_count": 70,
   "id": "c3cc8d2a-bc73-40d7-9ea1-1a8f13bed3de",
   "metadata": {},
   "outputs": [
    {
     "name": "stdout",
     "output_type": "stream",
     "text": [
      "Statistics Job started successfully, you can follow the progress at \n",
      "http://c.app.hopsworks.ai/p/1246371/jobs/named/city_weather_details_fg_2_compute_stats_15092025215032/executions\n",
      "2025-09-15 21:50:41,194 INFO: Waiting for execution to finish. Current state: SUBMITTED. Final status: UNDEFINED\n",
      "2025-09-15 21:50:47,316 INFO: Waiting for execution to finish. Current state: RUNNING. Final status: UNDEFINED\n",
      "2025-09-15 21:52:19,151 INFO: Waiting for execution to finish. Current state: AGGREGATING_LOGS. Final status: SUCCEEDED\n",
      "2025-09-15 21:52:19,197 INFO: Waiting for log aggregation to finish.\n",
      "2025-09-15 21:52:27,428 INFO: Execution finished successfully.\n"
     ]
    },
    {
     "data": {
      "text/plain": [
       "Job('city_weather_details_fg_2_compute_stats_15092025215032', 'PYSPARK')"
      ]
     },
     "execution_count": 70,
     "metadata": {},
     "output_type": "execute_result"
    }
   ],
   "source": [
    "city_weather_fg.statistics_config = {\n",
    "    \"enabled\": True,\n",
    "    \"histograms\": True,\n",
    "    \"correlations\": True\n",
    "}\n",
    "\n",
    "city_weather_fg.update_statistics_config()\n",
    "city_weather_fg.compute_statistics()"
   ]
  },
  {
   "cell_type": "markdown",
   "id": "3b5c0f69-bb18-472d-9242-877b8b2568a4",
   "metadata": {},
   "source": [
    "#### VII. Route Weather Feature Store "
   ]
  },
  {
   "cell_type": "code",
   "execution_count": 64,
   "id": "a6f1fdad-de94-4367-9017-4d8fed6978ca",
   "metadata": {},
   "outputs": [],
   "source": [
    "routes_weather=routes_weather.sort_values(by=['Date','route_id'])"
   ]
  },
  {
   "cell_type": "code",
   "execution_count": 67,
   "id": "dbc14b5c-51f4-40c1-ac6f-98049777d00e",
   "metadata": {},
   "outputs": [],
   "source": [
    "route_weather_fg = fs.get_or_create_feature_group(\n",
    "    name=\"route_weather_details_fg\",\n",
    "    version=1,\n",
    "    description=\"Route Weather data\",\n",
    "    primary_key=['route_id'],\n",
    "    event_time='date',\n",
    "    online_enabled=True\n",
    ")"
   ]
  },
  {
   "cell_type": "code",
   "execution_count": 68,
   "id": "0ba9adb7-1ebe-4b2e-84c3-ae7a46d98e81",
   "metadata": {},
   "outputs": [
    {
     "name": "stderr",
     "output_type": "stream",
     "text": [
      "FeatureGroupWarning: The ingested dataframe contains upper case letters in feature names: `['Date']`. Feature names are sanitized to lower case in the feature store.\n",
      "Uploading Dataframe: 100.00% |██████████| Rows 425712/425712 | Elapsed Time: 01:59 | Remaining Time: 00:00\n"
     ]
    },
    {
     "name": "stdout",
     "output_type": "stream",
     "text": [
      "Launching job: route_weather_details_fg_1_offline_fg_materialization\n",
      "Job started successfully, you can follow the progress at \n",
      "https://c.app.hopsworks.ai:443/p/1246371/jobs/named/route_weather_details_fg_1_offline_fg_materialization/executions\n"
     ]
    },
    {
     "data": {
      "text/plain": [
       "(Job('route_weather_details_fg_1_offline_fg_materialization', 'SPARK'), None)"
      ]
     },
     "execution_count": 68,
     "metadata": {},
     "output_type": "execute_result"
    }
   ],
   "source": [
    "route_weather_fg.insert(routes_weather)"
   ]
  },
  {
   "cell_type": "code",
   "execution_count": 69,
   "id": "75042ff6-8d37-48bb-bca2-b1204de08fc5",
   "metadata": {},
   "outputs": [],
   "source": [
    "feature_descriptions_route_weather = [\n",
    "\n",
    "    {\"name\": 'route_id', \"description\":  'the unique identifier of the city'},\n",
    "    {\"name\": 'date', \"description\":  'date of the observation'},\n",
    "    {\"name\": 'temp', \"description\":  'temperature in Fahrenheit'},\n",
    "    {\"name\": 'wind_speed', \"description\":  'wind speed in miles per hour'},\n",
    "    {\"name\": 'description', \"description\":  'description of the weather conditions such as Clear, Cloudy, etc'},\n",
    "    {\"name\": 'precip', \"description\":  'precipitation in inches'},\n",
    "    {\"name\": 'humidity', \"description\":  'humidity observed'},\n",
    "    {\"name\": 'visibility', \"description\":  'visibility observed in miles per hour'},\n",
    "    {\"name\": 'pressure', \"description\":  'pressure observed in millibar'},\n",
    "    {\"name\": 'chanceofrain', \"description\":  'chances of rain'},\n",
    "    {\"name\": 'chanceoffog', \"description\":  'chances of fog'},\n",
    "    {\"name\": 'chanceofsnow', \"description\":  'chances of snow'},\n",
    "    {\"name\": 'chanceofthunder', \"description\":  'chances of thunder'}\n",
    "\n",
    "]\n",
    "\n",
    "for desc in feature_descriptions_route_weather:\n",
    "    route_weather_fg.update_feature_description(desc[\"name\"], desc[\"description\"])"
   ]
  },
  {
   "cell_type": "code",
   "execution_count": 71,
   "id": "16dbeb3d-b863-4963-b8e3-b8dc23cb9c68",
   "metadata": {},
   "outputs": [
    {
     "data": {
      "text/plain": [
       "Statistics(1757973098826)"
      ]
     },
     "execution_count": 71,
     "metadata": {},
     "output_type": "execute_result"
    }
   ],
   "source": [
    "route_weather_fg.statistics_config = {\n",
    "    \"enabled\": True,\n",
    "    \"histograms\": True,\n",
    "    \"correlations\": True\n",
    "}\n",
    "\n",
    "route_weather_fg.update_statistics_config()\n",
    "route_weather_fg.compute_statistics()"
   ]
  },
  {
   "cell_type": "markdown",
   "id": "4c614521-bfff-4c9b-b660-3312dff2c5a6",
   "metadata": {},
   "source": [
    "### Fetch data from the Feature Store "
   ]
  },
  {
   "cell_type": "code",
   "execution_count": 72,
   "id": "70a10e06-993f-4a7c-97ef-628f41b47b3d",
   "metadata": {},
   "outputs": [
    {
     "name": "stdout",
     "output_type": "stream",
     "text": [
      "Finished: Reading data from Hopsworks, using Hopsworks Feature Query Service (0.79s) \n"
     ]
    }
   ],
   "source": [
    "routes_df_fg=fs.get_feature_group('routes_details_fg',version=1)\n",
    "query=routes_df_fg.select_all()\n",
    "routes_df=query.read()"
   ]
  },
  {
   "cell_type": "code",
   "execution_count": 73,
   "id": "3bfeca12-b7e3-4253-b53d-5d0ea8232d2b",
   "metadata": {},
   "outputs": [
    {
     "name": "stdout",
     "output_type": "stream",
     "text": [
      "Finished: Reading data from Hopsworks, using Hopsworks Feature Query Service (2.95s) \n"
     ]
    }
   ],
   "source": [
    "route_weather_fg = fs.get_feature_group('route_weather_details_fg', version=1)\n",
    "query = route_weather_fg.select_all()\n",
    "route_weather=query.read()"
   ]
  },
  {
   "cell_type": "code",
   "execution_count": 74,
   "id": "60d165ad-64e9-49bb-8250-69d958784673",
   "metadata": {},
   "outputs": [
    {
     "name": "stdout",
     "output_type": "stream",
     "text": [
      "Finished: Reading data from Hopsworks, using Hopsworks Feature Query Service (0.48s) \n"
     ]
    }
   ],
   "source": [
    "drivers_df_fg = fs.get_feature_group('drivers_details_fg', version=3)\n",
    "query = drivers_df_fg.select_all()\n",
    "drivers_df=query.read()"
   ]
  },
  {
   "cell_type": "code",
   "execution_count": 75,
   "id": "c19d0932-e49c-4551-9181-48361128a6b8",
   "metadata": {},
   "outputs": [
    {
     "name": "stdout",
     "output_type": "stream",
     "text": [
      "Finished: Reading data from Hopsworks, using Hopsworks Feature Query Service (0.47s) \n"
     ]
    }
   ],
   "source": [
    "trucks_df_fg = fs.get_feature_group('truck_details_fg', version=2)\n",
    "query = trucks_df_fg.select_all()\n",
    "trucks_df=query.read()"
   ]
  },
  {
   "cell_type": "code",
   "execution_count": 76,
   "id": "17bad430-1927-49d7-9f58-65017d429ca4",
   "metadata": {},
   "outputs": [
    {
     "name": "stdout",
     "output_type": "stream",
     "text": [
      "Finished: Reading data from Hopsworks, using Hopsworks Feature Query Service (9.77s) \n"
     ]
    }
   ],
   "source": [
    "traffic_df_fg = fs.get_feature_group('traffic_details_fg', version=2)\n",
    "query = traffic_df_fg.select_all()\n",
    "traffic_df=query.read()"
   ]
  },
  {
   "cell_type": "code",
   "execution_count": 77,
   "id": "0377ea48-96b6-491a-9502-fc6dbc355bdb",
   "metadata": {},
   "outputs": [
    {
     "name": "stdout",
     "output_type": "stream",
     "text": [
      "Finished: Reading data from Hopsworks, using Hopsworks Feature Query Service (0.52s) \n"
     ]
    }
   ],
   "source": [
    "schedule_df_fg = fs.get_feature_group('truck_schedule_details_fg', version=3)\n",
    "query = schedule_df_fg.select_all()\n",
    "schedule_df=query.read()"
   ]
  },
  {
   "cell_type": "code",
   "execution_count": 78,
   "id": "13a31868-5f08-4dc1-8993-2099b698bfb1",
   "metadata": {},
   "outputs": [
    {
     "name": "stdout",
     "output_type": "stream",
     "text": [
      "Finished: Reading data from Hopsworks, using Hopsworks Feature Query Service (0.76s) \n"
     ]
    }
   ],
   "source": [
    "weather_df_fg = fs.get_feature_group('city_weather_details_fg', version=2)\n",
    "query = weather_df_fg.select_all()\n",
    "weather_df=query.read()"
   ]
  },
  {
   "cell_type": "markdown",
   "id": "f9c6cc79-6bb5-4bf5-91f6-c6e3f141c65f",
   "metadata": {},
   "source": [
    "## Data Preprocessing"
   ]
  },
  {
   "cell_type": "markdown",
   "id": "6cae84d2-dd5d-4c08-8ad7-c1dcf03d6b6b",
   "metadata": {},
   "source": [
    "### I. Missing value detection and imputation"
   ]
  },
  {
   "cell_type": "code",
   "execution_count": 79,
   "id": "9d665660-ee62-403c-bbef-49e5c3e22b88",
   "metadata": {},
   "outputs": [
    {
     "data": {
      "text/html": [
       "<div>\n",
       "<style scoped>\n",
       "    .dataframe tbody tr th:only-of-type {\n",
       "        vertical-align: middle;\n",
       "    }\n",
       "\n",
       "    .dataframe tbody tr th {\n",
       "        vertical-align: top;\n",
       "    }\n",
       "\n",
       "    .dataframe thead th {\n",
       "        text-align: right;\n",
       "    }\n",
       "</style>\n",
       "<table border=\"1\" class=\"dataframe\">\n",
       "  <thead>\n",
       "    <tr style=\"text-align: right;\">\n",
       "      <th></th>\n",
       "      <th>driver_id</th>\n",
       "      <th>name</th>\n",
       "      <th>gender</th>\n",
       "      <th>age</th>\n",
       "      <th>experience</th>\n",
       "      <th>driving_style</th>\n",
       "      <th>ratings</th>\n",
       "      <th>vehicle_no</th>\n",
       "      <th>average_speed_mph</th>\n",
       "      <th>event_time</th>\n",
       "    </tr>\n",
       "  </thead>\n",
       "  <tbody>\n",
       "    <tr>\n",
       "      <th>0</th>\n",
       "      <td>6af718cd-c</td>\n",
       "      <td>Steven Carter</td>\n",
       "      <td>male</td>\n",
       "      <td>47</td>\n",
       "      <td>7</td>\n",
       "      <td>conservative</td>\n",
       "      <td>4</td>\n",
       "      <td>99568033</td>\n",
       "      <td>44.26</td>\n",
       "      <td>2025-09-13 18:22:19.234276+00:00</td>\n",
       "    </tr>\n",
       "  </tbody>\n",
       "</table>\n",
       "</div>"
      ],
      "text/plain": [
       "    driver_id           name gender  age  experience driving_style  ratings  \\\n",
       "0  6af718cd-c  Steven Carter   male   47           7  conservative        4   \n",
       "\n",
       "   vehicle_no  average_speed_mph                       event_time  \n",
       "0    99568033              44.26 2025-09-13 18:22:19.234276+00:00  "
      ]
     },
     "execution_count": 79,
     "metadata": {},
     "output_type": "execute_result"
    }
   ],
   "source": [
    "# Check drivers_df \n",
    "drivers_df.head(1)"
   ]
  },
  {
   "cell_type": "code",
   "execution_count": 80,
   "id": "42d1763e-32cd-4aae-9f3b-690d5a3ac5d3",
   "metadata": {},
   "outputs": [],
   "source": [
    "# Drop event_time column from the df as it's not adding important information for the drivers details dataframe\n",
    "drivers_df.drop(columns='event_time', inplace=True)"
   ]
  },
  {
   "cell_type": "code",
   "execution_count": 81,
   "id": "3aca3d56-81c3-450d-80be-1f0a164b4332",
   "metadata": {},
   "outputs": [
    {
     "data": {
      "text/plain": [
       "driver_id            0\n",
       "name                 0\n",
       "gender               0\n",
       "age                  0\n",
       "experience           0\n",
       "driving_style        0\n",
       "ratings              0\n",
       "vehicle_no           0\n",
       "average_speed_mph    0\n",
       "dtype: int64"
      ]
     },
     "execution_count": 81,
     "metadata": {},
     "output_type": "execute_result"
    }
   ],
   "source": [
    "# check for null values\n",
    "drivers_df.isna().sum()"
   ]
  },
  {
   "cell_type": "code",
   "execution_count": 82,
   "id": "b7ba9e94-d300-42a8-9434-1c962ce2e51d",
   "metadata": {},
   "outputs": [
    {
     "data": {
      "text/html": [
       "<div>\n",
       "<style scoped>\n",
       "    .dataframe tbody tr th:only-of-type {\n",
       "        vertical-align: middle;\n",
       "    }\n",
       "\n",
       "    .dataframe tbody tr th {\n",
       "        vertical-align: top;\n",
       "    }\n",
       "\n",
       "    .dataframe thead th {\n",
       "        text-align: right;\n",
       "    }\n",
       "</style>\n",
       "<table border=\"1\" class=\"dataframe\">\n",
       "  <thead>\n",
       "    <tr style=\"text-align: right;\">\n",
       "      <th></th>\n",
       "      <th>driver_id</th>\n",
       "      <th>name</th>\n",
       "      <th>gender</th>\n",
       "      <th>age</th>\n",
       "      <th>experience</th>\n",
       "      <th>driving_style</th>\n",
       "      <th>ratings</th>\n",
       "      <th>vehicle_no</th>\n",
       "      <th>average_speed_mph</th>\n",
       "    </tr>\n",
       "  </thead>\n",
       "  <tbody>\n",
       "    <tr>\n",
       "      <th>1300</th>\n",
       "      <td>72e45008-5</td>\n",
       "      <td>Julia Graham</td>\n",
       "      <td>female</td>\n",
       "      <td>50</td>\n",
       "      <td>8</td>\n",
       "      <td>conservative</td>\n",
       "      <td>3</td>\n",
       "      <td>17867711</td>\n",
       "      <td>29.15</td>\n",
       "    </tr>\n",
       "    <tr>\n",
       "      <th>1301</th>\n",
       "      <td>9888afbd-f</td>\n",
       "      <td>Jonathan Evans</td>\n",
       "      <td>male</td>\n",
       "      <td>43</td>\n",
       "      <td>12</td>\n",
       "      <td>proactive</td>\n",
       "      <td>6</td>\n",
       "      <td>84896559</td>\n",
       "      <td>59.66</td>\n",
       "    </tr>\n",
       "    <tr>\n",
       "      <th>1302</th>\n",
       "      <td>ba620cdc-7</td>\n",
       "      <td>Jerome Walker</td>\n",
       "      <td>male</td>\n",
       "      <td>38</td>\n",
       "      <td>5</td>\n",
       "      <td>proactive</td>\n",
       "      <td>8</td>\n",
       "      <td>33748476</td>\n",
       "      <td>53.58</td>\n",
       "    </tr>\n",
       "    <tr>\n",
       "      <th>1303</th>\n",
       "      <td>0803fe44-9</td>\n",
       "      <td>Jason Tucker</td>\n",
       "      <td>male</td>\n",
       "      <td>52</td>\n",
       "      <td>17</td>\n",
       "      <td>proactive</td>\n",
       "      <td>4</td>\n",
       "      <td>24578714</td>\n",
       "      <td>59.99</td>\n",
       "    </tr>\n",
       "    <tr>\n",
       "      <th>1304</th>\n",
       "      <td>ee8a6522-b</td>\n",
       "      <td>Nicholas Kerr</td>\n",
       "      <td>male</td>\n",
       "      <td>53</td>\n",
       "      <td>24</td>\n",
       "      <td>proactive</td>\n",
       "      <td>6</td>\n",
       "      <td>30423832</td>\n",
       "      <td>61.13</td>\n",
       "    </tr>\n",
       "    <tr>\n",
       "      <th>...</th>\n",
       "      <td>...</td>\n",
       "      <td>...</td>\n",
       "      <td>...</td>\n",
       "      <td>...</td>\n",
       "      <td>...</td>\n",
       "      <td>...</td>\n",
       "      <td>...</td>\n",
       "      <td>...</td>\n",
       "      <td>...</td>\n",
       "    </tr>\n",
       "    <tr>\n",
       "      <th>2595</th>\n",
       "      <td>bdf779af-e</td>\n",
       "      <td>Gregory Snyder</td>\n",
       "      <td>male</td>\n",
       "      <td>52</td>\n",
       "      <td>20</td>\n",
       "      <td>conservative</td>\n",
       "      <td>4</td>\n",
       "      <td>31923822</td>\n",
       "      <td>47.57</td>\n",
       "    </tr>\n",
       "    <tr>\n",
       "      <th>2596</th>\n",
       "      <td>510e4a9f-b</td>\n",
       "      <td>Colin Lopez</td>\n",
       "      <td>male</td>\n",
       "      <td>49</td>\n",
       "      <td>6</td>\n",
       "      <td>proactive</td>\n",
       "      <td>2</td>\n",
       "      <td>23294840</td>\n",
       "      <td>60.82</td>\n",
       "    </tr>\n",
       "    <tr>\n",
       "      <th>2597</th>\n",
       "      <td>ddcaf636-8</td>\n",
       "      <td>Christopher Rubio</td>\n",
       "      <td>male</td>\n",
       "      <td>57</td>\n",
       "      <td>9</td>\n",
       "      <td>proactive</td>\n",
       "      <td>8</td>\n",
       "      <td>31057269</td>\n",
       "      <td>59.95</td>\n",
       "    </tr>\n",
       "    <tr>\n",
       "      <th>2598</th>\n",
       "      <td>7e4bb9d1-2</td>\n",
       "      <td>Richard Burton</td>\n",
       "      <td>male</td>\n",
       "      <td>39</td>\n",
       "      <td>4</td>\n",
       "      <td>proactive</td>\n",
       "      <td>3</td>\n",
       "      <td>44329842</td>\n",
       "      <td>57.67</td>\n",
       "    </tr>\n",
       "    <tr>\n",
       "      <th>2599</th>\n",
       "      <td>24d78a24-e</td>\n",
       "      <td>John Anthony</td>\n",
       "      <td>male</td>\n",
       "      <td>48</td>\n",
       "      <td>0</td>\n",
       "      <td>conservative</td>\n",
       "      <td>3</td>\n",
       "      <td>41713749</td>\n",
       "      <td>42.15</td>\n",
       "    </tr>\n",
       "  </tbody>\n",
       "</table>\n",
       "<p>1300 rows × 9 columns</p>\n",
       "</div>"
      ],
      "text/plain": [
       "       driver_id               name  gender  age  experience driving_style  \\\n",
       "1300  72e45008-5       Julia Graham  female   50           8  conservative   \n",
       "1301  9888afbd-f     Jonathan Evans    male   43          12     proactive   \n",
       "1302  ba620cdc-7      Jerome Walker    male   38           5     proactive   \n",
       "1303  0803fe44-9       Jason Tucker    male   52          17     proactive   \n",
       "1304  ee8a6522-b      Nicholas Kerr    male   53          24     proactive   \n",
       "...          ...                ...     ...  ...         ...           ...   \n",
       "2595  bdf779af-e     Gregory Snyder    male   52          20  conservative   \n",
       "2596  510e4a9f-b        Colin Lopez    male   49           6     proactive   \n",
       "2597  ddcaf636-8  Christopher Rubio    male   57           9     proactive   \n",
       "2598  7e4bb9d1-2     Richard Burton    male   39           4     proactive   \n",
       "2599  24d78a24-e       John Anthony    male   48           0  conservative   \n",
       "\n",
       "      ratings  vehicle_no  average_speed_mph  \n",
       "1300        3    17867711              29.15  \n",
       "1301        6    84896559              59.66  \n",
       "1302        8    33748476              53.58  \n",
       "1303        4    24578714              59.99  \n",
       "1304        6    30423832              61.13  \n",
       "...       ...         ...                ...  \n",
       "2595        4    31923822              47.57  \n",
       "2596        2    23294840              60.82  \n",
       "2597        8    31057269              59.95  \n",
       "2598        3    44329842              57.67  \n",
       "2599        3    41713749              42.15  \n",
       "\n",
       "[1300 rows x 9 columns]"
      ]
     },
     "execution_count": 82,
     "metadata": {},
     "output_type": "execute_result"
    }
   ],
   "source": [
    "# Check for duplicates in the driver's id column \n",
    "drivers_df[drivers_df.duplicated(subset=['driver_id'])]"
   ]
  },
  {
   "cell_type": "code",
   "execution_count": 83,
   "id": "7a57a780-ab47-4347-bcc1-9a78b3289e88",
   "metadata": {},
   "outputs": [
    {
     "data": {
      "text/html": [
       "<div>\n",
       "<style scoped>\n",
       "    .dataframe tbody tr th:only-of-type {\n",
       "        vertical-align: middle;\n",
       "    }\n",
       "\n",
       "    .dataframe tbody tr th {\n",
       "        vertical-align: top;\n",
       "    }\n",
       "\n",
       "    .dataframe thead th {\n",
       "        text-align: right;\n",
       "    }\n",
       "</style>\n",
       "<table border=\"1\" class=\"dataframe\">\n",
       "  <thead>\n",
       "    <tr style=\"text-align: right;\">\n",
       "      <th></th>\n",
       "      <th>truck_id</th>\n",
       "      <th>truck_age</th>\n",
       "      <th>load_capacity_pounds</th>\n",
       "      <th>mileage_mpg</th>\n",
       "      <th>fuel_type</th>\n",
       "      <th>event_time</th>\n",
       "    </tr>\n",
       "  </thead>\n",
       "  <tbody>\n",
       "    <tr>\n",
       "      <th>0</th>\n",
       "      <td>15302925</td>\n",
       "      <td>7</td>\n",
       "      <td>6000.0</td>\n",
       "      <td>21</td>\n",
       "      <td>diesel</td>\n",
       "      <td>2025-09-15 21:30:56.112407+00:00</td>\n",
       "    </tr>\n",
       "  </tbody>\n",
       "</table>\n",
       "</div>"
      ],
      "text/plain": [
       "   truck_id  truck_age  load_capacity_pounds  mileage_mpg fuel_type  \\\n",
       "0  15302925          7                6000.0           21    diesel   \n",
       "\n",
       "                        event_time  \n",
       "0 2025-09-15 21:30:56.112407+00:00  "
      ]
     },
     "execution_count": 83,
     "metadata": {},
     "output_type": "execute_result"
    }
   ],
   "source": [
    "# Check Truck data \n",
    "trucks_df.head(1)"
   ]
  },
  {
   "cell_type": "code",
   "execution_count": 84,
   "id": "77bbe9fe-c27c-4516-acb2-058714b33690",
   "metadata": {},
   "outputs": [],
   "source": [
    "# Drop event_time column from the df as it's not adding important information for the Trucks details dataframe\n",
    "trucks_df.drop(columns='event_time', inplace=True)"
   ]
  },
  {
   "cell_type": "code",
   "execution_count": 85,
   "id": "6ce74c9c-8c33-410d-8cae-524a02a7e1a4",
   "metadata": {},
   "outputs": [
    {
     "data": {
      "text/plain": [
       "truck_id                 0\n",
       "truck_age                0\n",
       "load_capacity_pounds    57\n",
       "mileage_mpg              0\n",
       "fuel_type                0\n",
       "dtype: int64"
      ]
     },
     "execution_count": 85,
     "metadata": {},
     "output_type": "execute_result"
    }
   ],
   "source": [
    "#check for null values \n",
    "trucks_df.isnull().sum()"
   ]
  },
  {
   "cell_type": "markdown",
   "id": "1254d6e8-cb47-4834-a4f5-4311f17328d8",
   "metadata": {},
   "source": [
    "There are 114 null values for the load_capacit_pounds will be imputed after data splitting. Preliminary analysis showed only 57 null values."
   ]
  },
  {
   "cell_type": "code",
   "execution_count": 86,
   "id": "b99af37f-df04-49d6-883d-d6de7e31d5a2",
   "metadata": {},
   "outputs": [
    {
     "name": "stdout",
     "output_type": "stream",
     "text": [
      "0\n"
     ]
    },
    {
     "data": {
      "text/html": [
       "<div>\n",
       "<style scoped>\n",
       "    .dataframe tbody tr th:only-of-type {\n",
       "        vertical-align: middle;\n",
       "    }\n",
       "\n",
       "    .dataframe tbody tr th {\n",
       "        vertical-align: top;\n",
       "    }\n",
       "\n",
       "    .dataframe thead th {\n",
       "        text-align: right;\n",
       "    }\n",
       "</style>\n",
       "<table border=\"1\" class=\"dataframe\">\n",
       "  <thead>\n",
       "    <tr style=\"text-align: right;\">\n",
       "      <th></th>\n",
       "      <th>truck_id</th>\n",
       "      <th>truck_age</th>\n",
       "      <th>load_capacity_pounds</th>\n",
       "      <th>mileage_mpg</th>\n",
       "      <th>fuel_type</th>\n",
       "    </tr>\n",
       "  </thead>\n",
       "  <tbody>\n",
       "    <tr>\n",
       "      <th>372</th>\n",
       "      <td>30977437</td>\n",
       "      <td>5</td>\n",
       "      <td>NaN</td>\n",
       "      <td>20</td>\n",
       "      <td>unknown</td>\n",
       "    </tr>\n",
       "  </tbody>\n",
       "</table>\n",
       "</div>"
      ],
      "text/plain": [
       "     truck_id  truck_age  load_capacity_pounds  mileage_mpg fuel_type\n",
       "372  30977437          5                   NaN           20   unknown"
      ]
     },
     "execution_count": 86,
     "metadata": {},
     "output_type": "execute_result"
    }
   ],
   "source": [
    "truck_null=trucks_df[trucks_df['load_capacity_pounds'].isna()]\n",
    "null_dup=truck_null.duplicated(subset=['load_capacity_pounds'])\n",
    "print(truck_null.duplicated().sum())\n",
    "truck_null[truck_null['truck_id']==30977437] # check for duplcated null values "
   ]
  },
  {
   "cell_type": "code",
   "execution_count": 87,
   "id": "0089be0d-e7d1-4125-ad98-7f5eca1925b4",
   "metadata": {},
   "outputs": [
    {
     "name": "stderr",
     "output_type": "stream",
     "text": [
      "SettingWithCopyWarning: \n",
      "A value is trying to be set on a copy of a slice from a DataFrame\n",
      "\n",
      "See the caveats in the documentation: https://pandas.pydata.org/pandas-docs/stable/user_guide/indexing.html#returning-a-view-versus-a-copy\n"
     ]
    }
   ],
   "source": [
    "truck_null.drop_duplicates(keep='first',inplace=True)"
   ]
  },
  {
   "cell_type": "code",
   "execution_count": 88,
   "id": "bdfdf16e-d1a6-4bce-b06b-0b72f41801e0",
   "metadata": {},
   "outputs": [
    {
     "data": {
      "text/plain": [
       "0"
      ]
     },
     "execution_count": 88,
     "metadata": {},
     "output_type": "execute_result"
    }
   ],
   "source": [
    "truck_null.duplicated().sum()"
   ]
  },
  {
   "cell_type": "code",
   "execution_count": 89,
   "id": "cbc4072a-8697-473e-a1bf-3b1fc8edff96",
   "metadata": {},
   "outputs": [
    {
     "data": {
      "text/plain": [
       "truck_id                 0\n",
       "truck_age                0\n",
       "load_capacity_pounds    57\n",
       "mileage_mpg              0\n",
       "fuel_type                0\n",
       "dtype: int64"
      ]
     },
     "execution_count": 89,
     "metadata": {},
     "output_type": "execute_result"
    }
   ],
   "source": [
    "truck_null.isna().sum()"
   ]
  },
  {
   "cell_type": "code",
   "execution_count": 90,
   "id": "58b87317-8712-4e46-b9f2-d7c9af7cd814",
   "metadata": {},
   "outputs": [
    {
     "data": {
      "text/html": [
       "<div>\n",
       "<style scoped>\n",
       "    .dataframe tbody tr th:only-of-type {\n",
       "        vertical-align: middle;\n",
       "    }\n",
       "\n",
       "    .dataframe tbody tr th {\n",
       "        vertical-align: top;\n",
       "    }\n",
       "\n",
       "    .dataframe thead th {\n",
       "        text-align: right;\n",
       "    }\n",
       "</style>\n",
       "<table border=\"1\" class=\"dataframe\">\n",
       "  <thead>\n",
       "    <tr style=\"text-align: right;\">\n",
       "      <th></th>\n",
       "      <th>truck_id</th>\n",
       "      <th>truck_age</th>\n",
       "      <th>load_capacity_pounds</th>\n",
       "      <th>mileage_mpg</th>\n",
       "      <th>fuel_type</th>\n",
       "    </tr>\n",
       "  </thead>\n",
       "  <tbody>\n",
       "  </tbody>\n",
       "</table>\n",
       "</div>"
      ],
      "text/plain": [
       "Empty DataFrame\n",
       "Columns: [truck_id, truck_age, load_capacity_pounds, mileage_mpg, fuel_type]\n",
       "Index: []"
      ]
     },
     "execution_count": 90,
     "metadata": {},
     "output_type": "execute_result"
    }
   ],
   "source": [
    "truck_null[truck_null.duplicated(subset=['truck_id'])]"
   ]
  },
  {
   "cell_type": "code",
   "execution_count": 91,
   "id": "aab2a49c-8782-4845-8fb3-4499eb4f84d5",
   "metadata": {},
   "outputs": [
    {
     "data": {
      "text/html": [
       "<div>\n",
       "<style scoped>\n",
       "    .dataframe tbody tr th:only-of-type {\n",
       "        vertical-align: middle;\n",
       "    }\n",
       "\n",
       "    .dataframe tbody tr th {\n",
       "        vertical-align: top;\n",
       "    }\n",
       "\n",
       "    .dataframe thead th {\n",
       "        text-align: right;\n",
       "    }\n",
       "</style>\n",
       "<table border=\"1\" class=\"dataframe\">\n",
       "  <thead>\n",
       "    <tr style=\"text-align: right;\">\n",
       "      <th></th>\n",
       "      <th>route_id</th>\n",
       "      <th>origin_id</th>\n",
       "      <th>destination_id</th>\n",
       "      <th>distance</th>\n",
       "      <th>average_hours</th>\n",
       "      <th>event_time</th>\n",
       "    </tr>\n",
       "  </thead>\n",
       "  <tbody>\n",
       "    <tr>\n",
       "      <th>0</th>\n",
       "      <td>R-5490d8a5</td>\n",
       "      <td>C-03bb3e48</td>\n",
       "      <td>C-2c9e75ef</td>\n",
       "      <td>687.88</td>\n",
       "      <td>13.76</td>\n",
       "      <td>2025-09-13 18:32:58.329091+00:00</td>\n",
       "    </tr>\n",
       "    <tr>\n",
       "      <th>1</th>\n",
       "      <td>R-9ad2edb9</td>\n",
       "      <td>C-9bbf5d8a</td>\n",
       "      <td>C-34ae77b0</td>\n",
       "      <td>9561.03</td>\n",
       "      <td>191.22</td>\n",
       "      <td>2025-09-13 18:32:58.329091+00:00</td>\n",
       "    </tr>\n",
       "    <tr>\n",
       "      <th>2</th>\n",
       "      <td>R-a5925afd</td>\n",
       "      <td>C-90e30162</td>\n",
       "      <td>C-e5bfb4e5</td>\n",
       "      <td>755.72</td>\n",
       "      <td>15.11</td>\n",
       "      <td>2025-09-13 18:32:58.329091+00:00</td>\n",
       "    </tr>\n",
       "    <tr>\n",
       "      <th>3</th>\n",
       "      <td>R-30fb0047</td>\n",
       "      <td>C-c4565ee8</td>\n",
       "      <td>C-d80a1e7d</td>\n",
       "      <td>167.91</td>\n",
       "      <td>3.36</td>\n",
       "      <td>2025-09-13 18:32:58.329091+00:00</td>\n",
       "    </tr>\n",
       "    <tr>\n",
       "      <th>4</th>\n",
       "      <td>R-8514fd9a</td>\n",
       "      <td>C-419cd14c</td>\n",
       "      <td>C-ff8c0c3c</td>\n",
       "      <td>656.60</td>\n",
       "      <td>13.13</td>\n",
       "      <td>2025-09-13 18:32:58.329091+00:00</td>\n",
       "    </tr>\n",
       "  </tbody>\n",
       "</table>\n",
       "</div>"
      ],
      "text/plain": [
       "     route_id   origin_id destination_id  distance  average_hours  \\\n",
       "0  R-5490d8a5  C-03bb3e48     C-2c9e75ef    687.88          13.76   \n",
       "1  R-9ad2edb9  C-9bbf5d8a     C-34ae77b0   9561.03         191.22   \n",
       "2  R-a5925afd  C-90e30162     C-e5bfb4e5    755.72          15.11   \n",
       "3  R-30fb0047  C-c4565ee8     C-d80a1e7d    167.91           3.36   \n",
       "4  R-8514fd9a  C-419cd14c     C-ff8c0c3c    656.60          13.13   \n",
       "\n",
       "                        event_time  \n",
       "0 2025-09-13 18:32:58.329091+00:00  \n",
       "1 2025-09-13 18:32:58.329091+00:00  \n",
       "2 2025-09-13 18:32:58.329091+00:00  \n",
       "3 2025-09-13 18:32:58.329091+00:00  \n",
       "4 2025-09-13 18:32:58.329091+00:00  "
      ]
     },
     "execution_count": 91,
     "metadata": {},
     "output_type": "execute_result"
    }
   ],
   "source": [
    "# Check routes_df \n",
    "routes_df.head()"
   ]
  },
  {
   "cell_type": "code",
   "execution_count": 92,
   "id": "35065aa9-70c8-4349-b9d0-c631c0dc51a6",
   "metadata": {},
   "outputs": [],
   "source": [
    "# drop event_time column\n",
    "routes_df.drop(columns=['event_time'],inplace=True)"
   ]
  },
  {
   "cell_type": "code",
   "execution_count": 93,
   "id": "eef6d905-f453-43ac-a7f1-17cbf3599e8a",
   "metadata": {},
   "outputs": [
    {
     "data": {
      "text/plain": [
       "route_id          0\n",
       "origin_id         0\n",
       "destination_id    0\n",
       "distance          0\n",
       "average_hours     0\n",
       "dtype: int64"
      ]
     },
     "execution_count": 93,
     "metadata": {},
     "output_type": "execute_result"
    }
   ],
   "source": [
    "routes_df.isnull().sum()"
   ]
  },
  {
   "cell_type": "code",
   "execution_count": 94,
   "id": "e9b1bc4b-cfcb-4a9a-afc5-493693bfc9b6",
   "metadata": {},
   "outputs": [
    {
     "data": {
      "text/html": [
       "<div>\n",
       "<style scoped>\n",
       "    .dataframe tbody tr th:only-of-type {\n",
       "        vertical-align: middle;\n",
       "    }\n",
       "\n",
       "    .dataframe tbody tr th {\n",
       "        vertical-align: top;\n",
       "    }\n",
       "\n",
       "    .dataframe thead th {\n",
       "        text-align: right;\n",
       "    }\n",
       "</style>\n",
       "<table border=\"1\" class=\"dataframe\">\n",
       "  <thead>\n",
       "    <tr style=\"text-align: right;\">\n",
       "      <th></th>\n",
       "      <th>route_id</th>\n",
       "      <th>origin_id</th>\n",
       "      <th>destination_id</th>\n",
       "      <th>distance</th>\n",
       "      <th>average_hours</th>\n",
       "    </tr>\n",
       "  </thead>\n",
       "  <tbody>\n",
       "    <tr>\n",
       "      <th>2352</th>\n",
       "      <td>R-3c2da22e</td>\n",
       "      <td>C-34ae77b0</td>\n",
       "      <td>C-451776b7</td>\n",
       "      <td>7423.61</td>\n",
       "      <td>148.47</td>\n",
       "    </tr>\n",
       "    <tr>\n",
       "      <th>2353</th>\n",
       "      <td>R-314ccc79</td>\n",
       "      <td>C-fc66f0ab</td>\n",
       "      <td>C-40a81eb1</td>\n",
       "      <td>942.14</td>\n",
       "      <td>18.84</td>\n",
       "    </tr>\n",
       "    <tr>\n",
       "      <th>2354</th>\n",
       "      <td>R-7b8aaa81</td>\n",
       "      <td>C-19236709</td>\n",
       "      <td>C-a9f2c329</td>\n",
       "      <td>134.12</td>\n",
       "      <td>2.68</td>\n",
       "    </tr>\n",
       "    <tr>\n",
       "      <th>2355</th>\n",
       "      <td>R-0420f35d</td>\n",
       "      <td>C-5d86b887</td>\n",
       "      <td>C-2e349ccd</td>\n",
       "      <td>7730.39</td>\n",
       "      <td>154.61</td>\n",
       "    </tr>\n",
       "    <tr>\n",
       "      <th>2356</th>\n",
       "      <td>R-ac9b18c6</td>\n",
       "      <td>C-c92599e2</td>\n",
       "      <td>C-19236709</td>\n",
       "      <td>1655.00</td>\n",
       "      <td>33.10</td>\n",
       "    </tr>\n",
       "    <tr>\n",
       "      <th>...</th>\n",
       "      <td>...</td>\n",
       "      <td>...</td>\n",
       "      <td>...</td>\n",
       "      <td>...</td>\n",
       "      <td>...</td>\n",
       "    </tr>\n",
       "    <tr>\n",
       "      <th>4699</th>\n",
       "      <td>R-237fd22b</td>\n",
       "      <td>C-b6e04c88</td>\n",
       "      <td>C-639c5e36</td>\n",
       "      <td>1170.78</td>\n",
       "      <td>23.42</td>\n",
       "    </tr>\n",
       "    <tr>\n",
       "      <th>4700</th>\n",
       "      <td>R-47b599b9</td>\n",
       "      <td>C-6df8beaf</td>\n",
       "      <td>C-ef47bdcd</td>\n",
       "      <td>755.21</td>\n",
       "      <td>15.10</td>\n",
       "    </tr>\n",
       "    <tr>\n",
       "      <th>4701</th>\n",
       "      <td>R-e2bdd2c3</td>\n",
       "      <td>C-e6dcda92</td>\n",
       "      <td>C-e5bfb4e5</td>\n",
       "      <td>400.78</td>\n",
       "      <td>8.02</td>\n",
       "    </tr>\n",
       "    <tr>\n",
       "      <th>4702</th>\n",
       "      <td>R-d2c79890</td>\n",
       "      <td>C-2e349ccd</td>\n",
       "      <td>C-c4565ee8</td>\n",
       "      <td>8066.44</td>\n",
       "      <td>161.33</td>\n",
       "    </tr>\n",
       "    <tr>\n",
       "      <th>4703</th>\n",
       "      <td>R-09b4b830</td>\n",
       "      <td>C-841ebdcb</td>\n",
       "      <td>C-ef47bdcd</td>\n",
       "      <td>863.47</td>\n",
       "      <td>17.27</td>\n",
       "    </tr>\n",
       "  </tbody>\n",
       "</table>\n",
       "<p>2352 rows × 5 columns</p>\n",
       "</div>"
      ],
      "text/plain": [
       "        route_id   origin_id destination_id  distance  average_hours\n",
       "2352  R-3c2da22e  C-34ae77b0     C-451776b7   7423.61         148.47\n",
       "2353  R-314ccc79  C-fc66f0ab     C-40a81eb1    942.14          18.84\n",
       "2354  R-7b8aaa81  C-19236709     C-a9f2c329    134.12           2.68\n",
       "2355  R-0420f35d  C-5d86b887     C-2e349ccd   7730.39         154.61\n",
       "2356  R-ac9b18c6  C-c92599e2     C-19236709   1655.00          33.10\n",
       "...          ...         ...            ...       ...            ...\n",
       "4699  R-237fd22b  C-b6e04c88     C-639c5e36   1170.78          23.42\n",
       "4700  R-47b599b9  C-6df8beaf     C-ef47bdcd    755.21          15.10\n",
       "4701  R-e2bdd2c3  C-e6dcda92     C-e5bfb4e5    400.78           8.02\n",
       "4702  R-d2c79890  C-2e349ccd     C-c4565ee8   8066.44         161.33\n",
       "4703  R-09b4b830  C-841ebdcb     C-ef47bdcd    863.47          17.27\n",
       "\n",
       "[2352 rows x 5 columns]"
      ]
     },
     "execution_count": 94,
     "metadata": {},
     "output_type": "execute_result"
    }
   ],
   "source": [
    "# check for the duplicates in routes with same origin and destination \n",
    "routes_df[routes_df.duplicated(subset=['route_id','destination_id','origin_id'])]"
   ]
  },
  {
   "cell_type": "code",
   "execution_count": 95,
   "id": "50943ff1-47ab-484a-9561-bd7e43f1ac7b",
   "metadata": {},
   "outputs": [
    {
     "data": {
      "text/html": [
       "<div>\n",
       "<style scoped>\n",
       "    .dataframe tbody tr th:only-of-type {\n",
       "        vertical-align: middle;\n",
       "    }\n",
       "\n",
       "    .dataframe tbody tr th {\n",
       "        vertical-align: top;\n",
       "    }\n",
       "\n",
       "    .dataframe thead th {\n",
       "        text-align: right;\n",
       "    }\n",
       "</style>\n",
       "<table border=\"1\" class=\"dataframe\">\n",
       "  <thead>\n",
       "    <tr style=\"text-align: right;\">\n",
       "      <th></th>\n",
       "      <th>route_id</th>\n",
       "      <th>origin_id</th>\n",
       "      <th>destination_id</th>\n",
       "      <th>distance</th>\n",
       "      <th>average_hours</th>\n",
       "    </tr>\n",
       "  </thead>\n",
       "  <tbody>\n",
       "    <tr>\n",
       "      <th>2352</th>\n",
       "      <td>R-3c2da22e</td>\n",
       "      <td>C-34ae77b0</td>\n",
       "      <td>C-451776b7</td>\n",
       "      <td>7423.61</td>\n",
       "      <td>148.47</td>\n",
       "    </tr>\n",
       "    <tr>\n",
       "      <th>2353</th>\n",
       "      <td>R-314ccc79</td>\n",
       "      <td>C-fc66f0ab</td>\n",
       "      <td>C-40a81eb1</td>\n",
       "      <td>942.14</td>\n",
       "      <td>18.84</td>\n",
       "    </tr>\n",
       "    <tr>\n",
       "      <th>2354</th>\n",
       "      <td>R-7b8aaa81</td>\n",
       "      <td>C-19236709</td>\n",
       "      <td>C-a9f2c329</td>\n",
       "      <td>134.12</td>\n",
       "      <td>2.68</td>\n",
       "    </tr>\n",
       "    <tr>\n",
       "      <th>2355</th>\n",
       "      <td>R-0420f35d</td>\n",
       "      <td>C-5d86b887</td>\n",
       "      <td>C-2e349ccd</td>\n",
       "      <td>7730.39</td>\n",
       "      <td>154.61</td>\n",
       "    </tr>\n",
       "    <tr>\n",
       "      <th>2356</th>\n",
       "      <td>R-ac9b18c6</td>\n",
       "      <td>C-c92599e2</td>\n",
       "      <td>C-19236709</td>\n",
       "      <td>1655.00</td>\n",
       "      <td>33.10</td>\n",
       "    </tr>\n",
       "    <tr>\n",
       "      <th>...</th>\n",
       "      <td>...</td>\n",
       "      <td>...</td>\n",
       "      <td>...</td>\n",
       "      <td>...</td>\n",
       "      <td>...</td>\n",
       "    </tr>\n",
       "    <tr>\n",
       "      <th>4699</th>\n",
       "      <td>R-237fd22b</td>\n",
       "      <td>C-b6e04c88</td>\n",
       "      <td>C-639c5e36</td>\n",
       "      <td>1170.78</td>\n",
       "      <td>23.42</td>\n",
       "    </tr>\n",
       "    <tr>\n",
       "      <th>4700</th>\n",
       "      <td>R-47b599b9</td>\n",
       "      <td>C-6df8beaf</td>\n",
       "      <td>C-ef47bdcd</td>\n",
       "      <td>755.21</td>\n",
       "      <td>15.10</td>\n",
       "    </tr>\n",
       "    <tr>\n",
       "      <th>4701</th>\n",
       "      <td>R-e2bdd2c3</td>\n",
       "      <td>C-e6dcda92</td>\n",
       "      <td>C-e5bfb4e5</td>\n",
       "      <td>400.78</td>\n",
       "      <td>8.02</td>\n",
       "    </tr>\n",
       "    <tr>\n",
       "      <th>4702</th>\n",
       "      <td>R-d2c79890</td>\n",
       "      <td>C-2e349ccd</td>\n",
       "      <td>C-c4565ee8</td>\n",
       "      <td>8066.44</td>\n",
       "      <td>161.33</td>\n",
       "    </tr>\n",
       "    <tr>\n",
       "      <th>4703</th>\n",
       "      <td>R-09b4b830</td>\n",
       "      <td>C-841ebdcb</td>\n",
       "      <td>C-ef47bdcd</td>\n",
       "      <td>863.47</td>\n",
       "      <td>17.27</td>\n",
       "    </tr>\n",
       "  </tbody>\n",
       "</table>\n",
       "<p>2352 rows × 5 columns</p>\n",
       "</div>"
      ],
      "text/plain": [
       "        route_id   origin_id destination_id  distance  average_hours\n",
       "2352  R-3c2da22e  C-34ae77b0     C-451776b7   7423.61         148.47\n",
       "2353  R-314ccc79  C-fc66f0ab     C-40a81eb1    942.14          18.84\n",
       "2354  R-7b8aaa81  C-19236709     C-a9f2c329    134.12           2.68\n",
       "2355  R-0420f35d  C-5d86b887     C-2e349ccd   7730.39         154.61\n",
       "2356  R-ac9b18c6  C-c92599e2     C-19236709   1655.00          33.10\n",
       "...          ...         ...            ...       ...            ...\n",
       "4699  R-237fd22b  C-b6e04c88     C-639c5e36   1170.78          23.42\n",
       "4700  R-47b599b9  C-6df8beaf     C-ef47bdcd    755.21          15.10\n",
       "4701  R-e2bdd2c3  C-e6dcda92     C-e5bfb4e5    400.78           8.02\n",
       "4702  R-d2c79890  C-2e349ccd     C-c4565ee8   8066.44         161.33\n",
       "4703  R-09b4b830  C-841ebdcb     C-ef47bdcd    863.47          17.27\n",
       "\n",
       "[2352 rows x 5 columns]"
      ]
     },
     "execution_count": 95,
     "metadata": {},
     "output_type": "execute_result"
    }
   ],
   "source": [
    "# check for duplicates in the route id \n",
    "routes_df[routes_df.duplicated(subset=['route_id'])]"
   ]
  },
  {
   "cell_type": "code",
   "execution_count": 96,
   "id": "60ad59e3-fed4-448a-9dfd-685d1803657b",
   "metadata": {},
   "outputs": [
    {
     "data": {
      "text/html": [
       "<div>\n",
       "<style scoped>\n",
       "    .dataframe tbody tr th:only-of-type {\n",
       "        vertical-align: middle;\n",
       "    }\n",
       "\n",
       "    .dataframe tbody tr th {\n",
       "        vertical-align: top;\n",
       "    }\n",
       "\n",
       "    .dataframe thead th {\n",
       "        text-align: right;\n",
       "    }\n",
       "</style>\n",
       "<table border=\"1\" class=\"dataframe\">\n",
       "  <thead>\n",
       "    <tr style=\"text-align: right;\">\n",
       "      <th></th>\n",
       "      <th>truck_id</th>\n",
       "      <th>route_id</th>\n",
       "      <th>departure_date</th>\n",
       "      <th>estimated_arrival</th>\n",
       "      <th>delay</th>\n",
       "    </tr>\n",
       "  </thead>\n",
       "  <tbody>\n",
       "    <tr>\n",
       "      <th>0</th>\n",
       "      <td>46115322</td>\n",
       "      <td>R-745d907e</td>\n",
       "      <td>2019-02-06 07:00:00+00:00</td>\n",
       "      <td>2019-02-06 14:29:24+00:00</td>\n",
       "      <td>1</td>\n",
       "    </tr>\n",
       "  </tbody>\n",
       "</table>\n",
       "</div>"
      ],
      "text/plain": [
       "   truck_id    route_id            departure_date         estimated_arrival  \\\n",
       "0  46115322  R-745d907e 2019-02-06 07:00:00+00:00 2019-02-06 14:29:24+00:00   \n",
       "\n",
       "   delay  \n",
       "0      1  "
      ]
     },
     "execution_count": 96,
     "metadata": {},
     "output_type": "execute_result"
    }
   ],
   "source": [
    "#Check schedule df \n",
    "schedule_df.head(1)"
   ]
  },
  {
   "cell_type": "code",
   "execution_count": 97,
   "id": "178dc7a6-e522-4f70-b7e3-793c3af4fd34",
   "metadata": {},
   "outputs": [
    {
     "data": {
      "text/plain": [
       "truck_id             0\n",
       "route_id             0\n",
       "departure_date       0\n",
       "estimated_arrival    0\n",
       "delay                0\n",
       "dtype: int64"
      ]
     },
     "execution_count": 97,
     "metadata": {},
     "output_type": "execute_result"
    }
   ],
   "source": [
    "schedule_df.isna().sum()"
   ]
  },
  {
   "cell_type": "code",
   "execution_count": 98,
   "id": "ad2d530d-0e3b-4e06-8a75-8f91a43e3888",
   "metadata": {},
   "outputs": [
    {
     "data": {
      "text/html": [
       "<div>\n",
       "<style scoped>\n",
       "    .dataframe tbody tr th:only-of-type {\n",
       "        vertical-align: middle;\n",
       "    }\n",
       "\n",
       "    .dataframe tbody tr th {\n",
       "        vertical-align: top;\n",
       "    }\n",
       "\n",
       "    .dataframe thead th {\n",
       "        text-align: right;\n",
       "    }\n",
       "</style>\n",
       "<table border=\"1\" class=\"dataframe\">\n",
       "  <thead>\n",
       "    <tr style=\"text-align: right;\">\n",
       "      <th></th>\n",
       "      <th>truck_id</th>\n",
       "      <th>route_id</th>\n",
       "      <th>departure_date</th>\n",
       "      <th>estimated_arrival</th>\n",
       "      <th>delay</th>\n",
       "    </tr>\n",
       "  </thead>\n",
       "  <tbody>\n",
       "  </tbody>\n",
       "</table>\n",
       "</div>"
      ],
      "text/plain": [
       "Empty DataFrame\n",
       "Columns: [truck_id, route_id, departure_date, estimated_arrival, delay]\n",
       "Index: []"
      ]
     },
     "execution_count": 98,
     "metadata": {},
     "output_type": "execute_result"
    }
   ],
   "source": [
    "# check for duplicates\n",
    "schedule_df[schedule_df.duplicated()]"
   ]
  },
  {
   "cell_type": "code",
   "execution_count": 99,
   "id": "8e739e27-453a-4036-ba5a-433c2f1f68b0",
   "metadata": {},
   "outputs": [
    {
     "data": {
      "text/html": [
       "<div>\n",
       "<style scoped>\n",
       "    .dataframe tbody tr th:only-of-type {\n",
       "        vertical-align: middle;\n",
       "    }\n",
       "\n",
       "    .dataframe tbody tr th {\n",
       "        vertical-align: top;\n",
       "    }\n",
       "\n",
       "    .dataframe thead th {\n",
       "        text-align: right;\n",
       "    }\n",
       "</style>\n",
       "<table border=\"1\" class=\"dataframe\">\n",
       "  <thead>\n",
       "    <tr style=\"text-align: right;\">\n",
       "      <th></th>\n",
       "      <th>city_id</th>\n",
       "      <th>date</th>\n",
       "      <th>hour</th>\n",
       "      <th>temp</th>\n",
       "      <th>wind_speed</th>\n",
       "      <th>description</th>\n",
       "      <th>precip</th>\n",
       "      <th>humidity</th>\n",
       "      <th>visibility</th>\n",
       "      <th>pressure</th>\n",
       "      <th>chanceofrain</th>\n",
       "      <th>chanceoffog</th>\n",
       "      <th>chanceofsnow</th>\n",
       "      <th>chanceofthunder</th>\n",
       "    </tr>\n",
       "  </thead>\n",
       "  <tbody>\n",
       "    <tr>\n",
       "      <th>0</th>\n",
       "      <td>C-c4565ee8</td>\n",
       "      <td>2019-01-02 00:00:00+00:00</td>\n",
       "      <td>700</td>\n",
       "      <td>32.0</td>\n",
       "      <td>4.0</td>\n",
       "      <td>Partly cloudy</td>\n",
       "      <td>0.0</td>\n",
       "      <td>87</td>\n",
       "      <td>4.0</td>\n",
       "      <td>1024.0</td>\n",
       "      <td>0.0</td>\n",
       "      <td>0.0</td>\n",
       "      <td>0.0</td>\n",
       "      <td>0.0</td>\n",
       "    </tr>\n",
       "    <tr>\n",
       "      <th>1</th>\n",
       "      <td>C-90e30162</td>\n",
       "      <td>2019-01-01 00:00:00+00:00</td>\n",
       "      <td>2000</td>\n",
       "      <td>50.0</td>\n",
       "      <td>7.0</td>\n",
       "      <td>Clear</td>\n",
       "      <td>0.0</td>\n",
       "      <td>87</td>\n",
       "      <td>6.0</td>\n",
       "      <td>1023.0</td>\n",
       "      <td>0.0</td>\n",
       "      <td>0.0</td>\n",
       "      <td>0.0</td>\n",
       "      <td>0.0</td>\n",
       "    </tr>\n",
       "    <tr>\n",
       "      <th>2</th>\n",
       "      <td>C-2c9e75ef</td>\n",
       "      <td>2019-01-28 00:00:00+00:00</td>\n",
       "      <td>900</td>\n",
       "      <td>45.0</td>\n",
       "      <td>12.0</td>\n",
       "      <td>Overcast</td>\n",
       "      <td>0.0</td>\n",
       "      <td>69</td>\n",
       "      <td>6.0</td>\n",
       "      <td>1015.0</td>\n",
       "      <td>0.0</td>\n",
       "      <td>0.0</td>\n",
       "      <td>0.0</td>\n",
       "      <td>0.0</td>\n",
       "    </tr>\n",
       "    <tr>\n",
       "      <th>3</th>\n",
       "      <td>C-ff8c0c3c</td>\n",
       "      <td>2019-01-08 00:00:00+00:00</td>\n",
       "      <td>1400</td>\n",
       "      <td>50.0</td>\n",
       "      <td>9.0</td>\n",
       "      <td>Sunny</td>\n",
       "      <td>0.0</td>\n",
       "      <td>42</td>\n",
       "      <td>6.0</td>\n",
       "      <td>1026.0</td>\n",
       "      <td>0.0</td>\n",
       "      <td>0.0</td>\n",
       "      <td>0.0</td>\n",
       "      <td>0.0</td>\n",
       "    </tr>\n",
       "    <tr>\n",
       "      <th>4</th>\n",
       "      <td>C-451776b7</td>\n",
       "      <td>2019-01-06 00:00:00+00:00</td>\n",
       "      <td>100</td>\n",
       "      <td>52.0</td>\n",
       "      <td>6.0</td>\n",
       "      <td>Light rain</td>\n",
       "      <td>0.0</td>\n",
       "      <td>87</td>\n",
       "      <td>4.0</td>\n",
       "      <td>1014.0</td>\n",
       "      <td>0.0</td>\n",
       "      <td>0.0</td>\n",
       "      <td>0.0</td>\n",
       "      <td>0.0</td>\n",
       "    </tr>\n",
       "  </tbody>\n",
       "</table>\n",
       "</div>"
      ],
      "text/plain": [
       "      city_id                      date  hour  temp  wind_speed  \\\n",
       "0  C-c4565ee8 2019-01-02 00:00:00+00:00   700  32.0         4.0   \n",
       "1  C-90e30162 2019-01-01 00:00:00+00:00  2000  50.0         7.0   \n",
       "2  C-2c9e75ef 2019-01-28 00:00:00+00:00   900  45.0        12.0   \n",
       "3  C-ff8c0c3c 2019-01-08 00:00:00+00:00  1400  50.0         9.0   \n",
       "4  C-451776b7 2019-01-06 00:00:00+00:00   100  52.0         6.0   \n",
       "\n",
       "     description  precip  humidity  visibility  pressure  chanceofrain  \\\n",
       "0  Partly cloudy     0.0        87         4.0    1024.0           0.0   \n",
       "1          Clear     0.0        87         6.0    1023.0           0.0   \n",
       "2       Overcast     0.0        69         6.0    1015.0           0.0   \n",
       "3          Sunny     0.0        42         6.0    1026.0           0.0   \n",
       "4     Light rain     0.0        87         4.0    1014.0           0.0   \n",
       "\n",
       "   chanceoffog  chanceofsnow  chanceofthunder  \n",
       "0          0.0           0.0              0.0  \n",
       "1          0.0           0.0              0.0  \n",
       "2          0.0           0.0              0.0  \n",
       "3          0.0           0.0              0.0  \n",
       "4          0.0           0.0              0.0  "
      ]
     },
     "execution_count": 99,
     "metadata": {},
     "output_type": "execute_result"
    }
   ],
   "source": [
    "#check weather_df\n",
    "weather_df.head(5)"
   ]
  },
  {
   "cell_type": "code",
   "execution_count": 100,
   "id": "5d8484d0-bf4f-4558-a99a-7d9a19e446d5",
   "metadata": {},
   "outputs": [
    {
     "data": {
      "text/plain": [
       "city_id                             object\n",
       "date               datetime64[ns, Etc/UTC]\n",
       "hour                                 int64\n",
       "temp                               float64\n",
       "wind_speed                         float64\n",
       "description                         object\n",
       "precip                             float64\n",
       "humidity                             int64\n",
       "visibility                         float64\n",
       "pressure                           float64\n",
       "chanceofrain                       float64\n",
       "chanceoffog                        float64\n",
       "chanceofsnow                       float64\n",
       "chanceofthunder                    float64\n",
       "dtype: object"
      ]
     },
     "execution_count": 100,
     "metadata": {},
     "output_type": "execute_result"
    }
   ],
   "source": [
    "weather_df.dtypes"
   ]
  },
  {
   "cell_type": "code",
   "execution_count": 101,
   "id": "9034c817-fb1a-4af3-b836-361ef92adf93",
   "metadata": {},
   "outputs": [
    {
     "data": {
      "text/html": [
       "<div>\n",
       "<style scoped>\n",
       "    .dataframe tbody tr th:only-of-type {\n",
       "        vertical-align: middle;\n",
       "    }\n",
       "\n",
       "    .dataframe tbody tr th {\n",
       "        vertical-align: top;\n",
       "    }\n",
       "\n",
       "    .dataframe thead th {\n",
       "        text-align: right;\n",
       "    }\n",
       "</style>\n",
       "<table border=\"1\" class=\"dataframe\">\n",
       "  <thead>\n",
       "    <tr style=\"text-align: right;\">\n",
       "      <th></th>\n",
       "      <th>hour</th>\n",
       "      <th>temp</th>\n",
       "      <th>wind_speed</th>\n",
       "      <th>precip</th>\n",
       "      <th>humidity</th>\n",
       "      <th>visibility</th>\n",
       "      <th>pressure</th>\n",
       "      <th>chanceofrain</th>\n",
       "      <th>chanceoffog</th>\n",
       "      <th>chanceofsnow</th>\n",
       "      <th>chanceofthunder</th>\n",
       "    </tr>\n",
       "  </thead>\n",
       "  <tbody>\n",
       "    <tr>\n",
       "      <th>count</th>\n",
       "      <td>54072.000000</td>\n",
       "      <td>54072.000000</td>\n",
       "      <td>54072.000000</td>\n",
       "      <td>54072.000000</td>\n",
       "      <td>54072.000000</td>\n",
       "      <td>54072.000000</td>\n",
       "      <td>54072.000000</td>\n",
       "      <td>54072.0</td>\n",
       "      <td>54072.0</td>\n",
       "      <td>54072.0</td>\n",
       "      <td>54072.0</td>\n",
       "    </tr>\n",
       "    <tr>\n",
       "      <th>mean</th>\n",
       "      <td>1150.000000</td>\n",
       "      <td>36.216951</td>\n",
       "      <td>7.903499</td>\n",
       "      <td>0.003482</td>\n",
       "      <td>70.921752</td>\n",
       "      <td>5.158141</td>\n",
       "      <td>1019.522156</td>\n",
       "      <td>0.0</td>\n",
       "      <td>0.0</td>\n",
       "      <td>0.0</td>\n",
       "      <td>0.0</td>\n",
       "    </tr>\n",
       "    <tr>\n",
       "      <th>std</th>\n",
       "      <td>692.225056</td>\n",
       "      <td>21.424286</td>\n",
       "      <td>4.361133</td>\n",
       "      <td>0.022319</td>\n",
       "      <td>21.089406</td>\n",
       "      <td>1.650451</td>\n",
       "      <td>8.578367</td>\n",
       "      <td>0.0</td>\n",
       "      <td>0.0</td>\n",
       "      <td>0.0</td>\n",
       "      <td>0.0</td>\n",
       "    </tr>\n",
       "    <tr>\n",
       "      <th>min</th>\n",
       "      <td>0.000000</td>\n",
       "      <td>-35.000000</td>\n",
       "      <td>0.000000</td>\n",
       "      <td>0.000000</td>\n",
       "      <td>3.000000</td>\n",
       "      <td>0.000000</td>\n",
       "      <td>988.000000</td>\n",
       "      <td>0.0</td>\n",
       "      <td>0.0</td>\n",
       "      <td>0.0</td>\n",
       "      <td>0.0</td>\n",
       "    </tr>\n",
       "    <tr>\n",
       "      <th>25%</th>\n",
       "      <td>575.000000</td>\n",
       "      <td>23.000000</td>\n",
       "      <td>5.000000</td>\n",
       "      <td>0.000000</td>\n",
       "      <td>58.000000</td>\n",
       "      <td>6.000000</td>\n",
       "      <td>1014.000000</td>\n",
       "      <td>0.0</td>\n",
       "      <td>0.0</td>\n",
       "      <td>0.0</td>\n",
       "      <td>0.0</td>\n",
       "    </tr>\n",
       "    <tr>\n",
       "      <th>50%</th>\n",
       "      <td>1150.000000</td>\n",
       "      <td>34.000000</td>\n",
       "      <td>7.000000</td>\n",
       "      <td>0.000000</td>\n",
       "      <td>75.000000</td>\n",
       "      <td>6.000000</td>\n",
       "      <td>1019.000000</td>\n",
       "      <td>0.0</td>\n",
       "      <td>0.0</td>\n",
       "      <td>0.0</td>\n",
       "      <td>0.0</td>\n",
       "    </tr>\n",
       "    <tr>\n",
       "      <th>75%</th>\n",
       "      <td>1725.000000</td>\n",
       "      <td>48.000000</td>\n",
       "      <td>11.000000</td>\n",
       "      <td>0.000000</td>\n",
       "      <td>89.000000</td>\n",
       "      <td>6.000000</td>\n",
       "      <td>1025.000000</td>\n",
       "      <td>0.0</td>\n",
       "      <td>0.0</td>\n",
       "      <td>0.0</td>\n",
       "      <td>0.0</td>\n",
       "    </tr>\n",
       "    <tr>\n",
       "      <th>max</th>\n",
       "      <td>2300.000000</td>\n",
       "      <td>104.000000</td>\n",
       "      <td>33.000000</td>\n",
       "      <td>0.600000</td>\n",
       "      <td>100.000000</td>\n",
       "      <td>6.000000</td>\n",
       "      <td>1049.000000</td>\n",
       "      <td>0.0</td>\n",
       "      <td>0.0</td>\n",
       "      <td>0.0</td>\n",
       "      <td>0.0</td>\n",
       "    </tr>\n",
       "  </tbody>\n",
       "</table>\n",
       "</div>"
      ],
      "text/plain": [
       "               hour          temp    wind_speed        precip      humidity  \\\n",
       "count  54072.000000  54072.000000  54072.000000  54072.000000  54072.000000   \n",
       "mean    1150.000000     36.216951      7.903499      0.003482     70.921752   \n",
       "std      692.225056     21.424286      4.361133      0.022319     21.089406   \n",
       "min        0.000000    -35.000000      0.000000      0.000000      3.000000   \n",
       "25%      575.000000     23.000000      5.000000      0.000000     58.000000   \n",
       "50%     1150.000000     34.000000      7.000000      0.000000     75.000000   \n",
       "75%     1725.000000     48.000000     11.000000      0.000000     89.000000   \n",
       "max     2300.000000    104.000000     33.000000      0.600000    100.000000   \n",
       "\n",
       "         visibility      pressure  chanceofrain  chanceoffog  chanceofsnow  \\\n",
       "count  54072.000000  54072.000000       54072.0      54072.0       54072.0   \n",
       "mean       5.158141   1019.522156           0.0          0.0           0.0   \n",
       "std        1.650451      8.578367           0.0          0.0           0.0   \n",
       "min        0.000000    988.000000           0.0          0.0           0.0   \n",
       "25%        6.000000   1014.000000           0.0          0.0           0.0   \n",
       "50%        6.000000   1019.000000           0.0          0.0           0.0   \n",
       "75%        6.000000   1025.000000           0.0          0.0           0.0   \n",
       "max        6.000000   1049.000000           0.0          0.0           0.0   \n",
       "\n",
       "       chanceofthunder  \n",
       "count          54072.0  \n",
       "mean               0.0  \n",
       "std                0.0  \n",
       "min                0.0  \n",
       "25%                0.0  \n",
       "50%                0.0  \n",
       "75%                0.0  \n",
       "max                0.0  "
      ]
     },
     "execution_count": 101,
     "metadata": {},
     "output_type": "execute_result"
    }
   ],
   "source": [
    "# Check statistical metrics\n",
    "weather_df.describe()\n"
   ]
  },
  {
   "cell_type": "code",
   "execution_count": 102,
   "id": "4065c72c-453a-4a05-84e2-763c3c9026e5",
   "metadata": {},
   "outputs": [],
   "source": [
    "# drop columns that adds no statistical value \n",
    "weather_df=weather_df.drop(columns=['chanceofrain','chanceoffog','chanceofsnow','chanceofthunder'])"
   ]
  },
  {
   "cell_type": "code",
   "execution_count": 103,
   "id": "976c844a-068d-4af7-808e-960f66838ae0",
   "metadata": {},
   "outputs": [
    {
     "data": {
      "text/plain": [
       "city_id        0\n",
       "date           0\n",
       "hour           0\n",
       "temp           0\n",
       "wind_speed     0\n",
       "description    0\n",
       "precip         0\n",
       "humidity       0\n",
       "visibility     0\n",
       "pressure       0\n",
       "dtype: int64"
      ]
     },
     "execution_count": 103,
     "metadata": {},
     "output_type": "execute_result"
    }
   ],
   "source": [
    "# check for null values \n",
    "weather_df.isna().sum()"
   ]
  },
  {
   "cell_type": "code",
   "execution_count": 104,
   "id": "6a083134-ff33-4e4c-823f-e0c20a095c05",
   "metadata": {},
   "outputs": [
    {
     "data": {
      "text/plain": [
       "city_id                         object\n",
       "date           datetime64[ns, Etc/UTC]\n",
       "hour                             int64\n",
       "temp                           float64\n",
       "wind_speed                     float64\n",
       "description                     object\n",
       "precip                         float64\n",
       "humidity                         int64\n",
       "visibility                     float64\n",
       "pressure                       float64\n",
       "dtype: object"
      ]
     },
     "execution_count": 104,
     "metadata": {},
     "output_type": "execute_result"
    }
   ],
   "source": [
    "weather_df.dtypes"
   ]
  },
  {
   "cell_type": "code",
   "execution_count": 105,
   "id": "6e7d8026-abdf-44cc-99ae-3fe4eeceea9c",
   "metadata": {},
   "outputs": [
    {
     "data": {
      "text/html": [
       "<div>\n",
       "<style scoped>\n",
       "    .dataframe tbody tr th:only-of-type {\n",
       "        vertical-align: middle;\n",
       "    }\n",
       "\n",
       "    .dataframe tbody tr th {\n",
       "        vertical-align: top;\n",
       "    }\n",
       "\n",
       "    .dataframe thead th {\n",
       "        text-align: right;\n",
       "    }\n",
       "</style>\n",
       "<table border=\"1\" class=\"dataframe\">\n",
       "  <thead>\n",
       "    <tr style=\"text-align: right;\">\n",
       "      <th></th>\n",
       "      <th>city_id</th>\n",
       "      <th>date</th>\n",
       "      <th>hour</th>\n",
       "      <th>temp</th>\n",
       "      <th>wind_speed</th>\n",
       "      <th>description</th>\n",
       "      <th>precip</th>\n",
       "      <th>humidity</th>\n",
       "      <th>visibility</th>\n",
       "      <th>pressure</th>\n",
       "    </tr>\n",
       "  </thead>\n",
       "  <tbody>\n",
       "  </tbody>\n",
       "</table>\n",
       "</div>"
      ],
      "text/plain": [
       "Empty DataFrame\n",
       "Columns: [city_id, date, hour, temp, wind_speed, description, precip, humidity, visibility, pressure]\n",
       "Index: []"
      ]
     },
     "execution_count": 105,
     "metadata": {},
     "output_type": "execute_result"
    }
   ],
   "source": [
    "#check for duplicates \n",
    "weather_df[weather_df.duplicated(subset=['city_id','date','hour'])]"
   ]
  },
  {
   "cell_type": "code",
   "execution_count": 106,
   "id": "6cd2386d-5434-4ebd-9218-d6114b8572d8",
   "metadata": {},
   "outputs": [],
   "source": [
    "# Convert 'hour' to a 4-digit string format\n",
    "weather_df['hour'] = pd.to_numeric(weather_df['hour'], errors='coerce').fillna(0).astype(int)\n",
    "weather_df['hour'] = weather_df['hour'].apply(lambda x: f'{x:04d}')\n",
    "\n",
    "# Convert 'hour' to datetime format\n",
    "weather_df['hour'] = pd.to_datetime(weather_df['hour'], format='%H%M').dt.time\n",
    "\n",
    "# Combine 'date' and 'hour' to create a new datetime column 'custom_date' and insert it at index 1\n",
    "weather_date_val = pd.to_datetime(weather_df['date'].astype(str) + ' ' + weather_df['hour'].astype(str))\n",
    "weather_df.insert(1, 'custom_date', weather_date_val)\n"
   ]
  },
  {
   "cell_type": "code",
   "execution_count": 107,
   "id": "6d26cfdd-dad3-4597-b899-a2b075703c14",
   "metadata": {},
   "outputs": [
    {
     "data": {
      "text/html": [
       "<div>\n",
       "<style scoped>\n",
       "    .dataframe tbody tr th:only-of-type {\n",
       "        vertical-align: middle;\n",
       "    }\n",
       "\n",
       "    .dataframe tbody tr th {\n",
       "        vertical-align: top;\n",
       "    }\n",
       "\n",
       "    .dataframe thead th {\n",
       "        text-align: right;\n",
       "    }\n",
       "</style>\n",
       "<table border=\"1\" class=\"dataframe\">\n",
       "  <thead>\n",
       "    <tr style=\"text-align: right;\">\n",
       "      <th></th>\n",
       "      <th>city_id</th>\n",
       "      <th>custom_date</th>\n",
       "      <th>date</th>\n",
       "      <th>hour</th>\n",
       "      <th>temp</th>\n",
       "      <th>wind_speed</th>\n",
       "      <th>description</th>\n",
       "      <th>precip</th>\n",
       "      <th>humidity</th>\n",
       "      <th>visibility</th>\n",
       "      <th>pressure</th>\n",
       "    </tr>\n",
       "  </thead>\n",
       "  <tbody>\n",
       "    <tr>\n",
       "      <th>0</th>\n",
       "      <td>C-c4565ee8</td>\n",
       "      <td>2019-01-02 07:00:00+00:00</td>\n",
       "      <td>2019-01-02 00:00:00+00:00</td>\n",
       "      <td>07:00:00</td>\n",
       "      <td>32.0</td>\n",
       "      <td>4.0</td>\n",
       "      <td>Partly cloudy</td>\n",
       "      <td>0.0</td>\n",
       "      <td>87</td>\n",
       "      <td>4.0</td>\n",
       "      <td>1024.0</td>\n",
       "    </tr>\n",
       "    <tr>\n",
       "      <th>1</th>\n",
       "      <td>C-90e30162</td>\n",
       "      <td>2019-01-01 20:00:00+00:00</td>\n",
       "      <td>2019-01-01 00:00:00+00:00</td>\n",
       "      <td>20:00:00</td>\n",
       "      <td>50.0</td>\n",
       "      <td>7.0</td>\n",
       "      <td>Clear</td>\n",
       "      <td>0.0</td>\n",
       "      <td>87</td>\n",
       "      <td>6.0</td>\n",
       "      <td>1023.0</td>\n",
       "    </tr>\n",
       "    <tr>\n",
       "      <th>2</th>\n",
       "      <td>C-2c9e75ef</td>\n",
       "      <td>2019-01-28 09:00:00+00:00</td>\n",
       "      <td>2019-01-28 00:00:00+00:00</td>\n",
       "      <td>09:00:00</td>\n",
       "      <td>45.0</td>\n",
       "      <td>12.0</td>\n",
       "      <td>Overcast</td>\n",
       "      <td>0.0</td>\n",
       "      <td>69</td>\n",
       "      <td>6.0</td>\n",
       "      <td>1015.0</td>\n",
       "    </tr>\n",
       "    <tr>\n",
       "      <th>3</th>\n",
       "      <td>C-ff8c0c3c</td>\n",
       "      <td>2019-01-08 14:00:00+00:00</td>\n",
       "      <td>2019-01-08 00:00:00+00:00</td>\n",
       "      <td>14:00:00</td>\n",
       "      <td>50.0</td>\n",
       "      <td>9.0</td>\n",
       "      <td>Sunny</td>\n",
       "      <td>0.0</td>\n",
       "      <td>42</td>\n",
       "      <td>6.0</td>\n",
       "      <td>1026.0</td>\n",
       "    </tr>\n",
       "    <tr>\n",
       "      <th>4</th>\n",
       "      <td>C-451776b7</td>\n",
       "      <td>2019-01-06 01:00:00+00:00</td>\n",
       "      <td>2019-01-06 00:00:00+00:00</td>\n",
       "      <td>01:00:00</td>\n",
       "      <td>52.0</td>\n",
       "      <td>6.0</td>\n",
       "      <td>Light rain</td>\n",
       "      <td>0.0</td>\n",
       "      <td>87</td>\n",
       "      <td>4.0</td>\n",
       "      <td>1014.0</td>\n",
       "    </tr>\n",
       "  </tbody>\n",
       "</table>\n",
       "</div>"
      ],
      "text/plain": [
       "      city_id               custom_date                      date      hour  \\\n",
       "0  C-c4565ee8 2019-01-02 07:00:00+00:00 2019-01-02 00:00:00+00:00  07:00:00   \n",
       "1  C-90e30162 2019-01-01 20:00:00+00:00 2019-01-01 00:00:00+00:00  20:00:00   \n",
       "2  C-2c9e75ef 2019-01-28 09:00:00+00:00 2019-01-28 00:00:00+00:00  09:00:00   \n",
       "3  C-ff8c0c3c 2019-01-08 14:00:00+00:00 2019-01-08 00:00:00+00:00  14:00:00   \n",
       "4  C-451776b7 2019-01-06 01:00:00+00:00 2019-01-06 00:00:00+00:00  01:00:00   \n",
       "\n",
       "   temp  wind_speed    description  precip  humidity  visibility  pressure  \n",
       "0  32.0         4.0  Partly cloudy     0.0        87         4.0    1024.0  \n",
       "1  50.0         7.0          Clear     0.0        87         6.0    1023.0  \n",
       "2  45.0        12.0       Overcast     0.0        69         6.0    1015.0  \n",
       "3  50.0         9.0          Sunny     0.0        42         6.0    1026.0  \n",
       "4  52.0         6.0     Light rain     0.0        87         4.0    1014.0  "
      ]
     },
     "execution_count": 107,
     "metadata": {},
     "output_type": "execute_result"
    }
   ],
   "source": [
    "weather_df.head()"
   ]
  },
  {
   "cell_type": "code",
   "execution_count": 108,
   "id": "054ca64f-bb39-4930-8572-7d44bc21b234",
   "metadata": {},
   "outputs": [
    {
     "data": {
      "text/html": [
       "<div>\n",
       "<style scoped>\n",
       "    .dataframe tbody tr th:only-of-type {\n",
       "        vertical-align: middle;\n",
       "    }\n",
       "\n",
       "    .dataframe tbody tr th {\n",
       "        vertical-align: top;\n",
       "    }\n",
       "\n",
       "    .dataframe thead th {\n",
       "        text-align: right;\n",
       "    }\n",
       "</style>\n",
       "<table border=\"1\" class=\"dataframe\">\n",
       "  <thead>\n",
       "    <tr style=\"text-align: right;\">\n",
       "      <th></th>\n",
       "      <th>route_id</th>\n",
       "      <th>date</th>\n",
       "      <th>temp</th>\n",
       "      <th>wind_speed</th>\n",
       "      <th>description</th>\n",
       "      <th>precip</th>\n",
       "      <th>humidity</th>\n",
       "      <th>visibility</th>\n",
       "      <th>pressure</th>\n",
       "      <th>chanceofrain</th>\n",
       "      <th>chanceoffog</th>\n",
       "      <th>chanceofsnow</th>\n",
       "      <th>chanceofthunder</th>\n",
       "    </tr>\n",
       "  </thead>\n",
       "  <tbody>\n",
       "    <tr>\n",
       "      <th>76696</th>\n",
       "      <td>R-b0e58a5d</td>\n",
       "      <td>2019-01-01 00:00:00+00:00</td>\n",
       "      <td>54.0</td>\n",
       "      <td>4.0</td>\n",
       "      <td>Clear</td>\n",
       "      <td>0.0</td>\n",
       "      <td>92</td>\n",
       "      <td>6.0</td>\n",
       "      <td>1022</td>\n",
       "      <td>0</td>\n",
       "      <td>0</td>\n",
       "      <td>0</td>\n",
       "      <td>0</td>\n",
       "    </tr>\n",
       "    <tr>\n",
       "      <th>55924</th>\n",
       "      <td>R-9724c2c2</td>\n",
       "      <td>2019-01-01 00:00:00+00:00</td>\n",
       "      <td>72.0</td>\n",
       "      <td>8.0</td>\n",
       "      <td>Clear</td>\n",
       "      <td>0.0</td>\n",
       "      <td>72</td>\n",
       "      <td>6.0</td>\n",
       "      <td>1010</td>\n",
       "      <td>0</td>\n",
       "      <td>0</td>\n",
       "      <td>0</td>\n",
       "      <td>0</td>\n",
       "    </tr>\n",
       "  </tbody>\n",
       "</table>\n",
       "</div>"
      ],
      "text/plain": [
       "         route_id                      date  temp  wind_speed description  \\\n",
       "76696  R-b0e58a5d 2019-01-01 00:00:00+00:00  54.0         4.0       Clear   \n",
       "55924  R-9724c2c2 2019-01-01 00:00:00+00:00  72.0         8.0       Clear   \n",
       "\n",
       "       precip  humidity  visibility  pressure  chanceofrain  chanceoffog  \\\n",
       "76696     0.0        92         6.0      1022             0            0   \n",
       "55924     0.0        72         6.0      1010             0            0   \n",
       "\n",
       "       chanceofsnow  chanceofthunder  \n",
       "76696             0                0  \n",
       "55924             0                0  "
      ]
     },
     "execution_count": 108,
     "metadata": {},
     "output_type": "execute_result"
    }
   ],
   "source": [
    "route_weather.sort_values('date').head(2)"
   ]
  },
  {
   "cell_type": "code",
   "execution_count": 109,
   "id": "d153b186-1857-4208-9358-0f01b2cefc85",
   "metadata": {},
   "outputs": [
    {
     "data": {
      "text/html": [
       "<div>\n",
       "<style scoped>\n",
       "    .dataframe tbody tr th:only-of-type {\n",
       "        vertical-align: middle;\n",
       "    }\n",
       "\n",
       "    .dataframe tbody tr th {\n",
       "        vertical-align: top;\n",
       "    }\n",
       "\n",
       "    .dataframe thead th {\n",
       "        text-align: right;\n",
       "    }\n",
       "</style>\n",
       "<table border=\"1\" class=\"dataframe\">\n",
       "  <thead>\n",
       "    <tr style=\"text-align: right;\">\n",
       "      <th></th>\n",
       "      <th>temp</th>\n",
       "      <th>wind_speed</th>\n",
       "      <th>precip</th>\n",
       "      <th>humidity</th>\n",
       "      <th>visibility</th>\n",
       "      <th>pressure</th>\n",
       "      <th>chanceofrain</th>\n",
       "      <th>chanceoffog</th>\n",
       "      <th>chanceofsnow</th>\n",
       "      <th>chanceofthunder</th>\n",
       "    </tr>\n",
       "  </thead>\n",
       "  <tbody>\n",
       "    <tr>\n",
       "      <th>count</th>\n",
       "      <td>425712.000000</td>\n",
       "      <td>425712.000000</td>\n",
       "      <td>425712.000000</td>\n",
       "      <td>425712.000000</td>\n",
       "      <td>425712.000000</td>\n",
       "      <td>425712.000000</td>\n",
       "      <td>425712.0</td>\n",
       "      <td>425712.0</td>\n",
       "      <td>425712.0</td>\n",
       "      <td>425712.0</td>\n",
       "    </tr>\n",
       "    <tr>\n",
       "      <th>mean</th>\n",
       "      <td>57.518090</td>\n",
       "      <td>8.016063</td>\n",
       "      <td>0.005530</td>\n",
       "      <td>71.654482</td>\n",
       "      <td>5.378733</td>\n",
       "      <td>1015.541540</td>\n",
       "      <td>0.0</td>\n",
       "      <td>0.0</td>\n",
       "      <td>0.0</td>\n",
       "      <td>0.0</td>\n",
       "    </tr>\n",
       "    <tr>\n",
       "      <th>std</th>\n",
       "      <td>19.919266</td>\n",
       "      <td>4.469639</td>\n",
       "      <td>0.028918</td>\n",
       "      <td>21.106049</td>\n",
       "      <td>1.414776</td>\n",
       "      <td>7.306384</td>\n",
       "      <td>0.0</td>\n",
       "      <td>0.0</td>\n",
       "      <td>0.0</td>\n",
       "      <td>0.0</td>\n",
       "    </tr>\n",
       "    <tr>\n",
       "      <th>min</th>\n",
       "      <td>-24.000000</td>\n",
       "      <td>0.000000</td>\n",
       "      <td>0.000000</td>\n",
       "      <td>3.000000</td>\n",
       "      <td>0.000000</td>\n",
       "      <td>985.000000</td>\n",
       "      <td>0.0</td>\n",
       "      <td>0.0</td>\n",
       "      <td>0.0</td>\n",
       "      <td>0.0</td>\n",
       "    </tr>\n",
       "    <tr>\n",
       "      <th>25%</th>\n",
       "      <td>43.000000</td>\n",
       "      <td>5.000000</td>\n",
       "      <td>0.000000</td>\n",
       "      <td>59.000000</td>\n",
       "      <td>6.000000</td>\n",
       "      <td>1011.000000</td>\n",
       "      <td>0.0</td>\n",
       "      <td>0.0</td>\n",
       "      <td>0.0</td>\n",
       "      <td>0.0</td>\n",
       "    </tr>\n",
       "    <tr>\n",
       "      <th>50%</th>\n",
       "      <td>59.000000</td>\n",
       "      <td>7.000000</td>\n",
       "      <td>0.000000</td>\n",
       "      <td>76.000000</td>\n",
       "      <td>6.000000</td>\n",
       "      <td>1015.000000</td>\n",
       "      <td>0.0</td>\n",
       "      <td>0.0</td>\n",
       "      <td>0.0</td>\n",
       "      <td>0.0</td>\n",
       "    </tr>\n",
       "    <tr>\n",
       "      <th>75%</th>\n",
       "      <td>73.000000</td>\n",
       "      <td>11.000000</td>\n",
       "      <td>0.000000</td>\n",
       "      <td>89.000000</td>\n",
       "      <td>6.000000</td>\n",
       "      <td>1019.000000</td>\n",
       "      <td>0.0</td>\n",
       "      <td>0.0</td>\n",
       "      <td>0.0</td>\n",
       "      <td>0.0</td>\n",
       "    </tr>\n",
       "    <tr>\n",
       "      <th>max</th>\n",
       "      <td>113.000000</td>\n",
       "      <td>35.000000</td>\n",
       "      <td>1.300000</td>\n",
       "      <td>100.000000</td>\n",
       "      <td>6.000000</td>\n",
       "      <td>1050.000000</td>\n",
       "      <td>0.0</td>\n",
       "      <td>0.0</td>\n",
       "      <td>0.0</td>\n",
       "      <td>0.0</td>\n",
       "    </tr>\n",
       "  </tbody>\n",
       "</table>\n",
       "</div>"
      ],
      "text/plain": [
       "                temp     wind_speed         precip       humidity  \\\n",
       "count  425712.000000  425712.000000  425712.000000  425712.000000   \n",
       "mean       57.518090       8.016063       0.005530      71.654482   \n",
       "std        19.919266       4.469639       0.028918      21.106049   \n",
       "min       -24.000000       0.000000       0.000000       3.000000   \n",
       "25%        43.000000       5.000000       0.000000      59.000000   \n",
       "50%        59.000000       7.000000       0.000000      76.000000   \n",
       "75%        73.000000      11.000000       0.000000      89.000000   \n",
       "max       113.000000      35.000000       1.300000     100.000000   \n",
       "\n",
       "          visibility       pressure  chanceofrain  chanceoffog  chanceofsnow  \\\n",
       "count  425712.000000  425712.000000      425712.0     425712.0      425712.0   \n",
       "mean        5.378733    1015.541540           0.0          0.0           0.0   \n",
       "std         1.414776       7.306384           0.0          0.0           0.0   \n",
       "min         0.000000     985.000000           0.0          0.0           0.0   \n",
       "25%         6.000000    1011.000000           0.0          0.0           0.0   \n",
       "50%         6.000000    1015.000000           0.0          0.0           0.0   \n",
       "75%         6.000000    1019.000000           0.0          0.0           0.0   \n",
       "max         6.000000    1050.000000           0.0          0.0           0.0   \n",
       "\n",
       "       chanceofthunder  \n",
       "count         425712.0  \n",
       "mean               0.0  \n",
       "std                0.0  \n",
       "min                0.0  \n",
       "25%                0.0  \n",
       "50%                0.0  \n",
       "75%                0.0  \n",
       "max                0.0  "
      ]
     },
     "execution_count": 109,
     "metadata": {},
     "output_type": "execute_result"
    }
   ],
   "source": [
    "route_weather.describe()"
   ]
  },
  {
   "cell_type": "code",
   "execution_count": 110,
   "id": "c3a7ba95-42fb-42fa-8ea0-41b1ac87855f",
   "metadata": {},
   "outputs": [
    {
     "data": {
      "text/html": [
       "<div>\n",
       "<style scoped>\n",
       "    .dataframe tbody tr th:only-of-type {\n",
       "        vertical-align: middle;\n",
       "    }\n",
       "\n",
       "    .dataframe tbody tr th {\n",
       "        vertical-align: top;\n",
       "    }\n",
       "\n",
       "    .dataframe thead th {\n",
       "        text-align: right;\n",
       "    }\n",
       "</style>\n",
       "<table border=\"1\" class=\"dataframe\">\n",
       "  <thead>\n",
       "    <tr style=\"text-align: right;\">\n",
       "      <th></th>\n",
       "      <th>route_id</th>\n",
       "      <th>date</th>\n",
       "      <th>temp</th>\n",
       "      <th>wind_speed</th>\n",
       "      <th>description</th>\n",
       "      <th>precip</th>\n",
       "      <th>humidity</th>\n",
       "      <th>visibility</th>\n",
       "      <th>pressure</th>\n",
       "      <th>chanceofrain</th>\n",
       "      <th>chanceoffog</th>\n",
       "      <th>chanceofsnow</th>\n",
       "      <th>chanceofthunder</th>\n",
       "    </tr>\n",
       "  </thead>\n",
       "  <tbody>\n",
       "  </tbody>\n",
       "</table>\n",
       "</div>"
      ],
      "text/plain": [
       "Empty DataFrame\n",
       "Columns: [route_id, date, temp, wind_speed, description, precip, humidity, visibility, pressure, chanceofrain, chanceoffog, chanceofsnow, chanceofthunder]\n",
       "Index: []"
      ]
     },
     "execution_count": 110,
     "metadata": {},
     "output_type": "execute_result"
    }
   ],
   "source": [
    "# check for duplicates\n",
    "route_weather[route_weather.duplicated(subset=['route_id','date'])]"
   ]
  },
  {
   "cell_type": "code",
   "execution_count": 111,
   "id": "ad87f1f1-99b3-4e55-9429-cbc76a136502",
   "metadata": {},
   "outputs": [],
   "source": [
    "# Drop unnecessary cols\n",
    "route_weather=route_weather.drop(columns=['chanceofrain','chanceoffog','chanceofsnow','chanceofthunder'])"
   ]
  },
  {
   "cell_type": "code",
   "execution_count": 112,
   "id": "625d1919-3c71-4ee7-9788-e1fb6e5a9bbd",
   "metadata": {},
   "outputs": [
    {
     "data": {
      "text/plain": [
       "route_id       0\n",
       "date           0\n",
       "temp           0\n",
       "wind_speed     0\n",
       "description    0\n",
       "precip         0\n",
       "humidity       0\n",
       "visibility     0\n",
       "pressure       0\n",
       "dtype: int64"
      ]
     },
     "execution_count": 112,
     "metadata": {},
     "output_type": "execute_result"
    }
   ],
   "source": [
    "route_weather.isna().sum()"
   ]
  },
  {
   "cell_type": "code",
   "execution_count": 113,
   "id": "06764b8c-2548-4354-b263-20a7e2654e9e",
   "metadata": {},
   "outputs": [
    {
     "data": {
      "text/html": [
       "<div>\n",
       "<style scoped>\n",
       "    .dataframe tbody tr th:only-of-type {\n",
       "        vertical-align: middle;\n",
       "    }\n",
       "\n",
       "    .dataframe tbody tr th {\n",
       "        vertical-align: top;\n",
       "    }\n",
       "\n",
       "    .dataframe thead th {\n",
       "        text-align: right;\n",
       "    }\n",
       "</style>\n",
       "<table border=\"1\" class=\"dataframe\">\n",
       "  <thead>\n",
       "    <tr style=\"text-align: right;\">\n",
       "      <th></th>\n",
       "      <th>route_id</th>\n",
       "      <th>date</th>\n",
       "      <th>hour</th>\n",
       "      <th>no_of_vehicles</th>\n",
       "      <th>accident</th>\n",
       "    </tr>\n",
       "  </thead>\n",
       "  <tbody>\n",
       "    <tr>\n",
       "      <th>1503516</th>\n",
       "      <td>R-018eecd6</td>\n",
       "      <td>2019-01-01 00:00:00+00:00</td>\n",
       "      <td>2300</td>\n",
       "      <td>2718.0</td>\n",
       "      <td>0</td>\n",
       "    </tr>\n",
       "    <tr>\n",
       "      <th>659037</th>\n",
       "      <td>R-0f201c39</td>\n",
       "      <td>2019-01-01 00:00:00+00:00</td>\n",
       "      <td>1200</td>\n",
       "      <td>2470.0</td>\n",
       "      <td>0</td>\n",
       "    </tr>\n",
       "    <tr>\n",
       "      <th>1221002</th>\n",
       "      <td>R-d348d1e2</td>\n",
       "      <td>2019-01-01 00:00:00+00:00</td>\n",
       "      <td>1400</td>\n",
       "      <td>2103.0</td>\n",
       "      <td>0</td>\n",
       "    </tr>\n",
       "    <tr>\n",
       "      <th>194325</th>\n",
       "      <td>R-f56dfb6f</td>\n",
       "      <td>2019-01-01 00:00:00+00:00</td>\n",
       "      <td>2300</td>\n",
       "      <td>2209.0</td>\n",
       "      <td>0</td>\n",
       "    </tr>\n",
       "    <tr>\n",
       "      <th>1775272</th>\n",
       "      <td>R-18dd8f1b</td>\n",
       "      <td>2019-01-01 00:00:00+00:00</td>\n",
       "      <td>1700</td>\n",
       "      <td>2181.0</td>\n",
       "      <td>1</td>\n",
       "    </tr>\n",
       "    <tr>\n",
       "      <th>2526627</th>\n",
       "      <td>R-0484f127</td>\n",
       "      <td>2019-01-01 00:00:00+00:00</td>\n",
       "      <td>1400</td>\n",
       "      <td>1993.0</td>\n",
       "      <td>0</td>\n",
       "    </tr>\n",
       "    <tr>\n",
       "      <th>194329</th>\n",
       "      <td>R-d05bdb8d</td>\n",
       "      <td>2019-01-01 00:00:00+00:00</td>\n",
       "      <td>1700</td>\n",
       "      <td>1861.0</td>\n",
       "      <td>0</td>\n",
       "    </tr>\n",
       "    <tr>\n",
       "      <th>857405</th>\n",
       "      <td>R-3effb540</td>\n",
       "      <td>2019-01-01 00:00:00+00:00</td>\n",
       "      <td>2200</td>\n",
       "      <td>2235.0</td>\n",
       "      <td>0</td>\n",
       "    </tr>\n",
       "    <tr>\n",
       "      <th>659001</th>\n",
       "      <td>R-5104f307</td>\n",
       "      <td>2019-01-01 00:00:00+00:00</td>\n",
       "      <td>2300</td>\n",
       "      <td>1648.0</td>\n",
       "      <td>0</td>\n",
       "    </tr>\n",
       "    <tr>\n",
       "      <th>1427065</th>\n",
       "      <td>R-de094a89</td>\n",
       "      <td>2019-01-01 00:00:00+00:00</td>\n",
       "      <td>600</td>\n",
       "      <td>667.0</td>\n",
       "      <td>0</td>\n",
       "    </tr>\n",
       "  </tbody>\n",
       "</table>\n",
       "</div>"
      ],
      "text/plain": [
       "           route_id                      date  hour  no_of_vehicles  accident\n",
       "1503516  R-018eecd6 2019-01-01 00:00:00+00:00  2300          2718.0         0\n",
       "659037   R-0f201c39 2019-01-01 00:00:00+00:00  1200          2470.0         0\n",
       "1221002  R-d348d1e2 2019-01-01 00:00:00+00:00  1400          2103.0         0\n",
       "194325   R-f56dfb6f 2019-01-01 00:00:00+00:00  2300          2209.0         0\n",
       "1775272  R-18dd8f1b 2019-01-01 00:00:00+00:00  1700          2181.0         1\n",
       "2526627  R-0484f127 2019-01-01 00:00:00+00:00  1400          1993.0         0\n",
       "194329   R-d05bdb8d 2019-01-01 00:00:00+00:00  1700          1861.0         0\n",
       "857405   R-3effb540 2019-01-01 00:00:00+00:00  2200          2235.0         0\n",
       "659001   R-5104f307 2019-01-01 00:00:00+00:00  2300          1648.0         0\n",
       "1427065  R-de094a89 2019-01-01 00:00:00+00:00   600           667.0         0"
      ]
     },
     "execution_count": 113,
     "metadata": {},
     "output_type": "execute_result"
    }
   ],
   "source": [
    "traffic_df.sort_values('date').head(10)"
   ]
  },
  {
   "cell_type": "code",
   "execution_count": 114,
   "id": "7b2c36e4-6598-4b63-80a4-ef393ddc9e10",
   "metadata": {},
   "outputs": [
    {
     "data": {
      "text/plain": [
       "route_id             0\n",
       "date                 0\n",
       "hour                 0\n",
       "no_of_vehicles    1152\n",
       "accident             0\n",
       "dtype: int64"
      ]
     },
     "execution_count": 114,
     "metadata": {},
     "output_type": "execute_result"
    }
   ],
   "source": [
    "traffic_df.isna().sum()"
   ]
  },
  {
   "cell_type": "code",
   "execution_count": 115,
   "id": "17119138-0d2f-4a7b-a33b-eae30c05e2df",
   "metadata": {},
   "outputs": [
    {
     "data": {
      "text/html": [
       "<div>\n",
       "<style scoped>\n",
       "    .dataframe tbody tr th:only-of-type {\n",
       "        vertical-align: middle;\n",
       "    }\n",
       "\n",
       "    .dataframe tbody tr th {\n",
       "        vertical-align: top;\n",
       "    }\n",
       "\n",
       "    .dataframe thead th {\n",
       "        text-align: right;\n",
       "    }\n",
       "</style>\n",
       "<table border=\"1\" class=\"dataframe\">\n",
       "  <thead>\n",
       "    <tr style=\"text-align: right;\">\n",
       "      <th></th>\n",
       "      <th>route_id</th>\n",
       "      <th>date</th>\n",
       "      <th>hour</th>\n",
       "      <th>no_of_vehicles</th>\n",
       "      <th>accident</th>\n",
       "    </tr>\n",
       "  </thead>\n",
       "  <tbody>\n",
       "  </tbody>\n",
       "</table>\n",
       "</div>"
      ],
      "text/plain": [
       "Empty DataFrame\n",
       "Columns: [route_id, date, hour, no_of_vehicles, accident]\n",
       "Index: []"
      ]
     },
     "execution_count": 115,
     "metadata": {},
     "output_type": "execute_result"
    }
   ],
   "source": [
    "traffic_df[traffic_df.duplicated(subset=['route_id','date','hour'])]"
   ]
  },
  {
   "cell_type": "code",
   "execution_count": 116,
   "id": "bf4e6232-b787-4f15-bd67-09ba940b864c",
   "metadata": {},
   "outputs": [],
   "source": [
    "traffic_df=traffic_df.drop_duplicates(subset=['route_id','date','hour'],keep='first')"
   ]
  },
  {
   "cell_type": "code",
   "execution_count": 117,
   "id": "a89c00eb-8aee-43b7-9c72-6597fa9039e7",
   "metadata": {},
   "outputs": [
    {
     "data": {
      "text/html": [
       "<div>\n",
       "<style scoped>\n",
       "    .dataframe tbody tr th:only-of-type {\n",
       "        vertical-align: middle;\n",
       "    }\n",
       "\n",
       "    .dataframe tbody tr th {\n",
       "        vertical-align: top;\n",
       "    }\n",
       "\n",
       "    .dataframe thead th {\n",
       "        text-align: right;\n",
       "    }\n",
       "</style>\n",
       "<table border=\"1\" class=\"dataframe\">\n",
       "  <thead>\n",
       "    <tr style=\"text-align: right;\">\n",
       "      <th></th>\n",
       "      <th>route_id</th>\n",
       "      <th>date</th>\n",
       "      <th>hour</th>\n",
       "      <th>no_of_vehicles</th>\n",
       "      <th>accident</th>\n",
       "    </tr>\n",
       "  </thead>\n",
       "  <tbody>\n",
       "    <tr>\n",
       "      <th>0</th>\n",
       "      <td>R-562f1149</td>\n",
       "      <td>2019-01-16 00:00:00+00:00</td>\n",
       "      <td>1300</td>\n",
       "      <td>2439.0</td>\n",
       "      <td>0</td>\n",
       "    </tr>\n",
       "    <tr>\n",
       "      <th>1</th>\n",
       "      <td>R-d57a78f5</td>\n",
       "      <td>2019-02-04 00:00:00+00:00</td>\n",
       "      <td>800</td>\n",
       "      <td>1945.0</td>\n",
       "      <td>0</td>\n",
       "    </tr>\n",
       "    <tr>\n",
       "      <th>2</th>\n",
       "      <td>R-d5b79907</td>\n",
       "      <td>2019-02-13 00:00:00+00:00</td>\n",
       "      <td>1100</td>\n",
       "      <td>2164.0</td>\n",
       "      <td>0</td>\n",
       "    </tr>\n",
       "    <tr>\n",
       "      <th>3</th>\n",
       "      <td>R-c40e40a1</td>\n",
       "      <td>2019-01-08 00:00:00+00:00</td>\n",
       "      <td>1400</td>\n",
       "      <td>2647.0</td>\n",
       "      <td>0</td>\n",
       "    </tr>\n",
       "  </tbody>\n",
       "</table>\n",
       "</div>"
      ],
      "text/plain": [
       "     route_id                      date  hour  no_of_vehicles  accident\n",
       "0  R-562f1149 2019-01-16 00:00:00+00:00  1300          2439.0         0\n",
       "1  R-d57a78f5 2019-02-04 00:00:00+00:00   800          1945.0         0\n",
       "2  R-d5b79907 2019-02-13 00:00:00+00:00  1100          2164.0         0\n",
       "3  R-c40e40a1 2019-01-08 00:00:00+00:00  1400          2647.0         0"
      ]
     },
     "execution_count": 117,
     "metadata": {},
     "output_type": "execute_result"
    }
   ],
   "source": [
    "traffic_df.head(4)"
   ]
  },
  {
   "cell_type": "code",
   "execution_count": 118,
   "id": "c9cc9aee-450e-450c-9d5a-057ae1979d44",
   "metadata": {},
   "outputs": [
    {
     "data": {
      "text/plain": [
       "route_id                           object\n",
       "date              datetime64[ns, Etc/UTC]\n",
       "hour                                int64\n",
       "no_of_vehicles                    float64\n",
       "accident                            int64\n",
       "dtype: object"
      ]
     },
     "execution_count": 118,
     "metadata": {},
     "output_type": "execute_result"
    }
   ],
   "source": [
    "traffic_df.dtypes"
   ]
  },
  {
   "cell_type": "code",
   "execution_count": 119,
   "id": "def2650a-6fb0-40d1-899f-ddd1b79bc687",
   "metadata": {},
   "outputs": [],
   "source": [
    "# Convert 'hour' to a 4-digit string format\n",
    "\n",
    "traffic_df['hour'] = traffic_df['hour'].apply(lambda x: f'{x:04d}')\n",
    "\n",
    "# Convert 'hour' to datetime format\n",
    "traffic_df['hour'] = pd.to_datetime(traffic_df['hour'], format='%H%M').dt.time\n",
    "\n",
    "# Combine 'date' and 'hour' to create a new datetime column 'custom_date' and insert it at index 1\n",
    "traffic_custom_date = pd.to_datetime(traffic_df['date'].astype(str) + ' ' + traffic_df['hour'].astype(str))\n",
    "traffic_df.insert(1, 'custom_date', traffic_custom_date)\n",
    "\n"
   ]
  },
  {
   "cell_type": "code",
   "execution_count": 120,
   "id": "d11f7992-b78f-489b-983b-6948891400c1",
   "metadata": {},
   "outputs": [
    {
     "data": {
      "text/html": [
       "<div>\n",
       "<style scoped>\n",
       "    .dataframe tbody tr th:only-of-type {\n",
       "        vertical-align: middle;\n",
       "    }\n",
       "\n",
       "    .dataframe tbody tr th {\n",
       "        vertical-align: top;\n",
       "    }\n",
       "\n",
       "    .dataframe thead th {\n",
       "        text-align: right;\n",
       "    }\n",
       "</style>\n",
       "<table border=\"1\" class=\"dataframe\">\n",
       "  <thead>\n",
       "    <tr style=\"text-align: right;\">\n",
       "      <th></th>\n",
       "      <th>route_id</th>\n",
       "      <th>custom_date</th>\n",
       "      <th>date</th>\n",
       "      <th>hour</th>\n",
       "      <th>no_of_vehicles</th>\n",
       "      <th>accident</th>\n",
       "    </tr>\n",
       "  </thead>\n",
       "  <tbody>\n",
       "    <tr>\n",
       "      <th>0</th>\n",
       "      <td>R-562f1149</td>\n",
       "      <td>2019-01-16 13:00:00+00:00</td>\n",
       "      <td>2019-01-16 00:00:00+00:00</td>\n",
       "      <td>13:00:00</td>\n",
       "      <td>2439.0</td>\n",
       "      <td>0</td>\n",
       "    </tr>\n",
       "    <tr>\n",
       "      <th>1</th>\n",
       "      <td>R-d57a78f5</td>\n",
       "      <td>2019-02-04 08:00:00+00:00</td>\n",
       "      <td>2019-02-04 00:00:00+00:00</td>\n",
       "      <td>08:00:00</td>\n",
       "      <td>1945.0</td>\n",
       "      <td>0</td>\n",
       "    </tr>\n",
       "    <tr>\n",
       "      <th>2</th>\n",
       "      <td>R-d5b79907</td>\n",
       "      <td>2019-02-13 11:00:00+00:00</td>\n",
       "      <td>2019-02-13 00:00:00+00:00</td>\n",
       "      <td>11:00:00</td>\n",
       "      <td>2164.0</td>\n",
       "      <td>0</td>\n",
       "    </tr>\n",
       "    <tr>\n",
       "      <th>3</th>\n",
       "      <td>R-c40e40a1</td>\n",
       "      <td>2019-01-08 14:00:00+00:00</td>\n",
       "      <td>2019-01-08 00:00:00+00:00</td>\n",
       "      <td>14:00:00</td>\n",
       "      <td>2647.0</td>\n",
       "      <td>0</td>\n",
       "    </tr>\n",
       "    <tr>\n",
       "      <th>4</th>\n",
       "      <td>R-715ae3f6</td>\n",
       "      <td>2019-01-27 08:00:00+00:00</td>\n",
       "      <td>2019-01-27 00:00:00+00:00</td>\n",
       "      <td>08:00:00</td>\n",
       "      <td>2158.0</td>\n",
       "      <td>0</td>\n",
       "    </tr>\n",
       "    <tr>\n",
       "      <th>5</th>\n",
       "      <td>R-f8088198</td>\n",
       "      <td>2019-01-22 00:00:00+00:00</td>\n",
       "      <td>2019-01-22 00:00:00+00:00</td>\n",
       "      <td>00:00:00</td>\n",
       "      <td>567.0</td>\n",
       "      <td>0</td>\n",
       "    </tr>\n",
       "  </tbody>\n",
       "</table>\n",
       "</div>"
      ],
      "text/plain": [
       "     route_id               custom_date                      date      hour  \\\n",
       "0  R-562f1149 2019-01-16 13:00:00+00:00 2019-01-16 00:00:00+00:00  13:00:00   \n",
       "1  R-d57a78f5 2019-02-04 08:00:00+00:00 2019-02-04 00:00:00+00:00  08:00:00   \n",
       "2  R-d5b79907 2019-02-13 11:00:00+00:00 2019-02-13 00:00:00+00:00  11:00:00   \n",
       "3  R-c40e40a1 2019-01-08 14:00:00+00:00 2019-01-08 00:00:00+00:00  14:00:00   \n",
       "4  R-715ae3f6 2019-01-27 08:00:00+00:00 2019-01-27 00:00:00+00:00  08:00:00   \n",
       "5  R-f8088198 2019-01-22 00:00:00+00:00 2019-01-22 00:00:00+00:00  00:00:00   \n",
       "\n",
       "   no_of_vehicles  accident  \n",
       "0          2439.0         0  \n",
       "1          1945.0         0  \n",
       "2          2164.0         0  \n",
       "3          2647.0         0  \n",
       "4          2158.0         0  \n",
       "5           567.0         0  "
      ]
     },
     "execution_count": 120,
     "metadata": {},
     "output_type": "execute_result"
    }
   ],
   "source": [
    "traffic_df.head(6)"
   ]
  },
  {
   "cell_type": "code",
   "execution_count": 121,
   "id": "33c9a810-b837-4328-a470-e3ec7830dc8d",
   "metadata": {},
   "outputs": [
    {
     "data": {
      "text/html": [
       "<div>\n",
       "<style scoped>\n",
       "    .dataframe tbody tr th:only-of-type {\n",
       "        vertical-align: middle;\n",
       "    }\n",
       "\n",
       "    .dataframe tbody tr th {\n",
       "        vertical-align: top;\n",
       "    }\n",
       "\n",
       "    .dataframe thead th {\n",
       "        text-align: right;\n",
       "    }\n",
       "</style>\n",
       "<table border=\"1\" class=\"dataframe\">\n",
       "  <thead>\n",
       "    <tr style=\"text-align: right;\">\n",
       "      <th></th>\n",
       "      <th>route_id</th>\n",
       "      <th>custom_date</th>\n",
       "      <th>date</th>\n",
       "      <th>hour</th>\n",
       "      <th>no_of_vehicles</th>\n",
       "      <th>accident</th>\n",
       "    </tr>\n",
       "  </thead>\n",
       "  <tbody>\n",
       "  </tbody>\n",
       "</table>\n",
       "</div>"
      ],
      "text/plain": [
       "Empty DataFrame\n",
       "Columns: [route_id, custom_date, date, hour, no_of_vehicles, accident]\n",
       "Index: []"
      ]
     },
     "execution_count": 121,
     "metadata": {},
     "output_type": "execute_result"
    }
   ],
   "source": [
    "traffic_df[traffic_df.duplicated(subset=['route_id','date','hour'])]"
   ]
  },
  {
   "cell_type": "code",
   "execution_count": 122,
   "id": "1b9ead77-4ba4-463f-84e7-e45ee987c605",
   "metadata": {},
   "outputs": [
    {
     "data": {
      "text/plain": [
       "0"
      ]
     },
     "execution_count": 122,
     "metadata": {},
     "output_type": "execute_result"
    }
   ],
   "source": [
    "traffic_df.duplicated().sum()"
   ]
  },
  {
   "cell_type": "markdown",
   "id": "73adb3df-6665-41e2-bb2c-494fc89529b1",
   "metadata": {},
   "source": [
    "## Feature Engineering \n",
    "\n",
    "In this section new features will be created or existing feature will be transformed with the aim of obtaining the most relevant features to feed the machine learning model."
   ]
  },
  {
   "cell_type": "markdown",
   "id": "9bb83db6-e0a1-4040-89dc-c9688f645b20",
   "metadata": {},
   "source": [
    "#### Merge route_weather with schedule weather \n",
    "\n",
    "Steps : \n",
    "1. Add a unique identifier to the schedule_df( which can be considered as the primary df)\n",
    "2. Since route_weather.date is sampled every 6 hours and schedule_df.departure_time every 7 hours, resample one dataframe’s timestamps to match the other’s interval before aligning.\n",
    "3. Add a custom_date column to schedule_df by converting departure and arrival times to a 6-hour cadence, then explode it to list every 6-hour interval between each departure and arrival.\n",
    "4. Create a grouped df and use agg funcions to compute the mode or mean values for the records with same route_id.\n",
    "5. Remerge the grouped df with the schedule df, to ensure all original columns are included."
   ]
  },
  {
   "cell_type": "code",
   "execution_count": 123,
   "id": "e4e5b037-d65f-4a9a-a4b1-1879301d4fb9",
   "metadata": {},
   "outputs": [
    {
     "data": {
      "text/html": [
       "<div>\n",
       "<style scoped>\n",
       "    .dataframe tbody tr th:only-of-type {\n",
       "        vertical-align: middle;\n",
       "    }\n",
       "\n",
       "    .dataframe tbody tr th {\n",
       "        vertical-align: top;\n",
       "    }\n",
       "\n",
       "    .dataframe thead th {\n",
       "        text-align: right;\n",
       "    }\n",
       "</style>\n",
       "<table border=\"1\" class=\"dataframe\">\n",
       "  <thead>\n",
       "    <tr style=\"text-align: right;\">\n",
       "      <th></th>\n",
       "      <th>truck_id</th>\n",
       "      <th>route_id</th>\n",
       "      <th>departure_date</th>\n",
       "      <th>estimated_arrival</th>\n",
       "      <th>delay</th>\n",
       "    </tr>\n",
       "  </thead>\n",
       "  <tbody>\n",
       "    <tr>\n",
       "      <th>0</th>\n",
       "      <td>46115322</td>\n",
       "      <td>R-745d907e</td>\n",
       "      <td>2019-02-06 07:00:00+00:00</td>\n",
       "      <td>2019-02-06 14:29:24+00:00</td>\n",
       "      <td>1</td>\n",
       "    </tr>\n",
       "  </tbody>\n",
       "</table>\n",
       "</div>"
      ],
      "text/plain": [
       "   truck_id    route_id            departure_date         estimated_arrival  \\\n",
       "0  46115322  R-745d907e 2019-02-06 07:00:00+00:00 2019-02-06 14:29:24+00:00   \n",
       "\n",
       "   delay  \n",
       "0      1  "
      ]
     },
     "execution_count": 123,
     "metadata": {},
     "output_type": "execute_result"
    }
   ],
   "source": [
    "schedule_df.head(1)"
   ]
  },
  {
   "cell_type": "code",
   "execution_count": 124,
   "id": "d7bf5d15-6f90-44ea-80fe-354ac77dab9f",
   "metadata": {},
   "outputs": [
    {
     "data": {
      "text/html": [
       "<div>\n",
       "<style scoped>\n",
       "    .dataframe tbody tr th:only-of-type {\n",
       "        vertical-align: middle;\n",
       "    }\n",
       "\n",
       "    .dataframe tbody tr th {\n",
       "        vertical-align: top;\n",
       "    }\n",
       "\n",
       "    .dataframe thead th {\n",
       "        text-align: right;\n",
       "    }\n",
       "</style>\n",
       "<table border=\"1\" class=\"dataframe\">\n",
       "  <thead>\n",
       "    <tr style=\"text-align: right;\">\n",
       "      <th></th>\n",
       "      <th>route_id</th>\n",
       "      <th>date</th>\n",
       "      <th>temp</th>\n",
       "      <th>wind_speed</th>\n",
       "      <th>description</th>\n",
       "      <th>precip</th>\n",
       "      <th>humidity</th>\n",
       "      <th>visibility</th>\n",
       "      <th>pressure</th>\n",
       "    </tr>\n",
       "  </thead>\n",
       "  <tbody>\n",
       "    <tr>\n",
       "      <th>0</th>\n",
       "      <td>R-272a3bd5</td>\n",
       "      <td>2019-02-05 00:00:00+00:00</td>\n",
       "      <td>32.0</td>\n",
       "      <td>4.0</td>\n",
       "      <td>Heavy snow</td>\n",
       "      <td>0.0</td>\n",
       "      <td>99</td>\n",
       "      <td>3.0</td>\n",
       "      <td>1015</td>\n",
       "    </tr>\n",
       "    <tr>\n",
       "      <th>1</th>\n",
       "      <td>R-1d0acbb0</td>\n",
       "      <td>2019-02-12 06:00:00+00:00</td>\n",
       "      <td>68.0</td>\n",
       "      <td>10.0</td>\n",
       "      <td>Mist</td>\n",
       "      <td>0.0</td>\n",
       "      <td>96</td>\n",
       "      <td>2.0</td>\n",
       "      <td>1019</td>\n",
       "    </tr>\n",
       "    <tr>\n",
       "      <th>2</th>\n",
       "      <td>R-ca6d5b90</td>\n",
       "      <td>2019-01-13 12:00:00+00:00</td>\n",
       "      <td>64.0</td>\n",
       "      <td>4.0</td>\n",
       "      <td>Clear</td>\n",
       "      <td>0.0</td>\n",
       "      <td>79</td>\n",
       "      <td>6.0</td>\n",
       "      <td>1017</td>\n",
       "    </tr>\n",
       "    <tr>\n",
       "      <th>3</th>\n",
       "      <td>R-b247cd56</td>\n",
       "      <td>2019-01-02 00:00:00+00:00</td>\n",
       "      <td>75.0</td>\n",
       "      <td>2.0</td>\n",
       "      <td>Partly cloudy</td>\n",
       "      <td>0.0</td>\n",
       "      <td>75</td>\n",
       "      <td>6.0</td>\n",
       "      <td>1013</td>\n",
       "    </tr>\n",
       "    <tr>\n",
       "      <th>4</th>\n",
       "      <td>R-1eb8e337</td>\n",
       "      <td>2019-01-16 00:00:00+00:00</td>\n",
       "      <td>73.0</td>\n",
       "      <td>11.0</td>\n",
       "      <td>Patchy rain possible</td>\n",
       "      <td>0.0</td>\n",
       "      <td>82</td>\n",
       "      <td>6.0</td>\n",
       "      <td>1008</td>\n",
       "    </tr>\n",
       "  </tbody>\n",
       "</table>\n",
       "</div>"
      ],
      "text/plain": [
       "     route_id                      date  temp  wind_speed  \\\n",
       "0  R-272a3bd5 2019-02-05 00:00:00+00:00  32.0         4.0   \n",
       "1  R-1d0acbb0 2019-02-12 06:00:00+00:00  68.0        10.0   \n",
       "2  R-ca6d5b90 2019-01-13 12:00:00+00:00  64.0         4.0   \n",
       "3  R-b247cd56 2019-01-02 00:00:00+00:00  75.0         2.0   \n",
       "4  R-1eb8e337 2019-01-16 00:00:00+00:00  73.0        11.0   \n",
       "\n",
       "            description  precip  humidity  visibility  pressure  \n",
       "0            Heavy snow     0.0        99         3.0      1015  \n",
       "1                  Mist     0.0        96         2.0      1019  \n",
       "2                 Clear     0.0        79         6.0      1017  \n",
       "3         Partly cloudy     0.0        75         6.0      1013  \n",
       "4  Patchy rain possible     0.0        82         6.0      1008  "
      ]
     },
     "execution_count": 124,
     "metadata": {},
     "output_type": "execute_result"
    }
   ],
   "source": [
    "route_weather.head(5)"
   ]
  },
  {
   "cell_type": "code",
   "execution_count": 125,
   "id": "d1cb433e-0550-42b5-8ffd-720576636831",
   "metadata": {},
   "outputs": [],
   "source": [
    "# Add a unique_id to the schedule_df \n",
    "schedule_df.insert(0, 'unique_id',np.arange(len(schedule_df)))"
   ]
  },
  {
   "cell_type": "code",
   "execution_count": 126,
   "id": "edc84b37-5836-4914-b2a1-887b62fdfdb2",
   "metadata": {},
   "outputs": [],
   "source": [
    "## Merge route_weather df and schedule_df based on the 'departure_date' and the 'date' columns\n",
    "# Create 6H schedule df \n",
    "schedule_6H_df=schedule_df.copy()\n",
    "# round down the date values in the departure column to nearest 6H \n",
    "schedule_6H_df['departure_date']=schedule_6H_df['departure_date'].dt.floor('6H')\n",
    "#round up the values in the estimated_arrival column \n",
    "schedule_6H_df['estimated_arrival']=schedule_6H_df['estimated_arrival'].dt.ceil('6H')"
   ]
  },
  {
   "cell_type": "code",
   "execution_count": 127,
   "id": "12998d5e-eefe-4e47-825c-49d03e6f235c",
   "metadata": {},
   "outputs": [
    {
     "data": {
      "text/html": [
       "<div>\n",
       "<style scoped>\n",
       "    .dataframe tbody tr th:only-of-type {\n",
       "        vertical-align: middle;\n",
       "    }\n",
       "\n",
       "    .dataframe tbody tr th {\n",
       "        vertical-align: top;\n",
       "    }\n",
       "\n",
       "    .dataframe thead th {\n",
       "        text-align: right;\n",
       "    }\n",
       "</style>\n",
       "<table border=\"1\" class=\"dataframe\">\n",
       "  <thead>\n",
       "    <tr style=\"text-align: right;\">\n",
       "      <th></th>\n",
       "      <th>unique_id</th>\n",
       "      <th>truck_id</th>\n",
       "      <th>route_id</th>\n",
       "      <th>departure_date</th>\n",
       "      <th>estimated_arrival</th>\n",
       "      <th>delay</th>\n",
       "    </tr>\n",
       "  </thead>\n",
       "  <tbody>\n",
       "    <tr>\n",
       "      <th>0</th>\n",
       "      <td>0</td>\n",
       "      <td>46115322</td>\n",
       "      <td>R-745d907e</td>\n",
       "      <td>2019-02-06 06:00:00+00:00</td>\n",
       "      <td>2019-02-06 18:00:00+00:00</td>\n",
       "      <td>1</td>\n",
       "    </tr>\n",
       "    <tr>\n",
       "      <th>1</th>\n",
       "      <td>1</td>\n",
       "      <td>27261804</td>\n",
       "      <td>R-e77d76f2</td>\n",
       "      <td>2019-01-10 06:00:00+00:00</td>\n",
       "      <td>2019-01-11 00:00:00+00:00</td>\n",
       "      <td>0</td>\n",
       "    </tr>\n",
       "    <tr>\n",
       "      <th>2</th>\n",
       "      <td>2</td>\n",
       "      <td>28753771</td>\n",
       "      <td>R-965a0754</td>\n",
       "      <td>2019-01-25 06:00:00+00:00</td>\n",
       "      <td>2019-01-25 18:00:00+00:00</td>\n",
       "      <td>0</td>\n",
       "    </tr>\n",
       "    <tr>\n",
       "      <th>3</th>\n",
       "      <td>3</td>\n",
       "      <td>33976838</td>\n",
       "      <td>R-20e75c65</td>\n",
       "      <td>2019-01-01 06:00:00+00:00</td>\n",
       "      <td>2019-01-05 12:00:00+00:00</td>\n",
       "      <td>1</td>\n",
       "    </tr>\n",
       "    <tr>\n",
       "      <th>4</th>\n",
       "      <td>4</td>\n",
       "      <td>12515055</td>\n",
       "      <td>R-967f065a</td>\n",
       "      <td>2019-01-25 06:00:00+00:00</td>\n",
       "      <td>2019-01-26 06:00:00+00:00</td>\n",
       "      <td>1</td>\n",
       "    </tr>\n",
       "  </tbody>\n",
       "</table>\n",
       "</div>"
      ],
      "text/plain": [
       "   unique_id  truck_id    route_id            departure_date  \\\n",
       "0          0  46115322  R-745d907e 2019-02-06 06:00:00+00:00   \n",
       "1          1  27261804  R-e77d76f2 2019-01-10 06:00:00+00:00   \n",
       "2          2  28753771  R-965a0754 2019-01-25 06:00:00+00:00   \n",
       "3          3  33976838  R-20e75c65 2019-01-01 06:00:00+00:00   \n",
       "4          4  12515055  R-967f065a 2019-01-25 06:00:00+00:00   \n",
       "\n",
       "          estimated_arrival  delay  \n",
       "0 2019-02-06 18:00:00+00:00      1  \n",
       "1 2019-01-11 00:00:00+00:00      0  \n",
       "2 2019-01-25 18:00:00+00:00      0  \n",
       "3 2019-01-05 12:00:00+00:00      1  \n",
       "4 2019-01-26 06:00:00+00:00      1  "
      ]
     },
     "execution_count": 127,
     "metadata": {},
     "output_type": "execute_result"
    }
   ],
   "source": [
    "schedule_6H_df.head(5)"
   ]
  },
  {
   "cell_type": "code",
   "execution_count": 128,
   "id": "01df9550-097e-45a9-9880-2c59dbba177c",
   "metadata": {},
   "outputs": [],
   "source": [
    "#create a custom date column in schdule_6H_df \n",
    "exploded_6h_scheduled_df=schedule_6H_df.assign(date=[pd.date_range(start,end,freq='6H') for start,end in zip(\n",
    "    schedule_6H_df['departure_date'],schedule_6H_df['estimated_arrival'])]).explode('date',ignore_index=True)"
   ]
  },
  {
   "cell_type": "code",
   "execution_count": 129,
   "id": "6cbbc164-3126-434c-bae7-ed5e0cc1e79a",
   "metadata": {},
   "outputs": [],
   "source": [
    "# merging the transformed schedule_df with weather_df\n",
    "schedule_weather=exploded_6h_scheduled_df.merge(route_weather,on=['route_id','date'],how='left')"
   ]
  },
  {
   "cell_type": "code",
   "execution_count": 130,
   "id": "d15fc24b-c9a7-48fe-ac89-d14f1d219614",
   "metadata": {},
   "outputs": [
    {
     "data": {
      "text/html": [
       "<div>\n",
       "<style scoped>\n",
       "    .dataframe tbody tr th:only-of-type {\n",
       "        vertical-align: middle;\n",
       "    }\n",
       "\n",
       "    .dataframe tbody tr th {\n",
       "        vertical-align: top;\n",
       "    }\n",
       "\n",
       "    .dataframe thead th {\n",
       "        text-align: right;\n",
       "    }\n",
       "</style>\n",
       "<table border=\"1\" class=\"dataframe\">\n",
       "  <thead>\n",
       "    <tr style=\"text-align: right;\">\n",
       "      <th></th>\n",
       "      <th>unique_id</th>\n",
       "      <th>truck_id</th>\n",
       "      <th>route_id</th>\n",
       "      <th>departure_date</th>\n",
       "      <th>estimated_arrival</th>\n",
       "      <th>delay</th>\n",
       "      <th>date</th>\n",
       "      <th>temp</th>\n",
       "      <th>wind_speed</th>\n",
       "      <th>description</th>\n",
       "      <th>precip</th>\n",
       "      <th>humidity</th>\n",
       "      <th>visibility</th>\n",
       "      <th>pressure</th>\n",
       "    </tr>\n",
       "  </thead>\n",
       "  <tbody>\n",
       "    <tr>\n",
       "      <th>0</th>\n",
       "      <td>0</td>\n",
       "      <td>46115322</td>\n",
       "      <td>R-745d907e</td>\n",
       "      <td>2019-02-06 06:00:00+00:00</td>\n",
       "      <td>2019-02-06 18:00:00+00:00</td>\n",
       "      <td>1</td>\n",
       "      <td>2019-02-06 06:00:00+00:00</td>\n",
       "      <td>55.0</td>\n",
       "      <td>11.0</td>\n",
       "      <td>Overcast</td>\n",
       "      <td>0.0</td>\n",
       "      <td>79</td>\n",
       "      <td>6.0</td>\n",
       "      <td>1018</td>\n",
       "    </tr>\n",
       "    <tr>\n",
       "      <th>1</th>\n",
       "      <td>0</td>\n",
       "      <td>46115322</td>\n",
       "      <td>R-745d907e</td>\n",
       "      <td>2019-02-06 06:00:00+00:00</td>\n",
       "      <td>2019-02-06 18:00:00+00:00</td>\n",
       "      <td>1</td>\n",
       "      <td>2019-02-06 12:00:00+00:00</td>\n",
       "      <td>88.0</td>\n",
       "      <td>9.0</td>\n",
       "      <td>Clear</td>\n",
       "      <td>0.0</td>\n",
       "      <td>7</td>\n",
       "      <td>6.0</td>\n",
       "      <td>1009</td>\n",
       "    </tr>\n",
       "    <tr>\n",
       "      <th>2</th>\n",
       "      <td>0</td>\n",
       "      <td>46115322</td>\n",
       "      <td>R-745d907e</td>\n",
       "      <td>2019-02-06 06:00:00+00:00</td>\n",
       "      <td>2019-02-06 18:00:00+00:00</td>\n",
       "      <td>1</td>\n",
       "      <td>2019-02-06 18:00:00+00:00</td>\n",
       "      <td>86.0</td>\n",
       "      <td>9.0</td>\n",
       "      <td>Clear</td>\n",
       "      <td>0.0</td>\n",
       "      <td>8</td>\n",
       "      <td>6.0</td>\n",
       "      <td>1009</td>\n",
       "    </tr>\n",
       "    <tr>\n",
       "      <th>3</th>\n",
       "      <td>1</td>\n",
       "      <td>27261804</td>\n",
       "      <td>R-e77d76f2</td>\n",
       "      <td>2019-01-10 06:00:00+00:00</td>\n",
       "      <td>2019-01-11 00:00:00+00:00</td>\n",
       "      <td>0</td>\n",
       "      <td>2019-01-10 06:00:00+00:00</td>\n",
       "      <td>50.0</td>\n",
       "      <td>4.0</td>\n",
       "      <td>Light drizzle</td>\n",
       "      <td>0.0</td>\n",
       "      <td>91</td>\n",
       "      <td>1.0</td>\n",
       "      <td>1023</td>\n",
       "    </tr>\n",
       "    <tr>\n",
       "      <th>4</th>\n",
       "      <td>1</td>\n",
       "      <td>27261804</td>\n",
       "      <td>R-e77d76f2</td>\n",
       "      <td>2019-01-10 06:00:00+00:00</td>\n",
       "      <td>2019-01-11 00:00:00+00:00</td>\n",
       "      <td>0</td>\n",
       "      <td>2019-01-10 12:00:00+00:00</td>\n",
       "      <td>45.0</td>\n",
       "      <td>12.0</td>\n",
       "      <td>Patchy light drizzle</td>\n",
       "      <td>0.0</td>\n",
       "      <td>63</td>\n",
       "      <td>2.0</td>\n",
       "      <td>1024</td>\n",
       "    </tr>\n",
       "    <tr>\n",
       "      <th>5</th>\n",
       "      <td>1</td>\n",
       "      <td>27261804</td>\n",
       "      <td>R-e77d76f2</td>\n",
       "      <td>2019-01-10 06:00:00+00:00</td>\n",
       "      <td>2019-01-11 00:00:00+00:00</td>\n",
       "      <td>0</td>\n",
       "      <td>2019-01-10 18:00:00+00:00</td>\n",
       "      <td>46.0</td>\n",
       "      <td>11.0</td>\n",
       "      <td>Light drizzle</td>\n",
       "      <td>0.0</td>\n",
       "      <td>66</td>\n",
       "      <td>2.0</td>\n",
       "      <td>1024</td>\n",
       "    </tr>\n",
       "  </tbody>\n",
       "</table>\n",
       "</div>"
      ],
      "text/plain": [
       "   unique_id  truck_id    route_id            departure_date  \\\n",
       "0          0  46115322  R-745d907e 2019-02-06 06:00:00+00:00   \n",
       "1          0  46115322  R-745d907e 2019-02-06 06:00:00+00:00   \n",
       "2          0  46115322  R-745d907e 2019-02-06 06:00:00+00:00   \n",
       "3          1  27261804  R-e77d76f2 2019-01-10 06:00:00+00:00   \n",
       "4          1  27261804  R-e77d76f2 2019-01-10 06:00:00+00:00   \n",
       "5          1  27261804  R-e77d76f2 2019-01-10 06:00:00+00:00   \n",
       "\n",
       "          estimated_arrival  delay                      date  temp  \\\n",
       "0 2019-02-06 18:00:00+00:00      1 2019-02-06 06:00:00+00:00  55.0   \n",
       "1 2019-02-06 18:00:00+00:00      1 2019-02-06 12:00:00+00:00  88.0   \n",
       "2 2019-02-06 18:00:00+00:00      1 2019-02-06 18:00:00+00:00  86.0   \n",
       "3 2019-01-11 00:00:00+00:00      0 2019-01-10 06:00:00+00:00  50.0   \n",
       "4 2019-01-11 00:00:00+00:00      0 2019-01-10 12:00:00+00:00  45.0   \n",
       "5 2019-01-11 00:00:00+00:00      0 2019-01-10 18:00:00+00:00  46.0   \n",
       "\n",
       "   wind_speed           description  precip  humidity  visibility  pressure  \n",
       "0        11.0              Overcast     0.0        79         6.0      1018  \n",
       "1         9.0                 Clear     0.0         7         6.0      1009  \n",
       "2         9.0                 Clear     0.0         8         6.0      1009  \n",
       "3         4.0         Light drizzle     0.0        91         1.0      1023  \n",
       "4        12.0  Patchy light drizzle     0.0        63         2.0      1024  \n",
       "5        11.0         Light drizzle     0.0        66         2.0      1024  "
      ]
     },
     "execution_count": 130,
     "metadata": {},
     "output_type": "execute_result"
    }
   ],
   "source": [
    "schedule_weather.head(6)"
   ]
  },
  {
   "cell_type": "code",
   "execution_count": 131,
   "id": "52f738b6-a6e9-4759-a5b1-9d4e28508471",
   "metadata": {},
   "outputs": [],
   "source": [
    "# define a function to calculate the mode of categorical col\n",
    "def calculate_mode(x):\n",
    "    return x.mode().iloc[0]\n",
    "\n",
    "schedule_weather_grouped=schedule_weather.groupby(['unique_id','truck_id','route_id'], as_index=False).agg(\n",
    "    mean_temp=('temp','mean'),\n",
    "    mean_wind_speed=('wind_speed','mean'),\n",
    "    mean_precip=('precip','mean'),\n",
    "    mean_humidity=('humidity','mean'),\n",
    "    mean_visibility=('visibility','mean'),\n",
    "    mean_pressure=('pressure','mean'),\n",
    "    route_description=('description',calculate_mode)\n",
    ")"
   ]
  },
  {
   "cell_type": "code",
   "execution_count": 132,
   "id": "36c79ef3-deb4-4075-a6a2-ddfad7eafced",
   "metadata": {},
   "outputs": [
    {
     "data": {
      "text/html": [
       "<div>\n",
       "<style scoped>\n",
       "    .dataframe tbody tr th:only-of-type {\n",
       "        vertical-align: middle;\n",
       "    }\n",
       "\n",
       "    .dataframe tbody tr th {\n",
       "        vertical-align: top;\n",
       "    }\n",
       "\n",
       "    .dataframe thead th {\n",
       "        text-align: right;\n",
       "    }\n",
       "</style>\n",
       "<table border=\"1\" class=\"dataframe\">\n",
       "  <thead>\n",
       "    <tr style=\"text-align: right;\">\n",
       "      <th></th>\n",
       "      <th>unique_id</th>\n",
       "      <th>truck_id</th>\n",
       "      <th>route_id</th>\n",
       "      <th>mean_temp</th>\n",
       "      <th>mean_wind_speed</th>\n",
       "      <th>mean_precip</th>\n",
       "      <th>mean_humidity</th>\n",
       "      <th>mean_visibility</th>\n",
       "      <th>mean_pressure</th>\n",
       "      <th>route_description</th>\n",
       "    </tr>\n",
       "  </thead>\n",
       "  <tbody>\n",
       "    <tr>\n",
       "      <th>0</th>\n",
       "      <td>0</td>\n",
       "      <td>46115322</td>\n",
       "      <td>R-745d907e</td>\n",
       "      <td>76.333333</td>\n",
       "      <td>9.666667</td>\n",
       "      <td>0.0</td>\n",
       "      <td>31.333333</td>\n",
       "      <td>6.0</td>\n",
       "      <td>1012.00</td>\n",
       "      <td>Clear</td>\n",
       "    </tr>\n",
       "    <tr>\n",
       "      <th>1</th>\n",
       "      <td>1</td>\n",
       "      <td>27261804</td>\n",
       "      <td>R-e77d76f2</td>\n",
       "      <td>48.250000</td>\n",
       "      <td>7.000000</td>\n",
       "      <td>0.0</td>\n",
       "      <td>78.250000</td>\n",
       "      <td>1.5</td>\n",
       "      <td>1023.25</td>\n",
       "      <td>Light drizzle</td>\n",
       "    </tr>\n",
       "  </tbody>\n",
       "</table>\n",
       "</div>"
      ],
      "text/plain": [
       "   unique_id  truck_id    route_id  mean_temp  mean_wind_speed  mean_precip  \\\n",
       "0          0  46115322  R-745d907e  76.333333         9.666667          0.0   \n",
       "1          1  27261804  R-e77d76f2  48.250000         7.000000          0.0   \n",
       "\n",
       "   mean_humidity  mean_visibility  mean_pressure route_description  \n",
       "0      31.333333              6.0        1012.00             Clear  \n",
       "1      78.250000              1.5        1023.25     Light drizzle  "
      ]
     },
     "execution_count": 132,
     "metadata": {},
     "output_type": "execute_result"
    }
   ],
   "source": [
    "schedule_weather_grouped.head(2)"
   ]
  },
  {
   "cell_type": "code",
   "execution_count": 133,
   "id": "03394792-4d2c-4eed-b421-7d42e7be2699",
   "metadata": {},
   "outputs": [],
   "source": [
    "# merging the schedule df with schedule_weather_grouped \n",
    "schedule_weather_merge=schedule_df.merge(schedule_weather_grouped,on=['unique_id','truck_id','route_id'],how='left')"
   ]
  },
  {
   "cell_type": "code",
   "execution_count": 134,
   "id": "8ff4c641-a07f-426c-91d1-a0d0ddc07e0b",
   "metadata": {},
   "outputs": [
    {
     "data": {
      "text/plain": [
       "unique_id            0\n",
       "truck_id             0\n",
       "route_id             0\n",
       "departure_date       0\n",
       "estimated_arrival    0\n",
       "delay                0\n",
       "mean_temp            0\n",
       "mean_wind_speed      0\n",
       "mean_precip          0\n",
       "mean_humidity        0\n",
       "mean_visibility      0\n",
       "mean_pressure        0\n",
       "route_description    0\n",
       "dtype: int64"
      ]
     },
     "execution_count": 134,
     "metadata": {},
     "output_type": "execute_result"
    }
   ],
   "source": [
    "schedule_weather_merge.isna().sum()"
   ]
  },
  {
   "cell_type": "markdown",
   "id": "fdccd245-3fd8-4b10-8d1a-1c8c4fc30ec2",
   "metadata": {},
   "source": [
    "#### Relationship between the city_weather with aorigin and destination "
   ]
  },
  {
   "cell_type": "code",
   "execution_count": 135,
   "id": "e4164f2f-991f-49d2-80fc-eae651885358",
   "metadata": {},
   "outputs": [
    {
     "data": {
      "text/html": [
       "<div>\n",
       "<style scoped>\n",
       "    .dataframe tbody tr th:only-of-type {\n",
       "        vertical-align: middle;\n",
       "    }\n",
       "\n",
       "    .dataframe tbody tr th {\n",
       "        vertical-align: top;\n",
       "    }\n",
       "\n",
       "    .dataframe thead th {\n",
       "        text-align: right;\n",
       "    }\n",
       "</style>\n",
       "<table border=\"1\" class=\"dataframe\">\n",
       "  <thead>\n",
       "    <tr style=\"text-align: right;\">\n",
       "      <th></th>\n",
       "      <th>city_id</th>\n",
       "      <th>custom_date</th>\n",
       "      <th>date</th>\n",
       "      <th>hour</th>\n",
       "      <th>temp</th>\n",
       "      <th>wind_speed</th>\n",
       "      <th>description</th>\n",
       "      <th>precip</th>\n",
       "      <th>humidity</th>\n",
       "      <th>visibility</th>\n",
       "      <th>pressure</th>\n",
       "    </tr>\n",
       "  </thead>\n",
       "  <tbody>\n",
       "    <tr>\n",
       "      <th>0</th>\n",
       "      <td>C-c4565ee8</td>\n",
       "      <td>2019-01-02 07:00:00+00:00</td>\n",
       "      <td>2019-01-02 00:00:00+00:00</td>\n",
       "      <td>07:00:00</td>\n",
       "      <td>32.0</td>\n",
       "      <td>4.0</td>\n",
       "      <td>Partly cloudy</td>\n",
       "      <td>0.0</td>\n",
       "      <td>87</td>\n",
       "      <td>4.0</td>\n",
       "      <td>1024.0</td>\n",
       "    </tr>\n",
       "  </tbody>\n",
       "</table>\n",
       "</div>"
      ],
      "text/plain": [
       "      city_id               custom_date                      date      hour  \\\n",
       "0  C-c4565ee8 2019-01-02 07:00:00+00:00 2019-01-02 00:00:00+00:00  07:00:00   \n",
       "\n",
       "   temp  wind_speed    description  precip  humidity  visibility  pressure  \n",
       "0  32.0         4.0  Partly cloudy     0.0        87         4.0    1024.0  "
      ]
     },
     "execution_count": 135,
     "metadata": {},
     "output_type": "execute_result"
    }
   ],
   "source": [
    "weather_df.head(1)"
   ]
  },
  {
   "cell_type": "code",
   "execution_count": 136,
   "id": "e1bb2ba5-8c2d-49bb-bee6-76a5c325987d",
   "metadata": {},
   "outputs": [
    {
     "data": {
      "text/html": [
       "<div>\n",
       "<style scoped>\n",
       "    .dataframe tbody tr th:only-of-type {\n",
       "        vertical-align: middle;\n",
       "    }\n",
       "\n",
       "    .dataframe tbody tr th {\n",
       "        vertical-align: top;\n",
       "    }\n",
       "\n",
       "    .dataframe thead th {\n",
       "        text-align: right;\n",
       "    }\n",
       "</style>\n",
       "<table border=\"1\" class=\"dataframe\">\n",
       "  <thead>\n",
       "    <tr style=\"text-align: right;\">\n",
       "      <th></th>\n",
       "      <th>route_id</th>\n",
       "      <th>origin_id</th>\n",
       "      <th>destination_id</th>\n",
       "      <th>distance</th>\n",
       "      <th>average_hours</th>\n",
       "    </tr>\n",
       "  </thead>\n",
       "  <tbody>\n",
       "    <tr>\n",
       "      <th>0</th>\n",
       "      <td>R-5490d8a5</td>\n",
       "      <td>C-03bb3e48</td>\n",
       "      <td>C-2c9e75ef</td>\n",
       "      <td>687.88</td>\n",
       "      <td>13.76</td>\n",
       "    </tr>\n",
       "    <tr>\n",
       "      <th>1</th>\n",
       "      <td>R-9ad2edb9</td>\n",
       "      <td>C-9bbf5d8a</td>\n",
       "      <td>C-34ae77b0</td>\n",
       "      <td>9561.03</td>\n",
       "      <td>191.22</td>\n",
       "    </tr>\n",
       "  </tbody>\n",
       "</table>\n",
       "</div>"
      ],
      "text/plain": [
       "     route_id   origin_id destination_id  distance  average_hours\n",
       "0  R-5490d8a5  C-03bb3e48     C-2c9e75ef    687.88          13.76\n",
       "1  R-9ad2edb9  C-9bbf5d8a     C-34ae77b0   9561.03         191.22"
      ]
     },
     "execution_count": 136,
     "metadata": {},
     "output_type": "execute_result"
    }
   ],
   "source": [
    "routes_df.head(2)"
   ]
  },
  {
   "cell_type": "code",
   "execution_count": 137,
   "id": "ad751f90-30f3-41b7-97cb-5648d7d3d150",
   "metadata": {},
   "outputs": [],
   "source": [
    "# Since cweather_df data are available hourly, transform the arrival and departure times in schdule_df hourly\n",
    "\n",
    "nearest_hour_schedule_df=schedule_df.copy()\n",
    "nearest_hour_schedule_df['estimated_arrival_nearest_hour']=nearest_hour_schedule_df['estimated_arrival'].dt.round('H')\n",
    "nearest_hour_schedule_df['departure_date_nearest_hour']=nearest_hour_schedule_df['departure_date'].dt.round('H')\n",
    "\n",
    "# merging the routes_df with schedule_H_df \n",
    "nearest_hour_schedule_route_df=pd.merge(nearest_hour_schedule_df,routes_df,on='route_id',how='left')"
   ]
  },
  {
   "cell_type": "code",
   "execution_count": 138,
   "id": "73076059-03f2-4644-b5d1-bb74a675733c",
   "metadata": {},
   "outputs": [
    {
     "data": {
      "text/plain": [
       "(24616, 12)"
      ]
     },
     "execution_count": 138,
     "metadata": {},
     "output_type": "execute_result"
    }
   ],
   "source": [
    "nearest_hour_schedule_route_df.shape"
   ]
  },
  {
   "cell_type": "code",
   "execution_count": 139,
   "id": "c168035f-b2f5-48ad-b950-acbc36c52b2f",
   "metadata": {},
   "outputs": [
    {
     "data": {
      "text/html": [
       "<div>\n",
       "<style scoped>\n",
       "    .dataframe tbody tr th:only-of-type {\n",
       "        vertical-align: middle;\n",
       "    }\n",
       "\n",
       "    .dataframe tbody tr th {\n",
       "        vertical-align: top;\n",
       "    }\n",
       "\n",
       "    .dataframe thead th {\n",
       "        text-align: right;\n",
       "    }\n",
       "</style>\n",
       "<table border=\"1\" class=\"dataframe\">\n",
       "  <thead>\n",
       "    <tr style=\"text-align: right;\">\n",
       "      <th></th>\n",
       "      <th>unique_id</th>\n",
       "      <th>truck_id</th>\n",
       "      <th>route_id</th>\n",
       "      <th>departure_date</th>\n",
       "      <th>estimated_arrival</th>\n",
       "      <th>delay</th>\n",
       "      <th>estimated_arrival_nearest_hour</th>\n",
       "      <th>departure_date_nearest_hour</th>\n",
       "      <th>origin_id</th>\n",
       "      <th>destination_id</th>\n",
       "      <th>distance</th>\n",
       "      <th>average_hours</th>\n",
       "    </tr>\n",
       "  </thead>\n",
       "  <tbody>\n",
       "    <tr>\n",
       "      <th>0</th>\n",
       "      <td>0</td>\n",
       "      <td>46115322</td>\n",
       "      <td>R-745d907e</td>\n",
       "      <td>2019-02-06 07:00:00+00:00</td>\n",
       "      <td>2019-02-06 14:29:24+00:00</td>\n",
       "      <td>1</td>\n",
       "      <td>2019-02-06 14:00:00+00:00</td>\n",
       "      <td>2019-02-06 07:00:00+00:00</td>\n",
       "      <td>C-ff8c0c3c</td>\n",
       "      <td>C-7212cebe</td>\n",
       "      <td>374.28</td>\n",
       "      <td>7.49</td>\n",
       "    </tr>\n",
       "    <tr>\n",
       "      <th>1</th>\n",
       "      <td>0</td>\n",
       "      <td>46115322</td>\n",
       "      <td>R-745d907e</td>\n",
       "      <td>2019-02-06 07:00:00+00:00</td>\n",
       "      <td>2019-02-06 14:29:24+00:00</td>\n",
       "      <td>1</td>\n",
       "      <td>2019-02-06 14:00:00+00:00</td>\n",
       "      <td>2019-02-06 07:00:00+00:00</td>\n",
       "      <td>C-ff8c0c3c</td>\n",
       "      <td>C-7212cebe</td>\n",
       "      <td>374.28</td>\n",
       "      <td>7.49</td>\n",
       "    </tr>\n",
       "  </tbody>\n",
       "</table>\n",
       "</div>"
      ],
      "text/plain": [
       "   unique_id  truck_id    route_id            departure_date  \\\n",
       "0          0  46115322  R-745d907e 2019-02-06 07:00:00+00:00   \n",
       "1          0  46115322  R-745d907e 2019-02-06 07:00:00+00:00   \n",
       "\n",
       "          estimated_arrival  delay estimated_arrival_nearest_hour  \\\n",
       "0 2019-02-06 14:29:24+00:00      1      2019-02-06 14:00:00+00:00   \n",
       "1 2019-02-06 14:29:24+00:00      1      2019-02-06 14:00:00+00:00   \n",
       "\n",
       "  departure_date_nearest_hour   origin_id destination_id  distance  \\\n",
       "0   2019-02-06 07:00:00+00:00  C-ff8c0c3c     C-7212cebe    374.28   \n",
       "1   2019-02-06 07:00:00+00:00  C-ff8c0c3c     C-7212cebe    374.28   \n",
       "\n",
       "   average_hours  \n",
       "0           7.49  \n",
       "1           7.49  "
      ]
     },
     "execution_count": 139,
     "metadata": {},
     "output_type": "execute_result"
    }
   ],
   "source": [
    "nearest_hour_schedule_route_df.head(2)"
   ]
  },
  {
   "cell_type": "code",
   "execution_count": 140,
   "id": "eb0fb6d8-6d89-4bef-a347-d19a19e7fdaf",
   "metadata": {},
   "outputs": [
    {
     "data": {
      "text/html": [
       "<div>\n",
       "<style scoped>\n",
       "    .dataframe tbody tr th:only-of-type {\n",
       "        vertical-align: middle;\n",
       "    }\n",
       "\n",
       "    .dataframe tbody tr th {\n",
       "        vertical-align: top;\n",
       "    }\n",
       "\n",
       "    .dataframe thead th {\n",
       "        text-align: right;\n",
       "    }\n",
       "</style>\n",
       "<table border=\"1\" class=\"dataframe\">\n",
       "  <thead>\n",
       "    <tr style=\"text-align: right;\">\n",
       "      <th></th>\n",
       "      <th>city_id</th>\n",
       "      <th>custom_date</th>\n",
       "      <th>date</th>\n",
       "      <th>hour</th>\n",
       "      <th>temp</th>\n",
       "      <th>wind_speed</th>\n",
       "      <th>description</th>\n",
       "      <th>precip</th>\n",
       "      <th>humidity</th>\n",
       "      <th>visibility</th>\n",
       "      <th>pressure</th>\n",
       "    </tr>\n",
       "  </thead>\n",
       "  <tbody>\n",
       "    <tr>\n",
       "      <th>0</th>\n",
       "      <td>C-c4565ee8</td>\n",
       "      <td>2019-01-02 07:00:00+00:00</td>\n",
       "      <td>2019-01-02 00:00:00+00:00</td>\n",
       "      <td>07:00:00</td>\n",
       "      <td>32.0</td>\n",
       "      <td>4.0</td>\n",
       "      <td>Partly cloudy</td>\n",
       "      <td>0.0</td>\n",
       "      <td>87</td>\n",
       "      <td>4.0</td>\n",
       "      <td>1024.0</td>\n",
       "    </tr>\n",
       "    <tr>\n",
       "      <th>1</th>\n",
       "      <td>C-90e30162</td>\n",
       "      <td>2019-01-01 20:00:00+00:00</td>\n",
       "      <td>2019-01-01 00:00:00+00:00</td>\n",
       "      <td>20:00:00</td>\n",
       "      <td>50.0</td>\n",
       "      <td>7.0</td>\n",
       "      <td>Clear</td>\n",
       "      <td>0.0</td>\n",
       "      <td>87</td>\n",
       "      <td>6.0</td>\n",
       "      <td>1023.0</td>\n",
       "    </tr>\n",
       "    <tr>\n",
       "      <th>2</th>\n",
       "      <td>C-2c9e75ef</td>\n",
       "      <td>2019-01-28 09:00:00+00:00</td>\n",
       "      <td>2019-01-28 00:00:00+00:00</td>\n",
       "      <td>09:00:00</td>\n",
       "      <td>45.0</td>\n",
       "      <td>12.0</td>\n",
       "      <td>Overcast</td>\n",
       "      <td>0.0</td>\n",
       "      <td>69</td>\n",
       "      <td>6.0</td>\n",
       "      <td>1015.0</td>\n",
       "    </tr>\n",
       "  </tbody>\n",
       "</table>\n",
       "</div>"
      ],
      "text/plain": [
       "      city_id               custom_date                      date      hour  \\\n",
       "0  C-c4565ee8 2019-01-02 07:00:00+00:00 2019-01-02 00:00:00+00:00  07:00:00   \n",
       "1  C-90e30162 2019-01-01 20:00:00+00:00 2019-01-01 00:00:00+00:00  20:00:00   \n",
       "2  C-2c9e75ef 2019-01-28 09:00:00+00:00 2019-01-28 00:00:00+00:00  09:00:00   \n",
       "\n",
       "   temp  wind_speed    description  precip  humidity  visibility  pressure  \n",
       "0  32.0         4.0  Partly cloudy     0.0        87         4.0    1024.0  \n",
       "1  50.0         7.0          Clear     0.0        87         6.0    1023.0  \n",
       "2  45.0        12.0       Overcast     0.0        69         6.0    1015.0  "
      ]
     },
     "execution_count": 140,
     "metadata": {},
     "output_type": "execute_result"
    }
   ],
   "source": [
    "weather_df.head(3)"
   ]
  },
  {
   "cell_type": "code",
   "execution_count": 141,
   "id": "db6b83dd-7ee6-4351-8774-c78f0cd5636c",
   "metadata": {},
   "outputs": [],
   "source": [
    "# Manipulate the weather_df with the origin and destination data from the shedule_df\n",
    "\n",
    "# manipulate the weather df for origin data \n",
    "origin_weather=weather_df.copy()\n",
    "origin_weather.shape\n",
    "origin_weather.drop(columns=['hour','date'],inplace=True)\n",
    "\n",
    "# rename the columns of the origin_weather_df\n",
    "origin_weather.columns=['origin_id','departure_date_nearest_hour', 'origin_temp', 'origin_wind_speed','origin_description', 'origin_precip',\n",
    "       'origin_humidity', 'origin_visibility', 'origin_pressure']\n",
    "\n",
    "\n",
    "#manipulate the weather df for destination data \n",
    "destination_weather=weather_df.copy()\n",
    "destination_weather.drop(columns=['hour','date'],inplace=True)\n",
    "\n",
    "# rename the columns of the destination_weather_df\n",
    "destination_weather.columns = ['destination_id', 'estimated_arrival_nearest_hour','destination_temp', 'destination_wind_speed','destination_description', 'destination_precip',\n",
    "       'destination_humidity', 'destination_visibility', 'destination_pressure' ]\n"
   ]
  },
  {
   "cell_type": "code",
   "execution_count": 142,
   "id": "64160da9-1e48-4ef9-b069-02475b086252",
   "metadata": {},
   "outputs": [],
   "source": [
    "\n",
    "# Merge 'nearest_hour_schedule_route_df' with 'origin_weather_data' based on specified columns\n",
    "origin_weather_merge = pd.merge(nearest_hour_schedule_route_df, origin_weather, on=['origin_id','departure_date_nearest_hour'], how='left')\n",
    "\n",
    "# Merge 'origin_weather_merge' with 'destination_weather_data' based on specified columns\n",
    "origin_destination_weather = pd.merge(origin_weather_merge, destination_weather, on=['destination_id', 'estimated_arrival_nearest_hour'], how='left')\n"
   ]
  },
  {
   "cell_type": "code",
   "execution_count": 143,
   "id": "31132b24-a31f-4d2f-99b6-903270843288",
   "metadata": {},
   "outputs": [
    {
     "data": {
      "text/html": [
       "<div>\n",
       "<style scoped>\n",
       "    .dataframe tbody tr th:only-of-type {\n",
       "        vertical-align: middle;\n",
       "    }\n",
       "\n",
       "    .dataframe tbody tr th {\n",
       "        vertical-align: top;\n",
       "    }\n",
       "\n",
       "    .dataframe thead th {\n",
       "        text-align: right;\n",
       "    }\n",
       "</style>\n",
       "<table border=\"1\" class=\"dataframe\">\n",
       "  <thead>\n",
       "    <tr style=\"text-align: right;\">\n",
       "      <th></th>\n",
       "      <th>unique_id</th>\n",
       "      <th>truck_id</th>\n",
       "      <th>route_id</th>\n",
       "      <th>departure_date</th>\n",
       "      <th>estimated_arrival</th>\n",
       "      <th>delay</th>\n",
       "      <th>estimated_arrival_nearest_hour</th>\n",
       "      <th>departure_date_nearest_hour</th>\n",
       "      <th>origin_id</th>\n",
       "      <th>destination_id</th>\n",
       "      <th>distance</th>\n",
       "      <th>average_hours</th>\n",
       "      <th>origin_temp</th>\n",
       "      <th>origin_wind_speed</th>\n",
       "      <th>origin_description</th>\n",
       "      <th>origin_precip</th>\n",
       "      <th>origin_humidity</th>\n",
       "      <th>origin_visibility</th>\n",
       "      <th>origin_pressure</th>\n",
       "      <th>destination_temp</th>\n",
       "      <th>destination_wind_speed</th>\n",
       "      <th>destination_description</th>\n",
       "      <th>destination_precip</th>\n",
       "      <th>destination_humidity</th>\n",
       "      <th>destination_visibility</th>\n",
       "      <th>destination_pressure</th>\n",
       "    </tr>\n",
       "  </thead>\n",
       "  <tbody>\n",
       "    <tr>\n",
       "      <th>0</th>\n",
       "      <td>0</td>\n",
       "      <td>46115322</td>\n",
       "      <td>R-745d907e</td>\n",
       "      <td>2019-02-06 07:00:00+00:00</td>\n",
       "      <td>2019-02-06 14:29:24+00:00</td>\n",
       "      <td>1</td>\n",
       "      <td>2019-02-06 14:00:00+00:00</td>\n",
       "      <td>2019-02-06 07:00:00+00:00</td>\n",
       "      <td>C-ff8c0c3c</td>\n",
       "      <td>C-7212cebe</td>\n",
       "      <td>374.28</td>\n",
       "      <td>7.49</td>\n",
       "      <td>23.0</td>\n",
       "      <td>6.0</td>\n",
       "      <td>Partly cloudy</td>\n",
       "      <td>0.0</td>\n",
       "      <td>53.0</td>\n",
       "      <td>6.0</td>\n",
       "      <td>1017.0</td>\n",
       "      <td>23.0</td>\n",
       "      <td>7.0</td>\n",
       "      <td>Light snow</td>\n",
       "      <td>0.0</td>\n",
       "      <td>92</td>\n",
       "      <td>6.0</td>\n",
       "      <td>1018.0</td>\n",
       "    </tr>\n",
       "    <tr>\n",
       "      <th>1</th>\n",
       "      <td>0</td>\n",
       "      <td>46115322</td>\n",
       "      <td>R-745d907e</td>\n",
       "      <td>2019-02-06 07:00:00+00:00</td>\n",
       "      <td>2019-02-06 14:29:24+00:00</td>\n",
       "      <td>1</td>\n",
       "      <td>2019-02-06 14:00:00+00:00</td>\n",
       "      <td>2019-02-06 07:00:00+00:00</td>\n",
       "      <td>C-ff8c0c3c</td>\n",
       "      <td>C-7212cebe</td>\n",
       "      <td>374.28</td>\n",
       "      <td>7.49</td>\n",
       "      <td>23.0</td>\n",
       "      <td>6.0</td>\n",
       "      <td>Partly cloudy</td>\n",
       "      <td>0.0</td>\n",
       "      <td>53.0</td>\n",
       "      <td>6.0</td>\n",
       "      <td>1017.0</td>\n",
       "      <td>23.0</td>\n",
       "      <td>7.0</td>\n",
       "      <td>Light snow</td>\n",
       "      <td>0.0</td>\n",
       "      <td>92</td>\n",
       "      <td>6.0</td>\n",
       "      <td>1018.0</td>\n",
       "    </tr>\n",
       "  </tbody>\n",
       "</table>\n",
       "</div>"
      ],
      "text/plain": [
       "   unique_id  truck_id    route_id            departure_date  \\\n",
       "0          0  46115322  R-745d907e 2019-02-06 07:00:00+00:00   \n",
       "1          0  46115322  R-745d907e 2019-02-06 07:00:00+00:00   \n",
       "\n",
       "          estimated_arrival  delay estimated_arrival_nearest_hour  \\\n",
       "0 2019-02-06 14:29:24+00:00      1      2019-02-06 14:00:00+00:00   \n",
       "1 2019-02-06 14:29:24+00:00      1      2019-02-06 14:00:00+00:00   \n",
       "\n",
       "  departure_date_nearest_hour   origin_id destination_id  distance  \\\n",
       "0   2019-02-06 07:00:00+00:00  C-ff8c0c3c     C-7212cebe    374.28   \n",
       "1   2019-02-06 07:00:00+00:00  C-ff8c0c3c     C-7212cebe    374.28   \n",
       "\n",
       "   average_hours  origin_temp  origin_wind_speed origin_description  \\\n",
       "0           7.49         23.0                6.0      Partly cloudy   \n",
       "1           7.49         23.0                6.0      Partly cloudy   \n",
       "\n",
       "   origin_precip  origin_humidity  origin_visibility  origin_pressure  \\\n",
       "0            0.0             53.0                6.0           1017.0   \n",
       "1            0.0             53.0                6.0           1017.0   \n",
       "\n",
       "   destination_temp  destination_wind_speed destination_description  \\\n",
       "0              23.0                     7.0              Light snow   \n",
       "1              23.0                     7.0              Light snow   \n",
       "\n",
       "   destination_precip  destination_humidity  destination_visibility  \\\n",
       "0                 0.0                    92                     6.0   \n",
       "1                 0.0                    92                     6.0   \n",
       "\n",
       "   destination_pressure  \n",
       "0                1018.0  \n",
       "1                1018.0  "
      ]
     },
     "execution_count": 143,
     "metadata": {},
     "output_type": "execute_result"
    }
   ],
   "source": [
    "origin_destination_weather.head(2)"
   ]
  },
  {
   "cell_type": "code",
   "execution_count": 144,
   "id": "f807cd8e-5390-4087-9016-f0c1ff60c8ed",
   "metadata": {},
   "outputs": [
    {
     "data": {
      "text/plain": [
       "(24616, 26)"
      ]
     },
     "execution_count": 144,
     "metadata": {},
     "output_type": "execute_result"
    }
   ],
   "source": [
    "origin_destination_weather.shape"
   ]
  },
  {
   "cell_type": "markdown",
   "id": "6074940e-dcba-4aa9-8589-85478f3f19fd",
   "metadata": {},
   "source": [
    "#### Merge Traffic and Schedule data"
   ]
  },
  {
   "cell_type": "code",
   "execution_count": 145,
   "id": "18d316c3-b97a-4043-8218-76b120358f60",
   "metadata": {},
   "outputs": [
    {
     "data": {
      "text/html": [
       "<div>\n",
       "<style scoped>\n",
       "    .dataframe tbody tr th:only-of-type {\n",
       "        vertical-align: middle;\n",
       "    }\n",
       "\n",
       "    .dataframe tbody tr th {\n",
       "        vertical-align: top;\n",
       "    }\n",
       "\n",
       "    .dataframe thead th {\n",
       "        text-align: right;\n",
       "    }\n",
       "</style>\n",
       "<table border=\"1\" class=\"dataframe\">\n",
       "  <thead>\n",
       "    <tr style=\"text-align: right;\">\n",
       "      <th></th>\n",
       "      <th>route_id</th>\n",
       "      <th>custom_date</th>\n",
       "      <th>date</th>\n",
       "      <th>hour</th>\n",
       "      <th>no_of_vehicles</th>\n",
       "      <th>accident</th>\n",
       "    </tr>\n",
       "  </thead>\n",
       "  <tbody>\n",
       "    <tr>\n",
       "      <th>0</th>\n",
       "      <td>R-562f1149</td>\n",
       "      <td>2019-01-16 13:00:00+00:00</td>\n",
       "      <td>2019-01-16 00:00:00+00:00</td>\n",
       "      <td>13:00:00</td>\n",
       "      <td>2439.0</td>\n",
       "      <td>0</td>\n",
       "    </tr>\n",
       "    <tr>\n",
       "      <th>1</th>\n",
       "      <td>R-d57a78f5</td>\n",
       "      <td>2019-02-04 08:00:00+00:00</td>\n",
       "      <td>2019-02-04 00:00:00+00:00</td>\n",
       "      <td>08:00:00</td>\n",
       "      <td>1945.0</td>\n",
       "      <td>0</td>\n",
       "    </tr>\n",
       "    <tr>\n",
       "      <th>2</th>\n",
       "      <td>R-d5b79907</td>\n",
       "      <td>2019-02-13 11:00:00+00:00</td>\n",
       "      <td>2019-02-13 00:00:00+00:00</td>\n",
       "      <td>11:00:00</td>\n",
       "      <td>2164.0</td>\n",
       "      <td>0</td>\n",
       "    </tr>\n",
       "  </tbody>\n",
       "</table>\n",
       "</div>"
      ],
      "text/plain": [
       "     route_id               custom_date                      date      hour  \\\n",
       "0  R-562f1149 2019-01-16 13:00:00+00:00 2019-01-16 00:00:00+00:00  13:00:00   \n",
       "1  R-d57a78f5 2019-02-04 08:00:00+00:00 2019-02-04 00:00:00+00:00  08:00:00   \n",
       "2  R-d5b79907 2019-02-13 11:00:00+00:00 2019-02-13 00:00:00+00:00  11:00:00   \n",
       "\n",
       "   no_of_vehicles  accident  \n",
       "0          2439.0         0  \n",
       "1          1945.0         0  \n",
       "2          2164.0         0  "
      ]
     },
     "execution_count": 145,
     "metadata": {},
     "output_type": "execute_result"
    }
   ],
   "source": [
    "traffic_df.head(3)"
   ]
  },
  {
   "cell_type": "code",
   "execution_count": 146,
   "id": "ee9ce8e8-bfc9-4685-b689-9b705dbb3a76",
   "metadata": {},
   "outputs": [
    {
     "data": {
      "text/plain": [
       "(2596608, 6)"
      ]
     },
     "execution_count": 146,
     "metadata": {},
     "output_type": "execute_result"
    }
   ],
   "source": [
    "traffic_df.shape"
   ]
  },
  {
   "cell_type": "code",
   "execution_count": 147,
   "id": "e607364b-ad99-442a-ada7-fd715fffd094",
   "metadata": {},
   "outputs": [
    {
     "data": {
      "text/html": [
       "<div>\n",
       "<style scoped>\n",
       "    .dataframe tbody tr th:only-of-type {\n",
       "        vertical-align: middle;\n",
       "    }\n",
       "\n",
       "    .dataframe tbody tr th {\n",
       "        vertical-align: top;\n",
       "    }\n",
       "\n",
       "    .dataframe thead th {\n",
       "        text-align: right;\n",
       "    }\n",
       "</style>\n",
       "<table border=\"1\" class=\"dataframe\">\n",
       "  <thead>\n",
       "    <tr style=\"text-align: right;\">\n",
       "      <th></th>\n",
       "      <th>unique_id</th>\n",
       "      <th>truck_id</th>\n",
       "      <th>route_id</th>\n",
       "      <th>departure_date</th>\n",
       "      <th>estimated_arrival</th>\n",
       "      <th>delay</th>\n",
       "    </tr>\n",
       "  </thead>\n",
       "  <tbody>\n",
       "    <tr>\n",
       "      <th>0</th>\n",
       "      <td>0</td>\n",
       "      <td>46115322</td>\n",
       "      <td>R-745d907e</td>\n",
       "      <td>2019-02-06 07:00:00+00:00</td>\n",
       "      <td>2019-02-06 14:29:24+00:00</td>\n",
       "      <td>1</td>\n",
       "    </tr>\n",
       "    <tr>\n",
       "      <th>1</th>\n",
       "      <td>1</td>\n",
       "      <td>27261804</td>\n",
       "      <td>R-e77d76f2</td>\n",
       "      <td>2019-01-10 07:00:00+00:00</td>\n",
       "      <td>2019-01-10 19:27:36+00:00</td>\n",
       "      <td>0</td>\n",
       "    </tr>\n",
       "  </tbody>\n",
       "</table>\n",
       "</div>"
      ],
      "text/plain": [
       "   unique_id  truck_id    route_id            departure_date  \\\n",
       "0          0  46115322  R-745d907e 2019-02-06 07:00:00+00:00   \n",
       "1          1  27261804  R-e77d76f2 2019-01-10 07:00:00+00:00   \n",
       "\n",
       "          estimated_arrival  delay  \n",
       "0 2019-02-06 14:29:24+00:00      1  \n",
       "1 2019-01-10 19:27:36+00:00      0  "
      ]
     },
     "execution_count": 147,
     "metadata": {},
     "output_type": "execute_result"
    }
   ],
   "source": [
    "schedule_df.head(2)"
   ]
  },
  {
   "cell_type": "code",
   "execution_count": 148,
   "id": "1df7d49e-0f86-4329-ad33-7c3d0055231a",
   "metadata": {},
   "outputs": [
    {
     "data": {
      "text/html": [
       "<div>\n",
       "<style scoped>\n",
       "    .dataframe tbody tr th:only-of-type {\n",
       "        vertical-align: middle;\n",
       "    }\n",
       "\n",
       "    .dataframe tbody tr th {\n",
       "        vertical-align: top;\n",
       "    }\n",
       "\n",
       "    .dataframe thead th {\n",
       "        text-align: right;\n",
       "    }\n",
       "</style>\n",
       "<table border=\"1\" class=\"dataframe\">\n",
       "  <thead>\n",
       "    <tr style=\"text-align: right;\">\n",
       "      <th></th>\n",
       "      <th>unique_id</th>\n",
       "      <th>truck_id</th>\n",
       "      <th>route_id</th>\n",
       "      <th>departure_date</th>\n",
       "      <th>estimated_arrival</th>\n",
       "      <th>delay</th>\n",
       "      <th>estimated_arrival_nearest_hour</th>\n",
       "      <th>departure_date_nearest_hour</th>\n",
       "    </tr>\n",
       "  </thead>\n",
       "  <tbody>\n",
       "    <tr>\n",
       "      <th>0</th>\n",
       "      <td>0</td>\n",
       "      <td>46115322</td>\n",
       "      <td>R-745d907e</td>\n",
       "      <td>2019-02-06 07:00:00+00:00</td>\n",
       "      <td>2019-02-06 14:29:24+00:00</td>\n",
       "      <td>1</td>\n",
       "      <td>2019-02-06 14:00:00+00:00</td>\n",
       "      <td>2019-02-06 07:00:00+00:00</td>\n",
       "    </tr>\n",
       "    <tr>\n",
       "      <th>1</th>\n",
       "      <td>1</td>\n",
       "      <td>27261804</td>\n",
       "      <td>R-e77d76f2</td>\n",
       "      <td>2019-01-10 07:00:00+00:00</td>\n",
       "      <td>2019-01-10 19:27:36+00:00</td>\n",
       "      <td>0</td>\n",
       "      <td>2019-01-10 19:00:00+00:00</td>\n",
       "      <td>2019-01-10 07:00:00+00:00</td>\n",
       "    </tr>\n",
       "    <tr>\n",
       "      <th>2</th>\n",
       "      <td>2</td>\n",
       "      <td>28753771</td>\n",
       "      <td>R-965a0754</td>\n",
       "      <td>2019-01-25 07:00:00+00:00</td>\n",
       "      <td>2019-01-25 15:48:00+00:00</td>\n",
       "      <td>0</td>\n",
       "      <td>2019-01-25 16:00:00+00:00</td>\n",
       "      <td>2019-01-25 07:00:00+00:00</td>\n",
       "    </tr>\n",
       "  </tbody>\n",
       "</table>\n",
       "</div>"
      ],
      "text/plain": [
       "   unique_id  truck_id    route_id            departure_date  \\\n",
       "0          0  46115322  R-745d907e 2019-02-06 07:00:00+00:00   \n",
       "1          1  27261804  R-e77d76f2 2019-01-10 07:00:00+00:00   \n",
       "2          2  28753771  R-965a0754 2019-01-25 07:00:00+00:00   \n",
       "\n",
       "          estimated_arrival  delay estimated_arrival_nearest_hour  \\\n",
       "0 2019-02-06 14:29:24+00:00      1      2019-02-06 14:00:00+00:00   \n",
       "1 2019-01-10 19:27:36+00:00      0      2019-01-10 19:00:00+00:00   \n",
       "2 2019-01-25 15:48:00+00:00      0      2019-01-25 16:00:00+00:00   \n",
       "\n",
       "  departure_date_nearest_hour  \n",
       "0   2019-02-06 07:00:00+00:00  \n",
       "1   2019-01-10 07:00:00+00:00  \n",
       "2   2019-01-25 07:00:00+00:00  "
      ]
     },
     "execution_count": 148,
     "metadata": {},
     "output_type": "execute_result"
    }
   ],
   "source": [
    "nearest_hour_schedule_df.head(3)"
   ]
  },
  {
   "cell_type": "code",
   "execution_count": 149,
   "id": "f5afab0b-9682-4432-9726-d7f356b5d60b",
   "metadata": {},
   "outputs": [],
   "source": [
    "# Create a copy of the schedule DataFrame for manipulation\n",
    "nearest_hour_schedule_df = schedule_df.copy()\n",
    "\n",
    "# Round 'estimated_arrival' times to the nearest hour\n",
    "nearest_hour_schedule_df['estimated_arrival'] = nearest_hour_schedule_df['estimated_arrival'].dt.round(\"h\")\n",
    "\n",
    "# Round 'departure_date' times to the nearest hour\n",
    "nearest_hour_schedule_df['departure_date'] = nearest_hour_schedule_df['departure_date'].dt.round(\"h\")"
   ]
  },
  {
   "cell_type": "code",
   "execution_count": 150,
   "id": "2cb3ac2e-b36a-4d18-a16f-faa575c30943",
   "metadata": {},
   "outputs": [
    {
     "data": {
      "text/html": [
       "<div>\n",
       "<style scoped>\n",
       "    .dataframe tbody tr th:only-of-type {\n",
       "        vertical-align: middle;\n",
       "    }\n",
       "\n",
       "    .dataframe tbody tr th {\n",
       "        vertical-align: top;\n",
       "    }\n",
       "\n",
       "    .dataframe thead th {\n",
       "        text-align: right;\n",
       "    }\n",
       "</style>\n",
       "<table border=\"1\" class=\"dataframe\">\n",
       "  <thead>\n",
       "    <tr style=\"text-align: right;\">\n",
       "      <th></th>\n",
       "      <th>unique_id</th>\n",
       "      <th>truck_id</th>\n",
       "      <th>route_id</th>\n",
       "      <th>departure_date</th>\n",
       "      <th>estimated_arrival</th>\n",
       "      <th>delay</th>\n",
       "    </tr>\n",
       "  </thead>\n",
       "  <tbody>\n",
       "    <tr>\n",
       "      <th>0</th>\n",
       "      <td>0</td>\n",
       "      <td>46115322</td>\n",
       "      <td>R-745d907e</td>\n",
       "      <td>2019-02-06 07:00:00+00:00</td>\n",
       "      <td>2019-02-06 14:00:00+00:00</td>\n",
       "      <td>1</td>\n",
       "    </tr>\n",
       "    <tr>\n",
       "      <th>1</th>\n",
       "      <td>1</td>\n",
       "      <td>27261804</td>\n",
       "      <td>R-e77d76f2</td>\n",
       "      <td>2019-01-10 07:00:00+00:00</td>\n",
       "      <td>2019-01-10 19:00:00+00:00</td>\n",
       "      <td>0</td>\n",
       "    </tr>\n",
       "    <tr>\n",
       "      <th>2</th>\n",
       "      <td>2</td>\n",
       "      <td>28753771</td>\n",
       "      <td>R-965a0754</td>\n",
       "      <td>2019-01-25 07:00:00+00:00</td>\n",
       "      <td>2019-01-25 16:00:00+00:00</td>\n",
       "      <td>0</td>\n",
       "    </tr>\n",
       "    <tr>\n",
       "      <th>3</th>\n",
       "      <td>3</td>\n",
       "      <td>33976838</td>\n",
       "      <td>R-20e75c65</td>\n",
       "      <td>2019-01-01 07:00:00+00:00</td>\n",
       "      <td>2019-01-05 12:00:00+00:00</td>\n",
       "      <td>1</td>\n",
       "    </tr>\n",
       "    <tr>\n",
       "      <th>4</th>\n",
       "      <td>4</td>\n",
       "      <td>12515055</td>\n",
       "      <td>R-967f065a</td>\n",
       "      <td>2019-01-25 07:00:00+00:00</td>\n",
       "      <td>2019-01-26 00:00:00+00:00</td>\n",
       "      <td>1</td>\n",
       "    </tr>\n",
       "  </tbody>\n",
       "</table>\n",
       "</div>"
      ],
      "text/plain": [
       "   unique_id  truck_id    route_id            departure_date  \\\n",
       "0          0  46115322  R-745d907e 2019-02-06 07:00:00+00:00   \n",
       "1          1  27261804  R-e77d76f2 2019-01-10 07:00:00+00:00   \n",
       "2          2  28753771  R-965a0754 2019-01-25 07:00:00+00:00   \n",
       "3          3  33976838  R-20e75c65 2019-01-01 07:00:00+00:00   \n",
       "4          4  12515055  R-967f065a 2019-01-25 07:00:00+00:00   \n",
       "\n",
       "          estimated_arrival  delay  \n",
       "0 2019-02-06 14:00:00+00:00      1  \n",
       "1 2019-01-10 19:00:00+00:00      0  \n",
       "2 2019-01-25 16:00:00+00:00      0  \n",
       "3 2019-01-05 12:00:00+00:00      1  \n",
       "4 2019-01-26 00:00:00+00:00      1  "
      ]
     },
     "execution_count": 150,
     "metadata": {},
     "output_type": "execute_result"
    }
   ],
   "source": [
    "nearest_hour_schedule_df.head(5)"
   ]
  },
  {
   "cell_type": "code",
   "execution_count": 151,
   "id": "9bc8bcea-0174-4d8e-897f-7c0ba22ad2c7",
   "metadata": {},
   "outputs": [],
   "source": [
    "# Expload the schedule_H_df\n",
    "hourly_exploded_scheduled_df=(nearest_hour_schedule_df.assign(custom_date = [pd.date_range(start, end, freq='h')  \n",
    "                      for start, end\n",
    "                      in zip(nearest_hour_schedule_df['departure_date'], nearest_hour_schedule_df['estimated_arrival'])])  \n",
    "                      .explode('custom_date', ignore_index = True))  "
   ]
  },
  {
   "cell_type": "code",
   "execution_count": 152,
   "id": "cdbf4516-bda9-4ad8-92ec-9778b0d16879",
   "metadata": {},
   "outputs": [
    {
     "data": {
      "text/html": [
       "<div>\n",
       "<style scoped>\n",
       "    .dataframe tbody tr th:only-of-type {\n",
       "        vertical-align: middle;\n",
       "    }\n",
       "\n",
       "    .dataframe tbody tr th {\n",
       "        vertical-align: top;\n",
       "    }\n",
       "\n",
       "    .dataframe thead th {\n",
       "        text-align: right;\n",
       "    }\n",
       "</style>\n",
       "<table border=\"1\" class=\"dataframe\">\n",
       "  <thead>\n",
       "    <tr style=\"text-align: right;\">\n",
       "      <th></th>\n",
       "      <th>unique_id</th>\n",
       "      <th>truck_id</th>\n",
       "      <th>route_id</th>\n",
       "      <th>departure_date</th>\n",
       "      <th>estimated_arrival</th>\n",
       "      <th>delay</th>\n",
       "      <th>custom_date</th>\n",
       "    </tr>\n",
       "  </thead>\n",
       "  <tbody>\n",
       "    <tr>\n",
       "      <th>0</th>\n",
       "      <td>0</td>\n",
       "      <td>46115322</td>\n",
       "      <td>R-745d907e</td>\n",
       "      <td>2019-02-06 07:00:00+00:00</td>\n",
       "      <td>2019-02-06 14:00:00+00:00</td>\n",
       "      <td>1</td>\n",
       "      <td>2019-02-06 07:00:00+00:00</td>\n",
       "    </tr>\n",
       "    <tr>\n",
       "      <th>1</th>\n",
       "      <td>0</td>\n",
       "      <td>46115322</td>\n",
       "      <td>R-745d907e</td>\n",
       "      <td>2019-02-06 07:00:00+00:00</td>\n",
       "      <td>2019-02-06 14:00:00+00:00</td>\n",
       "      <td>1</td>\n",
       "      <td>2019-02-06 08:00:00+00:00</td>\n",
       "    </tr>\n",
       "    <tr>\n",
       "      <th>2</th>\n",
       "      <td>0</td>\n",
       "      <td>46115322</td>\n",
       "      <td>R-745d907e</td>\n",
       "      <td>2019-02-06 07:00:00+00:00</td>\n",
       "      <td>2019-02-06 14:00:00+00:00</td>\n",
       "      <td>1</td>\n",
       "      <td>2019-02-06 09:00:00+00:00</td>\n",
       "    </tr>\n",
       "    <tr>\n",
       "      <th>3</th>\n",
       "      <td>0</td>\n",
       "      <td>46115322</td>\n",
       "      <td>R-745d907e</td>\n",
       "      <td>2019-02-06 07:00:00+00:00</td>\n",
       "      <td>2019-02-06 14:00:00+00:00</td>\n",
       "      <td>1</td>\n",
       "      <td>2019-02-06 10:00:00+00:00</td>\n",
       "    </tr>\n",
       "    <tr>\n",
       "      <th>4</th>\n",
       "      <td>0</td>\n",
       "      <td>46115322</td>\n",
       "      <td>R-745d907e</td>\n",
       "      <td>2019-02-06 07:00:00+00:00</td>\n",
       "      <td>2019-02-06 14:00:00+00:00</td>\n",
       "      <td>1</td>\n",
       "      <td>2019-02-06 11:00:00+00:00</td>\n",
       "    </tr>\n",
       "    <tr>\n",
       "      <th>5</th>\n",
       "      <td>0</td>\n",
       "      <td>46115322</td>\n",
       "      <td>R-745d907e</td>\n",
       "      <td>2019-02-06 07:00:00+00:00</td>\n",
       "      <td>2019-02-06 14:00:00+00:00</td>\n",
       "      <td>1</td>\n",
       "      <td>2019-02-06 12:00:00+00:00</td>\n",
       "    </tr>\n",
       "    <tr>\n",
       "      <th>6</th>\n",
       "      <td>0</td>\n",
       "      <td>46115322</td>\n",
       "      <td>R-745d907e</td>\n",
       "      <td>2019-02-06 07:00:00+00:00</td>\n",
       "      <td>2019-02-06 14:00:00+00:00</td>\n",
       "      <td>1</td>\n",
       "      <td>2019-02-06 13:00:00+00:00</td>\n",
       "    </tr>\n",
       "    <tr>\n",
       "      <th>7</th>\n",
       "      <td>0</td>\n",
       "      <td>46115322</td>\n",
       "      <td>R-745d907e</td>\n",
       "      <td>2019-02-06 07:00:00+00:00</td>\n",
       "      <td>2019-02-06 14:00:00+00:00</td>\n",
       "      <td>1</td>\n",
       "      <td>2019-02-06 14:00:00+00:00</td>\n",
       "    </tr>\n",
       "    <tr>\n",
       "      <th>8</th>\n",
       "      <td>1</td>\n",
       "      <td>27261804</td>\n",
       "      <td>R-e77d76f2</td>\n",
       "      <td>2019-01-10 07:00:00+00:00</td>\n",
       "      <td>2019-01-10 19:00:00+00:00</td>\n",
       "      <td>0</td>\n",
       "      <td>2019-01-10 07:00:00+00:00</td>\n",
       "    </tr>\n",
       "    <tr>\n",
       "      <th>9</th>\n",
       "      <td>1</td>\n",
       "      <td>27261804</td>\n",
       "      <td>R-e77d76f2</td>\n",
       "      <td>2019-01-10 07:00:00+00:00</td>\n",
       "      <td>2019-01-10 19:00:00+00:00</td>\n",
       "      <td>0</td>\n",
       "      <td>2019-01-10 08:00:00+00:00</td>\n",
       "    </tr>\n",
       "  </tbody>\n",
       "</table>\n",
       "</div>"
      ],
      "text/plain": [
       "   unique_id  truck_id    route_id            departure_date  \\\n",
       "0          0  46115322  R-745d907e 2019-02-06 07:00:00+00:00   \n",
       "1          0  46115322  R-745d907e 2019-02-06 07:00:00+00:00   \n",
       "2          0  46115322  R-745d907e 2019-02-06 07:00:00+00:00   \n",
       "3          0  46115322  R-745d907e 2019-02-06 07:00:00+00:00   \n",
       "4          0  46115322  R-745d907e 2019-02-06 07:00:00+00:00   \n",
       "5          0  46115322  R-745d907e 2019-02-06 07:00:00+00:00   \n",
       "6          0  46115322  R-745d907e 2019-02-06 07:00:00+00:00   \n",
       "7          0  46115322  R-745d907e 2019-02-06 07:00:00+00:00   \n",
       "8          1  27261804  R-e77d76f2 2019-01-10 07:00:00+00:00   \n",
       "9          1  27261804  R-e77d76f2 2019-01-10 07:00:00+00:00   \n",
       "\n",
       "          estimated_arrival  delay               custom_date  \n",
       "0 2019-02-06 14:00:00+00:00      1 2019-02-06 07:00:00+00:00  \n",
       "1 2019-02-06 14:00:00+00:00      1 2019-02-06 08:00:00+00:00  \n",
       "2 2019-02-06 14:00:00+00:00      1 2019-02-06 09:00:00+00:00  \n",
       "3 2019-02-06 14:00:00+00:00      1 2019-02-06 10:00:00+00:00  \n",
       "4 2019-02-06 14:00:00+00:00      1 2019-02-06 11:00:00+00:00  \n",
       "5 2019-02-06 14:00:00+00:00      1 2019-02-06 12:00:00+00:00  \n",
       "6 2019-02-06 14:00:00+00:00      1 2019-02-06 13:00:00+00:00  \n",
       "7 2019-02-06 14:00:00+00:00      1 2019-02-06 14:00:00+00:00  \n",
       "8 2019-01-10 19:00:00+00:00      0 2019-01-10 07:00:00+00:00  \n",
       "9 2019-01-10 19:00:00+00:00      0 2019-01-10 08:00:00+00:00  "
      ]
     },
     "execution_count": 152,
     "metadata": {},
     "output_type": "execute_result"
    }
   ],
   "source": [
    "hourly_exploded_scheduled_df.head(10)"
   ]
  },
  {
   "cell_type": "code",
   "execution_count": 153,
   "id": "35f354c5-0c95-4e0f-a31e-e20dd02608c3",
   "metadata": {},
   "outputs": [
    {
     "data": {
      "text/html": [
       "<div>\n",
       "<style scoped>\n",
       "    .dataframe tbody tr th:only-of-type {\n",
       "        vertical-align: middle;\n",
       "    }\n",
       "\n",
       "    .dataframe tbody tr th {\n",
       "        vertical-align: top;\n",
       "    }\n",
       "\n",
       "    .dataframe thead th {\n",
       "        text-align: right;\n",
       "    }\n",
       "</style>\n",
       "<table border=\"1\" class=\"dataframe\">\n",
       "  <thead>\n",
       "    <tr style=\"text-align: right;\">\n",
       "      <th></th>\n",
       "      <th>route_id</th>\n",
       "      <th>custom_date</th>\n",
       "      <th>date</th>\n",
       "      <th>hour</th>\n",
       "      <th>no_of_vehicles</th>\n",
       "      <th>accident</th>\n",
       "    </tr>\n",
       "  </thead>\n",
       "  <tbody>\n",
       "    <tr>\n",
       "      <th>0</th>\n",
       "      <td>R-562f1149</td>\n",
       "      <td>2019-01-16 13:00:00+00:00</td>\n",
       "      <td>2019-01-16 00:00:00+00:00</td>\n",
       "      <td>13:00:00</td>\n",
       "      <td>2439.0</td>\n",
       "      <td>0</td>\n",
       "    </tr>\n",
       "    <tr>\n",
       "      <th>1</th>\n",
       "      <td>R-d57a78f5</td>\n",
       "      <td>2019-02-04 08:00:00+00:00</td>\n",
       "      <td>2019-02-04 00:00:00+00:00</td>\n",
       "      <td>08:00:00</td>\n",
       "      <td>1945.0</td>\n",
       "      <td>0</td>\n",
       "    </tr>\n",
       "    <tr>\n",
       "      <th>2</th>\n",
       "      <td>R-d5b79907</td>\n",
       "      <td>2019-02-13 11:00:00+00:00</td>\n",
       "      <td>2019-02-13 00:00:00+00:00</td>\n",
       "      <td>11:00:00</td>\n",
       "      <td>2164.0</td>\n",
       "      <td>0</td>\n",
       "    </tr>\n",
       "    <tr>\n",
       "      <th>3</th>\n",
       "      <td>R-c40e40a1</td>\n",
       "      <td>2019-01-08 14:00:00+00:00</td>\n",
       "      <td>2019-01-08 00:00:00+00:00</td>\n",
       "      <td>14:00:00</td>\n",
       "      <td>2647.0</td>\n",
       "      <td>0</td>\n",
       "    </tr>\n",
       "    <tr>\n",
       "      <th>4</th>\n",
       "      <td>R-715ae3f6</td>\n",
       "      <td>2019-01-27 08:00:00+00:00</td>\n",
       "      <td>2019-01-27 00:00:00+00:00</td>\n",
       "      <td>08:00:00</td>\n",
       "      <td>2158.0</td>\n",
       "      <td>0</td>\n",
       "    </tr>\n",
       "  </tbody>\n",
       "</table>\n",
       "</div>"
      ],
      "text/plain": [
       "     route_id               custom_date                      date      hour  \\\n",
       "0  R-562f1149 2019-01-16 13:00:00+00:00 2019-01-16 00:00:00+00:00  13:00:00   \n",
       "1  R-d57a78f5 2019-02-04 08:00:00+00:00 2019-02-04 00:00:00+00:00  08:00:00   \n",
       "2  R-d5b79907 2019-02-13 11:00:00+00:00 2019-02-13 00:00:00+00:00  11:00:00   \n",
       "3  R-c40e40a1 2019-01-08 14:00:00+00:00 2019-01-08 00:00:00+00:00  14:00:00   \n",
       "4  R-715ae3f6 2019-01-27 08:00:00+00:00 2019-01-27 00:00:00+00:00  08:00:00   \n",
       "\n",
       "   no_of_vehicles  accident  \n",
       "0          2439.0         0  \n",
       "1          1945.0         0  \n",
       "2          2164.0         0  \n",
       "3          2647.0         0  \n",
       "4          2158.0         0  "
      ]
     },
     "execution_count": 153,
     "metadata": {},
     "output_type": "execute_result"
    }
   ],
   "source": [
    "traffic_df.head(5)"
   ]
  },
  {
   "cell_type": "code",
   "execution_count": 154,
   "id": "bb0b84f9-f2b4-48ca-add5-963e15c54d45",
   "metadata": {},
   "outputs": [],
   "source": [
    "scheduled_traffic=hourly_exploded_scheduled_df.merge(traffic_df,on=['route_id','custom_date'],how='left')"
   ]
  },
  {
   "cell_type": "code",
   "execution_count": 155,
   "id": "0e2b46de-c053-4ab6-9381-5d75c63306d9",
   "metadata": {},
   "outputs": [
    {
     "data": {
      "text/html": [
       "<div>\n",
       "<style scoped>\n",
       "    .dataframe tbody tr th:only-of-type {\n",
       "        vertical-align: middle;\n",
       "    }\n",
       "\n",
       "    .dataframe tbody tr th {\n",
       "        vertical-align: top;\n",
       "    }\n",
       "\n",
       "    .dataframe thead th {\n",
       "        text-align: right;\n",
       "    }\n",
       "</style>\n",
       "<table border=\"1\" class=\"dataframe\">\n",
       "  <thead>\n",
       "    <tr style=\"text-align: right;\">\n",
       "      <th></th>\n",
       "      <th>unique_id</th>\n",
       "      <th>truck_id</th>\n",
       "      <th>route_id</th>\n",
       "      <th>departure_date</th>\n",
       "      <th>estimated_arrival</th>\n",
       "      <th>delay</th>\n",
       "      <th>custom_date</th>\n",
       "      <th>date</th>\n",
       "      <th>hour</th>\n",
       "      <th>no_of_vehicles</th>\n",
       "      <th>accident</th>\n",
       "    </tr>\n",
       "  </thead>\n",
       "  <tbody>\n",
       "    <tr>\n",
       "      <th>0</th>\n",
       "      <td>0</td>\n",
       "      <td>46115322</td>\n",
       "      <td>R-745d907e</td>\n",
       "      <td>2019-02-06 07:00:00+00:00</td>\n",
       "      <td>2019-02-06 14:00:00+00:00</td>\n",
       "      <td>1</td>\n",
       "      <td>2019-02-06 07:00:00+00:00</td>\n",
       "      <td>2019-02-06 00:00:00+00:00</td>\n",
       "      <td>07:00:00</td>\n",
       "      <td>2289.0</td>\n",
       "      <td>0</td>\n",
       "    </tr>\n",
       "    <tr>\n",
       "      <th>1</th>\n",
       "      <td>0</td>\n",
       "      <td>46115322</td>\n",
       "      <td>R-745d907e</td>\n",
       "      <td>2019-02-06 07:00:00+00:00</td>\n",
       "      <td>2019-02-06 14:00:00+00:00</td>\n",
       "      <td>1</td>\n",
       "      <td>2019-02-06 08:00:00+00:00</td>\n",
       "      <td>2019-02-06 00:00:00+00:00</td>\n",
       "      <td>08:00:00</td>\n",
       "      <td>2086.0</td>\n",
       "      <td>0</td>\n",
       "    </tr>\n",
       "    <tr>\n",
       "      <th>2</th>\n",
       "      <td>0</td>\n",
       "      <td>46115322</td>\n",
       "      <td>R-745d907e</td>\n",
       "      <td>2019-02-06 07:00:00+00:00</td>\n",
       "      <td>2019-02-06 14:00:00+00:00</td>\n",
       "      <td>1</td>\n",
       "      <td>2019-02-06 09:00:00+00:00</td>\n",
       "      <td>2019-02-06 00:00:00+00:00</td>\n",
       "      <td>09:00:00</td>\n",
       "      <td>2713.0</td>\n",
       "      <td>0</td>\n",
       "    </tr>\n",
       "    <tr>\n",
       "      <th>3</th>\n",
       "      <td>0</td>\n",
       "      <td>46115322</td>\n",
       "      <td>R-745d907e</td>\n",
       "      <td>2019-02-06 07:00:00+00:00</td>\n",
       "      <td>2019-02-06 14:00:00+00:00</td>\n",
       "      <td>1</td>\n",
       "      <td>2019-02-06 10:00:00+00:00</td>\n",
       "      <td>2019-02-06 00:00:00+00:00</td>\n",
       "      <td>10:00:00</td>\n",
       "      <td>2391.0</td>\n",
       "      <td>0</td>\n",
       "    </tr>\n",
       "  </tbody>\n",
       "</table>\n",
       "</div>"
      ],
      "text/plain": [
       "   unique_id  truck_id    route_id            departure_date  \\\n",
       "0          0  46115322  R-745d907e 2019-02-06 07:00:00+00:00   \n",
       "1          0  46115322  R-745d907e 2019-02-06 07:00:00+00:00   \n",
       "2          0  46115322  R-745d907e 2019-02-06 07:00:00+00:00   \n",
       "3          0  46115322  R-745d907e 2019-02-06 07:00:00+00:00   \n",
       "\n",
       "          estimated_arrival  delay                custom_date  \\\n",
       "0 2019-02-06 14:00:00+00:00      1  2019-02-06 07:00:00+00:00   \n",
       "1 2019-02-06 14:00:00+00:00      1  2019-02-06 08:00:00+00:00   \n",
       "2 2019-02-06 14:00:00+00:00      1  2019-02-06 09:00:00+00:00   \n",
       "3 2019-02-06 14:00:00+00:00      1  2019-02-06 10:00:00+00:00   \n",
       "\n",
       "                       date      hour  no_of_vehicles  accident  \n",
       "0 2019-02-06 00:00:00+00:00  07:00:00          2289.0         0  \n",
       "1 2019-02-06 00:00:00+00:00  08:00:00          2086.0         0  \n",
       "2 2019-02-06 00:00:00+00:00  09:00:00          2713.0         0  \n",
       "3 2019-02-06 00:00:00+00:00  10:00:00          2391.0         0  "
      ]
     },
     "execution_count": 155,
     "metadata": {},
     "output_type": "execute_result"
    }
   ],
   "source": [
    "scheduled_traffic.head(4)"
   ]
  },
  {
   "cell_type": "code",
   "execution_count": 156,
   "id": "ff1ad294-c994-47fc-a7f8-c058e7f4de22",
   "metadata": {},
   "outputs": [],
   "source": [
    "# Define a custom aggregation function for accidents\n",
    "def custom_agg(values):\n",
    "    if any(values == 1):\n",
    "        return 1\n",
    "    else:\n",
    "        return 0\n",
    "\n",
    "# Group by 'unique_id', 'truck_id', and 'route_id', and apply custom aggregation\n",
    "scheduled_route_traffic = scheduled_traffic.groupby(['unique_id', 'truck_id', 'route_id'], as_index=False).agg(\n",
    "    avg_no_of_vehicles=('no_of_vehicles', 'mean'),\n",
    "    accident=('accident', custom_agg)\n",
    ")"
   ]
  },
  {
   "cell_type": "code",
   "execution_count": 157,
   "id": "e335686b-5cf1-4e1a-9d07-5cfb70cd1f24",
   "metadata": {},
   "outputs": [
    {
     "data": {
      "text/html": [
       "<div>\n",
       "<style scoped>\n",
       "    .dataframe tbody tr th:only-of-type {\n",
       "        vertical-align: middle;\n",
       "    }\n",
       "\n",
       "    .dataframe tbody tr th {\n",
       "        vertical-align: top;\n",
       "    }\n",
       "\n",
       "    .dataframe thead th {\n",
       "        text-align: right;\n",
       "    }\n",
       "</style>\n",
       "<table border=\"1\" class=\"dataframe\">\n",
       "  <thead>\n",
       "    <tr style=\"text-align: right;\">\n",
       "      <th></th>\n",
       "      <th>unique_id</th>\n",
       "      <th>truck_id</th>\n",
       "      <th>route_id</th>\n",
       "      <th>avg_no_of_vehicles</th>\n",
       "      <th>accident</th>\n",
       "    </tr>\n",
       "  </thead>\n",
       "  <tbody>\n",
       "    <tr>\n",
       "      <th>0</th>\n",
       "      <td>0</td>\n",
       "      <td>46115322</td>\n",
       "      <td>R-745d907e</td>\n",
       "      <td>2326.750000</td>\n",
       "      <td>0</td>\n",
       "    </tr>\n",
       "    <tr>\n",
       "      <th>1</th>\n",
       "      <td>1</td>\n",
       "      <td>27261804</td>\n",
       "      <td>R-e77d76f2</td>\n",
       "      <td>2255.307692</td>\n",
       "      <td>0</td>\n",
       "    </tr>\n",
       "    <tr>\n",
       "      <th>2</th>\n",
       "      <td>2</td>\n",
       "      <td>28753771</td>\n",
       "      <td>R-965a0754</td>\n",
       "      <td>2286.900000</td>\n",
       "      <td>0</td>\n",
       "    </tr>\n",
       "    <tr>\n",
       "      <th>3</th>\n",
       "      <td>3</td>\n",
       "      <td>33976838</td>\n",
       "      <td>R-20e75c65</td>\n",
       "      <td>1790.745098</td>\n",
       "      <td>1</td>\n",
       "    </tr>\n",
       "    <tr>\n",
       "      <th>4</th>\n",
       "      <td>4</td>\n",
       "      <td>12515055</td>\n",
       "      <td>R-967f065a</td>\n",
       "      <td>2113.500000</td>\n",
       "      <td>0</td>\n",
       "    </tr>\n",
       "  </tbody>\n",
       "</table>\n",
       "</div>"
      ],
      "text/plain": [
       "   unique_id  truck_id    route_id  avg_no_of_vehicles  accident\n",
       "0          0  46115322  R-745d907e         2326.750000         0\n",
       "1          1  27261804  R-e77d76f2         2255.307692         0\n",
       "2          2  28753771  R-965a0754         2286.900000         0\n",
       "3          3  33976838  R-20e75c65         1790.745098         1\n",
       "4          4  12515055  R-967f065a         2113.500000         0"
      ]
     },
     "execution_count": 157,
     "metadata": {},
     "output_type": "execute_result"
    }
   ],
   "source": [
    "scheduled_route_traffic.head(5)"
   ]
  },
  {
   "cell_type": "markdown",
   "id": "c0952ffa-feaf-4b23-bda1-84bbddb4393c",
   "metadata": {},
   "source": [
    "### Merge all dataframes "
   ]
  },
  {
   "cell_type": "code",
   "execution_count": 158,
   "id": "9e6bd7e8-e723-4cc3-9ea1-d2f94a91d9b5",
   "metadata": {},
   "outputs": [],
   "source": [
    "origin_destination_weather_traffic_merge=origin_destination_weather.merge(\n",
    "    scheduled_route_traffic,on=['unique_id','truck_id','route_id'],how='left')\n"
   ]
  },
  {
   "cell_type": "code",
   "execution_count": 159,
   "id": "f738579a-2501-4e29-801f-61131fa8feaa",
   "metadata": {},
   "outputs": [
    {
     "data": {
      "text/html": [
       "<div>\n",
       "<style scoped>\n",
       "    .dataframe tbody tr th:only-of-type {\n",
       "        vertical-align: middle;\n",
       "    }\n",
       "\n",
       "    .dataframe tbody tr th {\n",
       "        vertical-align: top;\n",
       "    }\n",
       "\n",
       "    .dataframe thead th {\n",
       "        text-align: right;\n",
       "    }\n",
       "</style>\n",
       "<table border=\"1\" class=\"dataframe\">\n",
       "  <thead>\n",
       "    <tr style=\"text-align: right;\">\n",
       "      <th></th>\n",
       "      <th>unique_id</th>\n",
       "      <th>truck_id</th>\n",
       "      <th>route_id</th>\n",
       "      <th>departure_date</th>\n",
       "      <th>estimated_arrival</th>\n",
       "      <th>delay</th>\n",
       "      <th>estimated_arrival_nearest_hour</th>\n",
       "      <th>departure_date_nearest_hour</th>\n",
       "      <th>origin_id</th>\n",
       "      <th>destination_id</th>\n",
       "      <th>distance</th>\n",
       "      <th>average_hours</th>\n",
       "      <th>origin_temp</th>\n",
       "      <th>origin_wind_speed</th>\n",
       "      <th>origin_description</th>\n",
       "      <th>origin_precip</th>\n",
       "      <th>origin_humidity</th>\n",
       "      <th>origin_visibility</th>\n",
       "      <th>origin_pressure</th>\n",
       "      <th>destination_temp</th>\n",
       "      <th>destination_wind_speed</th>\n",
       "      <th>destination_description</th>\n",
       "      <th>destination_precip</th>\n",
       "      <th>destination_humidity</th>\n",
       "      <th>destination_visibility</th>\n",
       "      <th>destination_pressure</th>\n",
       "      <th>avg_no_of_vehicles</th>\n",
       "      <th>accident</th>\n",
       "    </tr>\n",
       "  </thead>\n",
       "  <tbody>\n",
       "    <tr>\n",
       "      <th>0</th>\n",
       "      <td>0</td>\n",
       "      <td>46115322</td>\n",
       "      <td>R-745d907e</td>\n",
       "      <td>2019-02-06 07:00:00+00:00</td>\n",
       "      <td>2019-02-06 14:29:24+00:00</td>\n",
       "      <td>1</td>\n",
       "      <td>2019-02-06 14:00:00+00:00</td>\n",
       "      <td>2019-02-06 07:00:00+00:00</td>\n",
       "      <td>C-ff8c0c3c</td>\n",
       "      <td>C-7212cebe</td>\n",
       "      <td>374.28</td>\n",
       "      <td>7.49</td>\n",
       "      <td>23.0</td>\n",
       "      <td>6.0</td>\n",
       "      <td>Partly cloudy</td>\n",
       "      <td>0.0</td>\n",
       "      <td>53.0</td>\n",
       "      <td>6.0</td>\n",
       "      <td>1017.0</td>\n",
       "      <td>23.0</td>\n",
       "      <td>7.0</td>\n",
       "      <td>Light snow</td>\n",
       "      <td>0.0</td>\n",
       "      <td>92</td>\n",
       "      <td>6.0</td>\n",
       "      <td>1018.0</td>\n",
       "      <td>2326.750000</td>\n",
       "      <td>0</td>\n",
       "    </tr>\n",
       "    <tr>\n",
       "      <th>1</th>\n",
       "      <td>0</td>\n",
       "      <td>46115322</td>\n",
       "      <td>R-745d907e</td>\n",
       "      <td>2019-02-06 07:00:00+00:00</td>\n",
       "      <td>2019-02-06 14:29:24+00:00</td>\n",
       "      <td>1</td>\n",
       "      <td>2019-02-06 14:00:00+00:00</td>\n",
       "      <td>2019-02-06 07:00:00+00:00</td>\n",
       "      <td>C-ff8c0c3c</td>\n",
       "      <td>C-7212cebe</td>\n",
       "      <td>374.28</td>\n",
       "      <td>7.49</td>\n",
       "      <td>23.0</td>\n",
       "      <td>6.0</td>\n",
       "      <td>Partly cloudy</td>\n",
       "      <td>0.0</td>\n",
       "      <td>53.0</td>\n",
       "      <td>6.0</td>\n",
       "      <td>1017.0</td>\n",
       "      <td>23.0</td>\n",
       "      <td>7.0</td>\n",
       "      <td>Light snow</td>\n",
       "      <td>0.0</td>\n",
       "      <td>92</td>\n",
       "      <td>6.0</td>\n",
       "      <td>1018.0</td>\n",
       "      <td>2326.750000</td>\n",
       "      <td>0</td>\n",
       "    </tr>\n",
       "    <tr>\n",
       "      <th>2</th>\n",
       "      <td>1</td>\n",
       "      <td>27261804</td>\n",
       "      <td>R-e77d76f2</td>\n",
       "      <td>2019-01-10 07:00:00+00:00</td>\n",
       "      <td>2019-01-10 19:27:36+00:00</td>\n",
       "      <td>0</td>\n",
       "      <td>2019-01-10 19:00:00+00:00</td>\n",
       "      <td>2019-01-10 07:00:00+00:00</td>\n",
       "      <td>C-40a81eb1</td>\n",
       "      <td>C-280b55fb</td>\n",
       "      <td>622.76</td>\n",
       "      <td>12.46</td>\n",
       "      <td>32.0</td>\n",
       "      <td>8.0</td>\n",
       "      <td>Overcast</td>\n",
       "      <td>0.0</td>\n",
       "      <td>63.0</td>\n",
       "      <td>6.0</td>\n",
       "      <td>999.0</td>\n",
       "      <td>23.0</td>\n",
       "      <td>6.0</td>\n",
       "      <td>Cloudy</td>\n",
       "      <td>0.0</td>\n",
       "      <td>69</td>\n",
       "      <td>6.0</td>\n",
       "      <td>1028.0</td>\n",
       "      <td>2255.307692</td>\n",
       "      <td>0</td>\n",
       "    </tr>\n",
       "    <tr>\n",
       "      <th>3</th>\n",
       "      <td>1</td>\n",
       "      <td>27261804</td>\n",
       "      <td>R-e77d76f2</td>\n",
       "      <td>2019-01-10 07:00:00+00:00</td>\n",
       "      <td>2019-01-10 19:27:36+00:00</td>\n",
       "      <td>0</td>\n",
       "      <td>2019-01-10 19:00:00+00:00</td>\n",
       "      <td>2019-01-10 07:00:00+00:00</td>\n",
       "      <td>C-40a81eb1</td>\n",
       "      <td>C-280b55fb</td>\n",
       "      <td>622.76</td>\n",
       "      <td>12.46</td>\n",
       "      <td>32.0</td>\n",
       "      <td>8.0</td>\n",
       "      <td>Overcast</td>\n",
       "      <td>0.0</td>\n",
       "      <td>63.0</td>\n",
       "      <td>6.0</td>\n",
       "      <td>999.0</td>\n",
       "      <td>23.0</td>\n",
       "      <td>6.0</td>\n",
       "      <td>Cloudy</td>\n",
       "      <td>0.0</td>\n",
       "      <td>69</td>\n",
       "      <td>6.0</td>\n",
       "      <td>1028.0</td>\n",
       "      <td>2255.307692</td>\n",
       "      <td>0</td>\n",
       "    </tr>\n",
       "  </tbody>\n",
       "</table>\n",
       "</div>"
      ],
      "text/plain": [
       "   unique_id  truck_id    route_id            departure_date  \\\n",
       "0          0  46115322  R-745d907e 2019-02-06 07:00:00+00:00   \n",
       "1          0  46115322  R-745d907e 2019-02-06 07:00:00+00:00   \n",
       "2          1  27261804  R-e77d76f2 2019-01-10 07:00:00+00:00   \n",
       "3          1  27261804  R-e77d76f2 2019-01-10 07:00:00+00:00   \n",
       "\n",
       "          estimated_arrival  delay estimated_arrival_nearest_hour  \\\n",
       "0 2019-02-06 14:29:24+00:00      1      2019-02-06 14:00:00+00:00   \n",
       "1 2019-02-06 14:29:24+00:00      1      2019-02-06 14:00:00+00:00   \n",
       "2 2019-01-10 19:27:36+00:00      0      2019-01-10 19:00:00+00:00   \n",
       "3 2019-01-10 19:27:36+00:00      0      2019-01-10 19:00:00+00:00   \n",
       "\n",
       "  departure_date_nearest_hour   origin_id destination_id  distance  \\\n",
       "0   2019-02-06 07:00:00+00:00  C-ff8c0c3c     C-7212cebe    374.28   \n",
       "1   2019-02-06 07:00:00+00:00  C-ff8c0c3c     C-7212cebe    374.28   \n",
       "2   2019-01-10 07:00:00+00:00  C-40a81eb1     C-280b55fb    622.76   \n",
       "3   2019-01-10 07:00:00+00:00  C-40a81eb1     C-280b55fb    622.76   \n",
       "\n",
       "   average_hours  origin_temp  origin_wind_speed origin_description  \\\n",
       "0           7.49         23.0                6.0      Partly cloudy   \n",
       "1           7.49         23.0                6.0      Partly cloudy   \n",
       "2          12.46         32.0                8.0           Overcast   \n",
       "3          12.46         32.0                8.0           Overcast   \n",
       "\n",
       "   origin_precip  origin_humidity  origin_visibility  origin_pressure  \\\n",
       "0            0.0             53.0                6.0           1017.0   \n",
       "1            0.0             53.0                6.0           1017.0   \n",
       "2            0.0             63.0                6.0            999.0   \n",
       "3            0.0             63.0                6.0            999.0   \n",
       "\n",
       "   destination_temp  destination_wind_speed destination_description  \\\n",
       "0              23.0                     7.0              Light snow   \n",
       "1              23.0                     7.0              Light snow   \n",
       "2              23.0                     6.0                  Cloudy   \n",
       "3              23.0                     6.0                  Cloudy   \n",
       "\n",
       "   destination_precip  destination_humidity  destination_visibility  \\\n",
       "0                 0.0                    92                     6.0   \n",
       "1                 0.0                    92                     6.0   \n",
       "2                 0.0                    69                     6.0   \n",
       "3                 0.0                    69                     6.0   \n",
       "\n",
       "   destination_pressure  avg_no_of_vehicles  accident  \n",
       "0                1018.0         2326.750000         0  \n",
       "1                1018.0         2326.750000         0  \n",
       "2                1028.0         2255.307692         0  \n",
       "3                1028.0         2255.307692         0  "
      ]
     },
     "execution_count": 159,
     "metadata": {},
     "output_type": "execute_result"
    }
   ],
   "source": [
    "origin_destination_weather_traffic_merge.head(4)"
   ]
  },
  {
   "cell_type": "code",
   "execution_count": 160,
   "id": "6c40cb6d-6658-4c58-8423-49f42ea0ab9e",
   "metadata": {},
   "outputs": [],
   "source": [
    "# Convert the date columns to datetime objects\n",
    "\n",
    "origin_destination_weather_traffic_merge['departure_date']=pd.to_datetime(\n",
    "    origin_destination_weather_traffic_merge['departure_date'])\n",
    "\n",
    "origin_destination_weather_traffic_merge['estimated_arrival']=pd.to_datetime(\n",
    "    origin_destination_weather_traffic_merge['estimated_arrival'])"
   ]
  },
  {
   "cell_type": "code",
   "execution_count": 161,
   "id": "feb7f081-c839-4fca-ab28-148192d806df",
   "metadata": {},
   "outputs": [
    {
     "data": {
      "text/plain": [
       "Index(['unique_id', 'truck_id', 'route_id', 'departure_date',\n",
       "       'estimated_arrival', 'delay'],\n",
       "      dtype='object')"
      ]
     },
     "execution_count": 161,
     "metadata": {},
     "output_type": "execute_result"
    }
   ],
   "source": [
    "# Find the common columns between schedule_weather_merge and origin_destination_weather_traffic_merge\n",
    "\n",
    "schedule_weather_merge.columns.intersection(origin_destination_weather_traffic_merge.columns)"
   ]
  },
  {
   "cell_type": "code",
   "execution_count": 162,
   "id": "c5fb3c42-ccec-4540-b289-e1cfd1576e29",
   "metadata": {},
   "outputs": [],
   "source": [
    "#merge the dataframes on the common columns \n",
    "\n",
    "merged_data_weather_traffic=pd.merge(schedule_weather_merge, origin_destination_weather_traffic_merge, on=['unique_id', 'truck_id', 'route_id', 'departure_date',\n",
    "       'estimated_arrival', 'delay'], how='left')"
   ]
  },
  {
   "cell_type": "code",
   "execution_count": 163,
   "id": "7af23363-6cca-4a9d-9233-385b48b7af0b",
   "metadata": {},
   "outputs": [],
   "source": [
    "# merge merged data with truck data\n",
    "merged_data_weather_traffic_trucks = pd.merge(merged_data_weather_traffic, trucks_df, on='truck_id', how='left')\n",
    "\n",
    "# merge above merged data with drivers df\n",
    "final_merge = pd.merge(merged_data_weather_traffic_trucks, drivers_df, left_on='truck_id', right_on = 'vehicle_no', how='left')"
   ]
  },
  {
   "cell_type": "code",
   "execution_count": 164,
   "id": "7992849e-a8b4-48fd-a6d2-337a24331430",
   "metadata": {},
   "outputs": [
    {
     "data": {
      "text/plain": [
       "(49232, 48)"
      ]
     },
     "execution_count": 164,
     "metadata": {},
     "output_type": "execute_result"
    }
   ],
   "source": [
    "final_merge.shape"
   ]
  },
  {
   "cell_type": "code",
   "execution_count": 165,
   "id": "8081a3c6-169e-4668-be55-76e9bb1fbacd",
   "metadata": {},
   "outputs": [
    {
     "data": {
      "text/html": [
       "<div>\n",
       "<style scoped>\n",
       "    .dataframe tbody tr th:only-of-type {\n",
       "        vertical-align: middle;\n",
       "    }\n",
       "\n",
       "    .dataframe tbody tr th {\n",
       "        vertical-align: top;\n",
       "    }\n",
       "\n",
       "    .dataframe thead th {\n",
       "        text-align: right;\n",
       "    }\n",
       "</style>\n",
       "<table border=\"1\" class=\"dataframe\">\n",
       "  <thead>\n",
       "    <tr style=\"text-align: right;\">\n",
       "      <th></th>\n",
       "      <th>unique_id</th>\n",
       "      <th>truck_id</th>\n",
       "      <th>route_id</th>\n",
       "      <th>departure_date</th>\n",
       "      <th>estimated_arrival</th>\n",
       "      <th>delay</th>\n",
       "      <th>mean_temp</th>\n",
       "      <th>mean_wind_speed</th>\n",
       "      <th>mean_precip</th>\n",
       "      <th>mean_humidity</th>\n",
       "      <th>mean_visibility</th>\n",
       "      <th>mean_pressure</th>\n",
       "      <th>route_description</th>\n",
       "      <th>estimated_arrival_nearest_hour</th>\n",
       "      <th>departure_date_nearest_hour</th>\n",
       "      <th>origin_id</th>\n",
       "      <th>destination_id</th>\n",
       "      <th>distance</th>\n",
       "      <th>average_hours</th>\n",
       "      <th>origin_temp</th>\n",
       "      <th>origin_wind_speed</th>\n",
       "      <th>origin_description</th>\n",
       "      <th>origin_precip</th>\n",
       "      <th>origin_humidity</th>\n",
       "      <th>origin_visibility</th>\n",
       "      <th>origin_pressure</th>\n",
       "      <th>destination_temp</th>\n",
       "      <th>destination_wind_speed</th>\n",
       "      <th>destination_description</th>\n",
       "      <th>destination_precip</th>\n",
       "      <th>destination_humidity</th>\n",
       "      <th>destination_visibility</th>\n",
       "      <th>destination_pressure</th>\n",
       "      <th>avg_no_of_vehicles</th>\n",
       "      <th>accident</th>\n",
       "      <th>truck_age</th>\n",
       "      <th>load_capacity_pounds</th>\n",
       "      <th>mileage_mpg</th>\n",
       "      <th>fuel_type</th>\n",
       "      <th>driver_id</th>\n",
       "      <th>name</th>\n",
       "      <th>gender</th>\n",
       "      <th>age</th>\n",
       "      <th>experience</th>\n",
       "      <th>driving_style</th>\n",
       "      <th>ratings</th>\n",
       "      <th>vehicle_no</th>\n",
       "      <th>average_speed_mph</th>\n",
       "    </tr>\n",
       "  </thead>\n",
       "  <tbody>\n",
       "    <tr>\n",
       "      <th>0</th>\n",
       "      <td>0</td>\n",
       "      <td>46115322</td>\n",
       "      <td>R-745d907e</td>\n",
       "      <td>2019-02-06 07:00:00+00:00</td>\n",
       "      <td>2019-02-06 14:29:24+00:00</td>\n",
       "      <td>1</td>\n",
       "      <td>76.333333</td>\n",
       "      <td>9.666667</td>\n",
       "      <td>0.0</td>\n",
       "      <td>31.333333</td>\n",
       "      <td>6.0</td>\n",
       "      <td>1012.00</td>\n",
       "      <td>Clear</td>\n",
       "      <td>2019-02-06 14:00:00+00:00</td>\n",
       "      <td>2019-02-06 07:00:00+00:00</td>\n",
       "      <td>C-ff8c0c3c</td>\n",
       "      <td>C-7212cebe</td>\n",
       "      <td>374.28</td>\n",
       "      <td>7.49</td>\n",
       "      <td>23.0</td>\n",
       "      <td>6.0</td>\n",
       "      <td>Partly cloudy</td>\n",
       "      <td>0.0</td>\n",
       "      <td>53.0</td>\n",
       "      <td>6.0</td>\n",
       "      <td>1017.0</td>\n",
       "      <td>23.0</td>\n",
       "      <td>7.0</td>\n",
       "      <td>Light snow</td>\n",
       "      <td>0.0</td>\n",
       "      <td>92</td>\n",
       "      <td>6.0</td>\n",
       "      <td>1018.0</td>\n",
       "      <td>2326.750000</td>\n",
       "      <td>0</td>\n",
       "      <td>12</td>\n",
       "      <td>10000.0</td>\n",
       "      <td>20</td>\n",
       "      <td>gas</td>\n",
       "      <td>5f313de1-7</td>\n",
       "      <td>Raymond Larson</td>\n",
       "      <td>male</td>\n",
       "      <td>47</td>\n",
       "      <td>13</td>\n",
       "      <td>conservative</td>\n",
       "      <td>6</td>\n",
       "      <td>46115322</td>\n",
       "      <td>47.14</td>\n",
       "    </tr>\n",
       "    <tr>\n",
       "      <th>1</th>\n",
       "      <td>0</td>\n",
       "      <td>46115322</td>\n",
       "      <td>R-745d907e</td>\n",
       "      <td>2019-02-06 07:00:00+00:00</td>\n",
       "      <td>2019-02-06 14:29:24+00:00</td>\n",
       "      <td>1</td>\n",
       "      <td>76.333333</td>\n",
       "      <td>9.666667</td>\n",
       "      <td>0.0</td>\n",
       "      <td>31.333333</td>\n",
       "      <td>6.0</td>\n",
       "      <td>1012.00</td>\n",
       "      <td>Clear</td>\n",
       "      <td>2019-02-06 14:00:00+00:00</td>\n",
       "      <td>2019-02-06 07:00:00+00:00</td>\n",
       "      <td>C-ff8c0c3c</td>\n",
       "      <td>C-7212cebe</td>\n",
       "      <td>374.28</td>\n",
       "      <td>7.49</td>\n",
       "      <td>23.0</td>\n",
       "      <td>6.0</td>\n",
       "      <td>Partly cloudy</td>\n",
       "      <td>0.0</td>\n",
       "      <td>53.0</td>\n",
       "      <td>6.0</td>\n",
       "      <td>1017.0</td>\n",
       "      <td>23.0</td>\n",
       "      <td>7.0</td>\n",
       "      <td>Light snow</td>\n",
       "      <td>0.0</td>\n",
       "      <td>92</td>\n",
       "      <td>6.0</td>\n",
       "      <td>1018.0</td>\n",
       "      <td>2326.750000</td>\n",
       "      <td>0</td>\n",
       "      <td>12</td>\n",
       "      <td>10000.0</td>\n",
       "      <td>20</td>\n",
       "      <td>gas</td>\n",
       "      <td>5f313de1-7</td>\n",
       "      <td>Raymond Larson</td>\n",
       "      <td>male</td>\n",
       "      <td>47</td>\n",
       "      <td>13</td>\n",
       "      <td>conservative</td>\n",
       "      <td>6</td>\n",
       "      <td>46115322</td>\n",
       "      <td>47.14</td>\n",
       "    </tr>\n",
       "    <tr>\n",
       "      <th>2</th>\n",
       "      <td>0</td>\n",
       "      <td>46115322</td>\n",
       "      <td>R-745d907e</td>\n",
       "      <td>2019-02-06 07:00:00+00:00</td>\n",
       "      <td>2019-02-06 14:29:24+00:00</td>\n",
       "      <td>1</td>\n",
       "      <td>76.333333</td>\n",
       "      <td>9.666667</td>\n",
       "      <td>0.0</td>\n",
       "      <td>31.333333</td>\n",
       "      <td>6.0</td>\n",
       "      <td>1012.00</td>\n",
       "      <td>Clear</td>\n",
       "      <td>2019-02-06 14:00:00+00:00</td>\n",
       "      <td>2019-02-06 07:00:00+00:00</td>\n",
       "      <td>C-ff8c0c3c</td>\n",
       "      <td>C-7212cebe</td>\n",
       "      <td>374.28</td>\n",
       "      <td>7.49</td>\n",
       "      <td>23.0</td>\n",
       "      <td>6.0</td>\n",
       "      <td>Partly cloudy</td>\n",
       "      <td>0.0</td>\n",
       "      <td>53.0</td>\n",
       "      <td>6.0</td>\n",
       "      <td>1017.0</td>\n",
       "      <td>23.0</td>\n",
       "      <td>7.0</td>\n",
       "      <td>Light snow</td>\n",
       "      <td>0.0</td>\n",
       "      <td>92</td>\n",
       "      <td>6.0</td>\n",
       "      <td>1018.0</td>\n",
       "      <td>2326.750000</td>\n",
       "      <td>0</td>\n",
       "      <td>12</td>\n",
       "      <td>10000.0</td>\n",
       "      <td>20</td>\n",
       "      <td>gas</td>\n",
       "      <td>5f313de1-7</td>\n",
       "      <td>Raymond Larson</td>\n",
       "      <td>male</td>\n",
       "      <td>47</td>\n",
       "      <td>13</td>\n",
       "      <td>conservative</td>\n",
       "      <td>6</td>\n",
       "      <td>46115322</td>\n",
       "      <td>47.14</td>\n",
       "    </tr>\n",
       "    <tr>\n",
       "      <th>3</th>\n",
       "      <td>0</td>\n",
       "      <td>46115322</td>\n",
       "      <td>R-745d907e</td>\n",
       "      <td>2019-02-06 07:00:00+00:00</td>\n",
       "      <td>2019-02-06 14:29:24+00:00</td>\n",
       "      <td>1</td>\n",
       "      <td>76.333333</td>\n",
       "      <td>9.666667</td>\n",
       "      <td>0.0</td>\n",
       "      <td>31.333333</td>\n",
       "      <td>6.0</td>\n",
       "      <td>1012.00</td>\n",
       "      <td>Clear</td>\n",
       "      <td>2019-02-06 14:00:00+00:00</td>\n",
       "      <td>2019-02-06 07:00:00+00:00</td>\n",
       "      <td>C-ff8c0c3c</td>\n",
       "      <td>C-7212cebe</td>\n",
       "      <td>374.28</td>\n",
       "      <td>7.49</td>\n",
       "      <td>23.0</td>\n",
       "      <td>6.0</td>\n",
       "      <td>Partly cloudy</td>\n",
       "      <td>0.0</td>\n",
       "      <td>53.0</td>\n",
       "      <td>6.0</td>\n",
       "      <td>1017.0</td>\n",
       "      <td>23.0</td>\n",
       "      <td>7.0</td>\n",
       "      <td>Light snow</td>\n",
       "      <td>0.0</td>\n",
       "      <td>92</td>\n",
       "      <td>6.0</td>\n",
       "      <td>1018.0</td>\n",
       "      <td>2326.750000</td>\n",
       "      <td>0</td>\n",
       "      <td>12</td>\n",
       "      <td>10000.0</td>\n",
       "      <td>20</td>\n",
       "      <td>gas</td>\n",
       "      <td>5f313de1-7</td>\n",
       "      <td>Raymond Larson</td>\n",
       "      <td>male</td>\n",
       "      <td>47</td>\n",
       "      <td>13</td>\n",
       "      <td>conservative</td>\n",
       "      <td>6</td>\n",
       "      <td>46115322</td>\n",
       "      <td>47.14</td>\n",
       "    </tr>\n",
       "    <tr>\n",
       "      <th>4</th>\n",
       "      <td>1</td>\n",
       "      <td>27261804</td>\n",
       "      <td>R-e77d76f2</td>\n",
       "      <td>2019-01-10 07:00:00+00:00</td>\n",
       "      <td>2019-01-10 19:27:36+00:00</td>\n",
       "      <td>0</td>\n",
       "      <td>48.250000</td>\n",
       "      <td>7.000000</td>\n",
       "      <td>0.0</td>\n",
       "      <td>78.250000</td>\n",
       "      <td>1.5</td>\n",
       "      <td>1023.25</td>\n",
       "      <td>Light drizzle</td>\n",
       "      <td>2019-01-10 19:00:00+00:00</td>\n",
       "      <td>2019-01-10 07:00:00+00:00</td>\n",
       "      <td>C-40a81eb1</td>\n",
       "      <td>C-280b55fb</td>\n",
       "      <td>622.76</td>\n",
       "      <td>12.46</td>\n",
       "      <td>32.0</td>\n",
       "      <td>8.0</td>\n",
       "      <td>Overcast</td>\n",
       "      <td>0.0</td>\n",
       "      <td>63.0</td>\n",
       "      <td>6.0</td>\n",
       "      <td>999.0</td>\n",
       "      <td>23.0</td>\n",
       "      <td>6.0</td>\n",
       "      <td>Cloudy</td>\n",
       "      <td>0.0</td>\n",
       "      <td>69</td>\n",
       "      <td>6.0</td>\n",
       "      <td>1028.0</td>\n",
       "      <td>2255.307692</td>\n",
       "      <td>0</td>\n",
       "      <td>5</td>\n",
       "      <td>4000.0</td>\n",
       "      <td>18</td>\n",
       "      <td>gas</td>\n",
       "      <td>ce6e82b7-6</td>\n",
       "      <td>Nicholas Montgomery</td>\n",
       "      <td>male</td>\n",
       "      <td>48</td>\n",
       "      <td>15</td>\n",
       "      <td>proactive</td>\n",
       "      <td>6</td>\n",
       "      <td>27261804</td>\n",
       "      <td>62.00</td>\n",
       "    </tr>\n",
       "  </tbody>\n",
       "</table>\n",
       "</div>"
      ],
      "text/plain": [
       "   unique_id  truck_id    route_id            departure_date  \\\n",
       "0          0  46115322  R-745d907e 2019-02-06 07:00:00+00:00   \n",
       "1          0  46115322  R-745d907e 2019-02-06 07:00:00+00:00   \n",
       "2          0  46115322  R-745d907e 2019-02-06 07:00:00+00:00   \n",
       "3          0  46115322  R-745d907e 2019-02-06 07:00:00+00:00   \n",
       "4          1  27261804  R-e77d76f2 2019-01-10 07:00:00+00:00   \n",
       "\n",
       "          estimated_arrival  delay  mean_temp  mean_wind_speed  mean_precip  \\\n",
       "0 2019-02-06 14:29:24+00:00      1  76.333333         9.666667          0.0   \n",
       "1 2019-02-06 14:29:24+00:00      1  76.333333         9.666667          0.0   \n",
       "2 2019-02-06 14:29:24+00:00      1  76.333333         9.666667          0.0   \n",
       "3 2019-02-06 14:29:24+00:00      1  76.333333         9.666667          0.0   \n",
       "4 2019-01-10 19:27:36+00:00      0  48.250000         7.000000          0.0   \n",
       "\n",
       "   mean_humidity  mean_visibility  mean_pressure route_description  \\\n",
       "0      31.333333              6.0        1012.00             Clear   \n",
       "1      31.333333              6.0        1012.00             Clear   \n",
       "2      31.333333              6.0        1012.00             Clear   \n",
       "3      31.333333              6.0        1012.00             Clear   \n",
       "4      78.250000              1.5        1023.25     Light drizzle   \n",
       "\n",
       "  estimated_arrival_nearest_hour departure_date_nearest_hour   origin_id  \\\n",
       "0      2019-02-06 14:00:00+00:00   2019-02-06 07:00:00+00:00  C-ff8c0c3c   \n",
       "1      2019-02-06 14:00:00+00:00   2019-02-06 07:00:00+00:00  C-ff8c0c3c   \n",
       "2      2019-02-06 14:00:00+00:00   2019-02-06 07:00:00+00:00  C-ff8c0c3c   \n",
       "3      2019-02-06 14:00:00+00:00   2019-02-06 07:00:00+00:00  C-ff8c0c3c   \n",
       "4      2019-01-10 19:00:00+00:00   2019-01-10 07:00:00+00:00  C-40a81eb1   \n",
       "\n",
       "  destination_id  distance  average_hours  origin_temp  origin_wind_speed  \\\n",
       "0     C-7212cebe    374.28           7.49         23.0                6.0   \n",
       "1     C-7212cebe    374.28           7.49         23.0                6.0   \n",
       "2     C-7212cebe    374.28           7.49         23.0                6.0   \n",
       "3     C-7212cebe    374.28           7.49         23.0                6.0   \n",
       "4     C-280b55fb    622.76          12.46         32.0                8.0   \n",
       "\n",
       "  origin_description  origin_precip  origin_humidity  origin_visibility  \\\n",
       "0      Partly cloudy            0.0             53.0                6.0   \n",
       "1      Partly cloudy            0.0             53.0                6.0   \n",
       "2      Partly cloudy            0.0             53.0                6.0   \n",
       "3      Partly cloudy            0.0             53.0                6.0   \n",
       "4           Overcast            0.0             63.0                6.0   \n",
       "\n",
       "   origin_pressure  destination_temp  destination_wind_speed  \\\n",
       "0           1017.0              23.0                     7.0   \n",
       "1           1017.0              23.0                     7.0   \n",
       "2           1017.0              23.0                     7.0   \n",
       "3           1017.0              23.0                     7.0   \n",
       "4            999.0              23.0                     6.0   \n",
       "\n",
       "  destination_description  destination_precip  destination_humidity  \\\n",
       "0              Light snow                 0.0                    92   \n",
       "1              Light snow                 0.0                    92   \n",
       "2              Light snow                 0.0                    92   \n",
       "3              Light snow                 0.0                    92   \n",
       "4                  Cloudy                 0.0                    69   \n",
       "\n",
       "   destination_visibility  destination_pressure  avg_no_of_vehicles  accident  \\\n",
       "0                     6.0                1018.0         2326.750000         0   \n",
       "1                     6.0                1018.0         2326.750000         0   \n",
       "2                     6.0                1018.0         2326.750000         0   \n",
       "3                     6.0                1018.0         2326.750000         0   \n",
       "4                     6.0                1028.0         2255.307692         0   \n",
       "\n",
       "   truck_age  load_capacity_pounds  mileage_mpg fuel_type   driver_id  \\\n",
       "0         12               10000.0           20       gas  5f313de1-7   \n",
       "1         12               10000.0           20       gas  5f313de1-7   \n",
       "2         12               10000.0           20       gas  5f313de1-7   \n",
       "3         12               10000.0           20       gas  5f313de1-7   \n",
       "4          5                4000.0           18       gas  ce6e82b7-6   \n",
       "\n",
       "                  name gender  age  experience driving_style  ratings  \\\n",
       "0       Raymond Larson   male   47          13  conservative        6   \n",
       "1       Raymond Larson   male   47          13  conservative        6   \n",
       "2       Raymond Larson   male   47          13  conservative        6   \n",
       "3       Raymond Larson   male   47          13  conservative        6   \n",
       "4  Nicholas Montgomery   male   48          15     proactive        6   \n",
       "\n",
       "   vehicle_no  average_speed_mph  \n",
       "0    46115322              47.14  \n",
       "1    46115322              47.14  \n",
       "2    46115322              47.14  \n",
       "3    46115322              47.14  \n",
       "4    27261804              62.00  "
      ]
     },
     "execution_count": 165,
     "metadata": {},
     "output_type": "execute_result"
    }
   ],
   "source": [
    "final_merge.head(5)"
   ]
  },
  {
   "cell_type": "markdown",
   "id": "95987b91-03fc-495c-9fcc-a724ae8f04be",
   "metadata": {},
   "source": [
    "## Feature Store for final dataframe "
   ]
  },
  {
   "cell_type": "code",
   "execution_count": 166,
   "id": "f8c7398e-07eb-40ef-aa89-005244cd00bc",
   "metadata": {},
   "outputs": [],
   "source": [
    "fs_data = final_merge.sort_values([\"estimated_arrival\",\"unique_id\"])"
   ]
  },
  {
   "cell_type": "code",
   "execution_count": 179,
   "id": "9e71d23d-a794-4b3e-9e77-611f8ba013f3",
   "metadata": {},
   "outputs": [],
   "source": [
    "# create final feature group \n",
    "\n",
    "truck_eta_fg = fs.get_or_create_feature_group(\n",
    "    name=\"final_data\",\n",
    "    version=2,\n",
    "    description=\"Truck ETA Final Data\",\n",
    "    primary_key=['unique_id'],\n",
    "    event_time='estimated_arrival',\n",
    "    online_enabled=True,\n",
    ")"
   ]
  },
  {
   "cell_type": "code",
   "execution_count": 180,
   "id": "5f9cb30e-19fc-4abf-bbad-d6e7cf92fbca",
   "metadata": {},
   "outputs": [
    {
     "name": "stdout",
     "output_type": "stream",
     "text": [
      "['origin_temp', 'origin_wind_speed', 'origin_precip', 'origin_humidity', 'origin_visibility', 'origin_pressure', 'load_capacity_pounds']\n"
     ]
    }
   ],
   "source": [
    "# find null values \n",
    "na_cols = fs_data.columns[fs_data.isna().any()].tolist()\n",
    "print(na_cols)"
   ]
  },
  {
   "cell_type": "code",
   "execution_count": 181,
   "id": "8d3afb2d-7465-4855-92d6-601dd8719129",
   "metadata": {},
   "outputs": [
    {
     "data": {
      "text/plain": [
       "unique_id                            0\n",
       "truck_id                             0\n",
       "route_id                             0\n",
       "departure_date                       0\n",
       "estimated_arrival                    0\n",
       "delay                                0\n",
       "mean_temp                            0\n",
       "mean_wind_speed                      0\n",
       "mean_precip                          0\n",
       "mean_humidity                        0\n",
       "mean_visibility                      0\n",
       "mean_pressure                        0\n",
       "route_description                    0\n",
       "estimated_arrival_nearest_hour       0\n",
       "departure_date_nearest_hour          0\n",
       "origin_id                            0\n",
       "destination_id                       0\n",
       "distance                             0\n",
       "average_hours                        0\n",
       "origin_temp                         16\n",
       "origin_wind_speed                   16\n",
       "origin_description                   0\n",
       "origin_precip                       16\n",
       "origin_humidity                     16\n",
       "origin_visibility                   16\n",
       "origin_pressure                     16\n",
       "destination_temp                     0\n",
       "destination_wind_speed               0\n",
       "destination_description              0\n",
       "destination_precip                   0\n",
       "destination_humidity                 0\n",
       "destination_visibility               0\n",
       "destination_pressure                 0\n",
       "avg_no_of_vehicles                   0\n",
       "accident                             0\n",
       "truck_age                            0\n",
       "load_capacity_pounds              2416\n",
       "mileage_mpg                          0\n",
       "fuel_type                            0\n",
       "driver_id                            0\n",
       "name                                 0\n",
       "gender                               0\n",
       "age                                  0\n",
       "experience                           0\n",
       "driving_style                        0\n",
       "ratings                              0\n",
       "vehicle_no                           0\n",
       "average_speed_mph                    0\n",
       "dtype: int64"
      ]
     },
     "execution_count": 181,
     "metadata": {},
     "output_type": "execute_result"
    }
   ],
   "source": [
    "fs_data.isna().sum()"
   ]
  },
  {
   "cell_type": "code",
   "execution_count": 182,
   "id": "539818c1-e9ce-4e56-b034-d2a0cbd22380",
   "metadata": {},
   "outputs": [],
   "source": [
    "fs_data['origin_description'] = fs_data['origin_description'].fillna(\"Unknown\") "
   ]
  },
  {
   "cell_type": "code",
   "execution_count": 183,
   "id": "3b631918-6b68-4e2d-a08a-8d9786441d0d",
   "metadata": {},
   "outputs": [
    {
     "name": "stderr",
     "output_type": "stream",
     "text": [
      "Uploading Dataframe: 100.00% |██████████| Rows 49232/49232 | Elapsed Time: 00:39 | Remaining Time: 00:00\n"
     ]
    },
    {
     "name": "stdout",
     "output_type": "stream",
     "text": [
      "Launching job: final_data_2_offline_fg_materialization\n",
      "Job started successfully, you can follow the progress at \n",
      "https://c.app.hopsworks.ai:443/p/1246371/jobs/named/final_data_2_offline_fg_materialization/executions\n"
     ]
    },
    {
     "data": {
      "text/plain": [
       "(Job('final_data_2_offline_fg_materialization', 'SPARK'), None)"
      ]
     },
     "execution_count": 183,
     "metadata": {},
     "output_type": "execute_result"
    }
   ],
   "source": [
    "truck_eta_fg.insert(fs_data)"
   ]
  },
  {
   "cell_type": "code",
   "execution_count": null,
   "id": "408c470e-0cce-4e43-b440-867cb86a8ba0",
   "metadata": {},
   "outputs": [],
   "source": [
    "truck_eta_fg.statistics_config = {\n",
    "    \"enabled\": True,\n",
    "    \"histograms\": True,\n",
    "    \"correlations\": True\n",
    "}\n",
    "\n",
    "truck_eta_fg.update_statistics_config()\n",
    "truck_eta_fg.compute_statistics()"
   ]
  }
 ],
 "metadata": {
  "kernelspec": {
   "display_name": "conda_python3",
   "language": "python",
   "name": "conda_python3"
  },
  "language_info": {
   "codemirror_mode": {
    "name": "ipython",
    "version": 3
   },
   "file_extension": ".py",
   "mimetype": "text/x-python",
   "name": "python",
   "nbconvert_exporter": "python",
   "pygments_lexer": "ipython3",
   "version": "3.10.18"
  }
 },
 "nbformat": 4,
 "nbformat_minor": 5
}
